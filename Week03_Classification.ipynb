{
  "nbformat": 4,
  "nbformat_minor": 0,
  "metadata": {
    "colab": {
      "name": "Week03_Classification",
      "provenance": [],
      "collapsed_sections": [],
      "authorship_tag": "ABX9TyMOBq4XvbAUgKx9R79cLH2Z",
      "include_colab_link": true
    },
    "kernelspec": {
      "name": "python3",
      "display_name": "Python 3"
    }
  },
  "cells": [
    {
      "cell_type": "markdown",
      "metadata": {
        "id": "view-in-github",
        "colab_type": "text"
      },
      "source": [
        "<a href=\"https://colab.research.google.com/github/ch00226855/CMP414765Spring2022/blob/main/Week03_Classification.ipynb\" target=\"_parent\"><img src=\"https://colab.research.google.com/assets/colab-badge.svg\" alt=\"Open In Colab\"/></a>"
      ]
    },
    {
      "cell_type": "markdown",
      "metadata": {
        "id": "H6vX-Hk2X42y"
      },
      "source": [
        "# Week 3 Classification\n",
        "\n",
        "**Reference: Chapter 3**\n",
        "\n",
        "Last week we explored a regression task using primarily our own observation of the data. This week let's look at a classification task, and see how existing machine learning techniques can be applied to solve it."
      ]
    },
    {
      "cell_type": "markdown",
      "metadata": {
        "id": "OUc_40qjYO-G"
      },
      "source": [
        "## Classifying Points on the Plane"
      ]
    },
    {
      "cell_type": "code",
      "metadata": {
        "id": "SpveusEcYNUU"
      },
      "source": [
        "import numpy as np\n",
        "import pandas as pd\n",
        "import matplotlib.pyplot as plt\n",
        "%matplotlib inline"
      ],
      "execution_count": null,
      "outputs": []
    },
    {
      "cell_type": "markdown",
      "metadata": {
        "id": "_5VR_iHVYOHN"
      },
      "source": [
        "### 1. Load the data set"
      ]
    },
    {
      "cell_type": "code",
      "metadata": {
        "id": "TCUPiocsYYjC"
      },
      "source": [
        "url = \"https://raw.githubusercontent.com/empathy87/The-Elements-of-Statistical-Learning-Python-Notebooks/master/data/mixture.txt\"\n",
        "# Open the url in web brower and learn its raw format\n",
        "\n",
        "# Load to Python as a data frame\n",
        "raw_data = pd.read_csv(url)\n",
        "\n",
        "# Display first 5 rows\n",
        "raw_data.head()"
      ],
      "execution_count": null,
      "outputs": []
    },
    {
      "cell_type": "markdown",
      "metadata": {
        "id": "bTUWhwA3YZ39"
      },
      "source": [
        "### 2. Data Exploration"
      ]
    },
    {
      "cell_type": "code",
      "metadata": {
        "id": "-s1H8MakYcPM"
      },
      "source": [
        "# Show the size of the data set\n",
        "raw_data.shape"
      ],
      "execution_count": null,
      "outputs": []
    },
    {
      "cell_type": "code",
      "metadata": {
        "id": "cZv-CfvuYeHE"
      },
      "source": [
        "# Show the data type of each column\n",
        "raw_data.dtypes"
      ],
      "execution_count": null,
      "outputs": []
    },
    {
      "cell_type": "code",
      "metadata": {
        "id": "4t6-RCvOYfG5"
      },
      "source": [
        "# Is there any missing values?\n",
        "raw_data.isnull().sum()"
      ],
      "execution_count": null,
      "outputs": []
    },
    {
      "cell_type": "code",
      "metadata": {
        "id": "KjLIQvLaYgbr"
      },
      "source": [
        "# Example: A data frame with missing values\n",
        "temp = pd.DataFrame({\n",
        "    \"Midterm\": [100, 90, 80],\n",
        "    \"Final\": [80, 90, 100],\n",
        "    \"Grade\": ['A', np.nan, 'A']\n",
        "})\n",
        "temp"
      ],
      "execution_count": null,
      "outputs": []
    },
    {
      "cell_type": "code",
      "metadata": {
        "id": "Mm03syqqYi3U"
      },
      "source": [
        "temp.isnull().sum()"
      ],
      "execution_count": null,
      "outputs": []
    },
    {
      "cell_type": "code",
      "metadata": {
        "id": "QPgyEhi9Y26i"
      },
      "source": [
        "# plot the distribution as histograms\n",
        "numeric_cols = ['x1', 'x2']\n",
        "raw_data[numeric_cols].hist()"
      ],
      "execution_count": null,
      "outputs": []
    },
    {
      "cell_type": "code",
      "metadata": {
        "id": "5At6BXFUYrIP"
      },
      "source": [
        "# x1, x2 are numeric values. What is the distribution of values?\n",
        "\n",
        "raw_data[numeric_cols].describe()"
      ],
      "execution_count": null,
      "outputs": []
    },
    {
      "cell_type": "code",
      "metadata": {
        "id": "F2sqf3rEY02i"
      },
      "source": [
        "# Plot data as points on a 2D plane\n",
        "blue_pts = raw_data[raw_data['y'] == 0]\n",
        "red_pts = raw_data[raw_data['y'] == 1]\n",
        "plt.plot(blue_pts['x1'], blue_pts['x2'], 'b.', label='y = 0')\n",
        "plt.plot(red_pts['x1'], red_pts['x2'], 'r.', label='y = 1')\n",
        "plt.title('Visualization of Data Set')\n",
        "plt.xlabel('x1')\n",
        "plt.ylabel('x2')\n",
        "plt.legend(loc='lower left')\n",
        "plt.savefig('Week3Fig.png')"
      ],
      "execution_count": null,
      "outputs": []
    },
    {
      "cell_type": "markdown",
      "metadata": {
        "id": "3fHUMc6iY70N"
      },
      "source": [
        "### 3. Build a Classification Model\n",
        "The `sklearn` package provides implementations of many existing machine elarning techniques. Today we are going to apply **support vector machine (SVM)** and **k-nearest-neighbors** method to build two different classification models."
      ]
    },
    {
      "cell_type": "markdown",
      "metadata": {
        "id": "kQFmd8kbY_3y"
      },
      "source": [
        "### Attempt 1: Linear SVM\n",
        "\n",
        "![Illustration of SVM](https://upload.wikimedia.org/wikipedia/commons/thumb/7/72/SVM_margin.png/300px-SVM_margin.png)"
      ]
    },
    {
      "cell_type": "code",
      "metadata": {
        "id": "N6e7Nu7HZDJ6"
      },
      "source": [
        "# SVM model\n",
        "from sklearn.svm import LinearSVC\n",
        "model_svm = LinearSVC()\n",
        "input_cols = ['x1', 'x2']\n",
        "model_svm.fit(raw_data[input_cols], raw_data['y'])"
      ],
      "execution_count": null,
      "outputs": []
    },
    {
      "cell_type": "code",
      "metadata": {
        "id": "Fb-AxIHLZFKF"
      },
      "source": [
        "# Predict the class of point(-2, 2) and (3, -1)\n",
        "test_data = pd.DataFrame({\n",
        "    'x1': [-2, 3, 0],\n",
        "    'x2': [2, -1, -2]\n",
        "})\n",
        "test_data"
      ],
      "execution_count": null,
      "outputs": []
    },
    {
      "cell_type": "code",
      "metadata": {
        "id": "_v_KlC9CZGnk"
      },
      "source": [
        "predictions = model_svm.predict(test_data[['x1', 'x2']])\n",
        "print(predictions)"
      ],
      "execution_count": null,
      "outputs": []
    },
    {
      "cell_type": "code",
      "metadata": {
        "id": "frdmUdrlZHyN"
      },
      "source": [
        "# Visualize the decision region\n",
        "plot_data = pd.DataFrame(columns=['x1', 'x2'])\n",
        "x1_coordinates = np.linspace(-3, 4, 100) # sample 100 points per row\n",
        "x2_coordinates = np.linspace(-2, 3, 100) # sample 100 rows (total: 100 * 100 = 10,000 points)\n",
        "\n",
        "row_index = 0\n",
        "for x1 in x1_coordinates:\n",
        "    for x2 in x2_coordinates:\n",
        "        plot_data.loc[row_index, :] = [x1, x2]\n",
        "        row_index += 1\n",
        "plot_data.head()"
      ],
      "execution_count": null,
      "outputs": []
    },
    {
      "cell_type": "code",
      "source": [
        "# It is faster to create plot_data using functions from numpy\n",
        "x1_data, x2_data = np.meshgrid(x1_coordinates, x2_coordinates)\n",
        "print(x1_data[:5, :5])\n",
        "print(x2_data[:5, :5])\n",
        "\n",
        "x1_data = np.array(x1_data).reshape([10000])\n",
        "print(x1_data[:5])\n",
        "\n",
        "x2_data = np.array(x2_data).reshape([10000])\n",
        "\n",
        "plot_data = pd.DataFrame()\n",
        "plot_data['x1'] = x1_data\n",
        "plot_data['x2'] = x2_data\n",
        "plot_data"
      ],
      "metadata": {
        "id": "7k2q8QdLz1eM"
      },
      "execution_count": null,
      "outputs": []
    },
    {
      "cell_type": "code",
      "metadata": {
        "id": "nRx0CZqXZJDb"
      },
      "source": [
        "plot_data['prediction'] = model_svm.predict(plot_data[['x1', 'x2']])\n",
        "plot_data.head()"
      ],
      "execution_count": null,
      "outputs": []
    },
    {
      "cell_type": "code",
      "metadata": {
        "id": "P_8UBBfUZMhH"
      },
      "source": [
        "test_data_blue = plot_data[plot_data['prediction'] == 0]\n",
        "test_data_red = plot_data[plot_data['prediction'] == 1]\n",
        "plt.plot(test_data_blue['x1'], test_data_blue['x2'], 'b.', alpha=0.1)\n",
        "plt.plot(test_data_red['x1'], test_data_red['x2'], 'r.', alpha=0.1)\n",
        "plt.plot(blue_pts['x1'], blue_pts['x2'], 'b^', label='y = 0')\n",
        "plt.plot(red_pts['x1'], red_pts['x2'], 'r^', label='y = 1')"
      ],
      "execution_count": null,
      "outputs": []
    },
    {
      "cell_type": "markdown",
      "metadata": {
        "id": "Tpa62q5gZO0Y"
      },
      "source": [
        "**Discussion:** How to evaluate this model?"
      ]
    },
    {
      "cell_type": "code",
      "metadata": {
        "id": "vyrVYkfOZSAE"
      },
      "source": [
        "# Split the data set into training set (80%) and test set (20%), \n",
        "# and build a SVM model on the new training set\n",
        "from sklearn.model_selection import train_test_split\n",
        "training_data, test_data = train_test_split(raw_data, test_size=0.2)"
      ],
      "execution_count": null,
      "outputs": []
    },
    {
      "cell_type": "code",
      "metadata": {
        "id": "OYhJbu0uZT39"
      },
      "source": [
        "# Display the shape of training set\n",
        "\n",
        "training_data.shape"
      ],
      "execution_count": null,
      "outputs": []
    },
    {
      "cell_type": "code",
      "metadata": {
        "id": "artQQVbIZWB3"
      },
      "source": [
        "# Display the shape of test set\n",
        "\n",
        "test_data.shape"
      ],
      "execution_count": null,
      "outputs": []
    },
    {
      "cell_type": "code",
      "metadata": {
        "id": "z_JE4ndJZXKO"
      },
      "source": [
        "# Use the training set to train a SVM classifier.\n",
        "\n",
        "model_svmt = LinearSVC()\n",
        "input_cols = ['x1', 'x2']\n",
        "model_svmt.fit(training_data[input_cols], training_data['y'])"
      ],
      "execution_count": null,
      "outputs": []
    },
    {
      "cell_type": "code",
      "metadata": {
        "id": "Yq4yH3bLZhb7"
      },
      "source": [
        "# Apply this model to make predictions on the test set.\n",
        "predictions = model_svmt.predict(test_data[['x1', 'x2']])\n",
        "print(predictions)"
      ],
      "execution_count": null,
      "outputs": []
    },
    {
      "cell_type": "code",
      "metadata": {
        "id": "iPcyyozSDMu_"
      },
      "source": [
        "# Append the predictions to the test data frame\n",
        "test_data['prediction'] = predictions\n",
        "test_data.head()"
      ],
      "execution_count": null,
      "outputs": []
    },
    {
      "cell_type": "code",
      "metadata": {
        "id": "OhYZPvG4ZnFC"
      },
      "source": [
        "# Calculate the classification error on the test set\n",
        "from sklearn.metrics import accuracy_score\n",
        "accuracy_score(test_data['y'], test_data['prediction'])"
      ],
      "execution_count": null,
      "outputs": []
    },
    {
      "cell_type": "markdown",
      "metadata": {
        "id": "WgiiExJgZn6Y"
      },
      "source": [
        "### Attempt 2:  3-Nearest-Neighbor\n",
        "![knn](data:image/png;base64,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)"
      ]
    },
    {
      "cell_type": "code",
      "metadata": {
        "id": "62SoSigwZpn7"
      },
      "source": [
        "# kNN model\n",
        "from sklearn.neighbors import KNeighborsClassifier\n",
        "model_3nn = KNeighborsClassifier(n_neighbors=3)\n",
        "model_3nn.fit(raw_data[['x1', 'x2']], raw_data['y'])"
      ],
      "execution_count": null,
      "outputs": []
    },
    {
      "cell_type": "code",
      "metadata": {
        "id": "qMqY2JtUZrG9"
      },
      "source": [
        "# How to evaluate the kNN model?\n",
        "\n",
        "# Visualize the decision region.\n",
        "\n",
        "# 1. create a 100 * 100 grid of points to cover the entire plane.\n",
        "plot_data = pd.DataFrame()\n",
        "x1_coordinates = np.linspace(-3, 4, 100) # sample 100 points per row\n",
        "x2_coordinates = np.linspace(-2, 3, 100) # sample 100 rows (total: 100 * 100 = 10,000 points)\n",
        "for x1 in x1_coordinates:\n",
        "    for x2 in x2_coordinates:\n",
        "        plot_data = plot_data.append({'x1': x1,\n",
        "                               'x2': x2},\n",
        "                              ignore_index=True)\n",
        "plot_data\n",
        "\n",
        "# 2. use the kNN model to make a prediction on each of the 10,000 points.\n",
        "plot_data['prediction'] = model_3nn.predict(plot_data[input_cols])\n",
        "plot_data.head()"
      ],
      "execution_count": null,
      "outputs": []
    },
    {
      "cell_type": "code",
      "metadata": {
        "id": "omRwUvIAaL4h"
      },
      "source": [
        "# 3. plot these points: points classified as 0 should be visualized as blue points,\n",
        "#   points classified as 1 should be visualized as red points.\n",
        "\n",
        "test_data_blue = plot_data[plot_data['prediction'] == 0]\n",
        "test_data_red = plot_data[plot_data['prediction'] == 1]\n",
        "plt.plot(test_data_blue['x1'], test_data_blue['x2'], 'b.', alpha=0.1)\n",
        "plt.plot(test_data_red['x1'], test_data_red['x2'], 'r.', alpha=0.1)\n",
        "plt.plot(blue_pts['x1'], blue_pts['x2'], 'b^', label='y = 0')\n",
        "plt.plot(red_pts['x1'], red_pts['x2'], 'r^', label='y = 1')"
      ],
      "execution_count": null,
      "outputs": []
    },
    {
      "cell_type": "code",
      "metadata": {
        "id": "5XLwI-ISJd8E"
      },
      "source": [
        "# Calculate the accuracy score on the test set.\n",
        "\n",
        "# Split the dataset into training set and test set.\n",
        "# Set the size of test set to be 20%.\n",
        "\n",
        "# train_test_split\n",
        "training_data, test_data = train_test_split(raw_data, test_size=0.2)"
      ],
      "execution_count": null,
      "outputs": []
    },
    {
      "cell_type": "code",
      "metadata": {
        "id": "N2xYMMqFKsHi"
      },
      "source": [
        "# Train the 3-nearest-neighbor model on the training set.\n",
        "model_3nn_2 = KNeighborsClassifier(n_neighbors=3)\n",
        "model_3nn_2.fit(training_data[input_cols], training_data['y'])"
      ],
      "execution_count": null,
      "outputs": []
    },
    {
      "cell_type": "code",
      "metadata": {
        "id": "OOQtKNK0KxFb"
      },
      "source": [
        "# Find the model's predictions on the test set.\n",
        "\n",
        "test_data['prediction'] = model_3nn_2.predict(test_data[input_cols])\n",
        "test_data.head()"
      ],
      "execution_count": null,
      "outputs": []
    },
    {
      "cell_type": "code",
      "metadata": {
        "id": "sxvYD126K0RO"
      },
      "source": [
        "# Calculate the accuracy score on the test set.\n",
        "# accuracy_score()\n",
        "accuracy_score(test_data['y'], test_data['prediction'])"
      ],
      "execution_count": null,
      "outputs": []
    },
    {
      "cell_type": "code",
      "metadata": {
        "id": "1NuSHVGLOVGH"
      },
      "source": [
        ""
      ],
      "execution_count": null,
      "outputs": []
    }
  ]
}