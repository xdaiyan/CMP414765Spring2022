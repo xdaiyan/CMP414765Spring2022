{
  "cells": [
    {
      "cell_type": "markdown",
      "metadata": {
        "colab_type": "text",
        "id": "view-in-github"
      },
      "source": [
        "<a href=\"https://colab.research.google.com/github/ch00226855/CMP414765Spring2022/blob/main/HW3_KNNAndLinearRegression.ipynb\" target=\"_parent\"><img src=\"https://colab.research.google.com/assets/colab-badge.svg\" alt=\"Open In Colab\"/></a>"
      ]
    },
    {
      "cell_type": "markdown",
      "metadata": {
        "id": "pMsNlMeyDHDR"
      },
      "source": [
        "# Homework 3\n",
        "\n",
        "In this homework assignment, we will further explore the **k-nearest-neighbor (kNN)** model for classification and the **linear regression** model for regression tasks.\n",
        "\n",
        "Please submit your solutions as a PDF file to Blackboard by **Wednesday, March 16th at 11:59 PM**."
      ]
    },
    {
      "cell_type": "code",
      "execution_count": 8,
      "metadata": {
        "id": "6pnaId6iDOkQ"
      },
      "outputs": [],
      "source": [
        "import numpy as np\n",
        "import pandas as pd\n",
        "import matplotlib.pyplot as plt\n",
        "import sklearn\n",
        "from sklearn.linear_model import LinearRegression\n",
        "from sklearn.svm import LinearSVC\n",
        "from sklearn.model_selection import train_test_split\n",
        "from sklearn.metrics import mean_squared_error\n",
        "from sklearn import datasets\n",
        "from sklearn.metrics import accuracy_score\n",
        "from sklearn.metrics import confusion_matrix\n",
        "from sklearn.neighbors import KNeighborsClassifier\n",
        "%matplotlib inline"
      ]
    },
    {
      "cell_type": "markdown",
      "metadata": {
        "id": "Rlf0JCEQDOqF"
      },
      "source": [
        "## Part 1: kNN Method\n",
        "Evaluate the kNN method with $k=1, 5, 25$  on the dataset used in Week 3 notebook."
      ]
    },
    {
      "cell_type": "code",
      "execution_count": 10,
      "metadata": {
        "colab": {
          "base_uri": "https://localhost:8080/",
          "height": 206
        },
        "id": "Q29QNCyeD-G5",
        "outputId": "7da97264-9613-44be-9513-32cbd3e64236"
      },
      "outputs": [
        {
          "data": {
            "text/html": [
              "<div>\n",
              "<style scoped>\n",
              "    .dataframe tbody tr th:only-of-type {\n",
              "        vertical-align: middle;\n",
              "    }\n",
              "\n",
              "    .dataframe tbody tr th {\n",
              "        vertical-align: top;\n",
              "    }\n",
              "\n",
              "    .dataframe thead th {\n",
              "        text-align: right;\n",
              "    }\n",
              "</style>\n",
              "<table border=\"1\" class=\"dataframe\">\n",
              "  <thead>\n",
              "    <tr style=\"text-align: right;\">\n",
              "      <th></th>\n",
              "      <th>x1</th>\n",
              "      <th>x2</th>\n",
              "      <th>y</th>\n",
              "    </tr>\n",
              "  </thead>\n",
              "  <tbody>\n",
              "    <tr>\n",
              "      <th>0</th>\n",
              "      <td>2.526093</td>\n",
              "      <td>0.321050</td>\n",
              "      <td>0</td>\n",
              "    </tr>\n",
              "    <tr>\n",
              "      <th>1</th>\n",
              "      <td>0.366954</td>\n",
              "      <td>0.031462</td>\n",
              "      <td>0</td>\n",
              "    </tr>\n",
              "    <tr>\n",
              "      <th>2</th>\n",
              "      <td>0.768219</td>\n",
              "      <td>0.717486</td>\n",
              "      <td>0</td>\n",
              "    </tr>\n",
              "    <tr>\n",
              "      <th>3</th>\n",
              "      <td>0.693436</td>\n",
              "      <td>0.777194</td>\n",
              "      <td>0</td>\n",
              "    </tr>\n",
              "    <tr>\n",
              "      <th>4</th>\n",
              "      <td>-0.019837</td>\n",
              "      <td>0.867254</td>\n",
              "      <td>0</td>\n",
              "    </tr>\n",
              "  </tbody>\n",
              "</table>\n",
              "</div>"
            ],
            "text/plain": [
              "         x1        x2  y\n",
              "0  2.526093  0.321050  0\n",
              "1  0.366954  0.031462  0\n",
              "2  0.768219  0.717486  0\n",
              "3  0.693436  0.777194  0\n",
              "4 -0.019837  0.867254  0"
            ]
          },
          "execution_count": 10,
          "metadata": {},
          "output_type": "execute_result"
        }
      ],
      "source": [
        "url = \"https://raw.githubusercontent.com/empathy87/The-Elements-of-Statistical-Learning-Python-Notebooks/master/data/mixture.txt\"\n",
        "data = pd.read_csv(url)\n",
        "model_svm = LinearRegression()\n",
        "input_col = ['x1', 'x2']\n",
        "data.head()"
      ]
    },
    {
      "cell_type": "markdown",
      "metadata": {
        "id": "VMIBXr5LEEPS"
      },
      "source": [
        "1. Split the data into 80% training data and 20% test data."
      ]
    },
    {
      "cell_type": "code",
      "execution_count": 6,
      "metadata": {
        "id": "I-7_A_mzENQb"
      },
      "outputs": [
        {
          "data": {
            "text/html": [
              "<div>\n",
              "<style scoped>\n",
              "    .dataframe tbody tr th:only-of-type {\n",
              "        vertical-align: middle;\n",
              "    }\n",
              "\n",
              "    .dataframe tbody tr th {\n",
              "        vertical-align: top;\n",
              "    }\n",
              "\n",
              "    .dataframe thead th {\n",
              "        text-align: right;\n",
              "    }\n",
              "</style>\n",
              "<table border=\"1\" class=\"dataframe\">\n",
              "  <thead>\n",
              "    <tr style=\"text-align: right;\">\n",
              "      <th></th>\n",
              "      <th>x1</th>\n",
              "      <th>x2</th>\n",
              "      <th>y</th>\n",
              "    </tr>\n",
              "  </thead>\n",
              "  <tbody>\n",
              "    <tr>\n",
              "      <th>164</th>\n",
              "      <td>-0.570430</td>\n",
              "      <td>1.090314</td>\n",
              "      <td>1</td>\n",
              "    </tr>\n",
              "    <tr>\n",
              "      <th>184</th>\n",
              "      <td>-0.264757</td>\n",
              "      <td>1.491832</td>\n",
              "      <td>1</td>\n",
              "    </tr>\n",
              "    <tr>\n",
              "      <th>15</th>\n",
              "      <td>1.279560</td>\n",
              "      <td>-0.271033</td>\n",
              "      <td>0</td>\n",
              "    </tr>\n",
              "    <tr>\n",
              "      <th>157</th>\n",
              "      <td>-0.487293</td>\n",
              "      <td>0.979110</td>\n",
              "      <td>1</td>\n",
              "    </tr>\n",
              "    <tr>\n",
              "      <th>57</th>\n",
              "      <td>-0.077114</td>\n",
              "      <td>0.505122</td>\n",
              "      <td>0</td>\n",
              "    </tr>\n",
              "    <tr>\n",
              "      <th>153</th>\n",
              "      <td>2.887947</td>\n",
              "      <td>0.020693</td>\n",
              "      <td>1</td>\n",
              "    </tr>\n",
              "    <tr>\n",
              "      <th>70</th>\n",
              "      <td>1.053189</td>\n",
              "      <td>-0.903566</td>\n",
              "      <td>0</td>\n",
              "    </tr>\n",
              "    <tr>\n",
              "      <th>83</th>\n",
              "      <td>1.816825</td>\n",
              "      <td>-1.161743</td>\n",
              "      <td>0</td>\n",
              "    </tr>\n",
              "    <tr>\n",
              "      <th>198</th>\n",
              "      <td>0.008131</td>\n",
              "      <td>2.242264</td>\n",
              "      <td>1</td>\n",
              "    </tr>\n",
              "    <tr>\n",
              "      <th>125</th>\n",
              "      <td>1.623802</td>\n",
              "      <td>0.240937</td>\n",
              "      <td>1</td>\n",
              "    </tr>\n",
              "    <tr>\n",
              "      <th>42</th>\n",
              "      <td>1.576977</td>\n",
              "      <td>-0.744934</td>\n",
              "      <td>0</td>\n",
              "    </tr>\n",
              "    <tr>\n",
              "      <th>105</th>\n",
              "      <td>-0.400762</td>\n",
              "      <td>0.585844</td>\n",
              "      <td>1</td>\n",
              "    </tr>\n",
              "    <tr>\n",
              "      <th>32</th>\n",
              "      <td>1.084827</td>\n",
              "      <td>0.102975</td>\n",
              "      <td>0</td>\n",
              "    </tr>\n",
              "    <tr>\n",
              "      <th>7</th>\n",
              "      <td>-0.912620</td>\n",
              "      <td>1.216216</td>\n",
              "      <td>0</td>\n",
              "    </tr>\n",
              "    <tr>\n",
              "      <th>25</th>\n",
              "      <td>1.040697</td>\n",
              "      <td>-0.085188</td>\n",
              "      <td>0</td>\n",
              "    </tr>\n",
              "    <tr>\n",
              "      <th>13</th>\n",
              "      <td>-0.053431</td>\n",
              "      <td>0.484102</td>\n",
              "      <td>0</td>\n",
              "    </tr>\n",
              "    <tr>\n",
              "      <th>67</th>\n",
              "      <td>0.659906</td>\n",
              "      <td>-1.241637</td>\n",
              "      <td>0</td>\n",
              "    </tr>\n",
              "    <tr>\n",
              "      <th>40</th>\n",
              "      <td>1.520914</td>\n",
              "      <td>-0.742851</td>\n",
              "      <td>0</td>\n",
              "    </tr>\n",
              "    <tr>\n",
              "      <th>127</th>\n",
              "      <td>0.488747</td>\n",
              "      <td>2.142042</td>\n",
              "      <td>1</td>\n",
              "    </tr>\n",
              "    <tr>\n",
              "      <th>170</th>\n",
              "      <td>0.571872</td>\n",
              "      <td>1.577942</td>\n",
              "      <td>1</td>\n",
              "    </tr>\n",
              "    <tr>\n",
              "      <th>145</th>\n",
              "      <td>1.058349</td>\n",
              "      <td>1.489830</td>\n",
              "      <td>1</td>\n",
              "    </tr>\n",
              "    <tr>\n",
              "      <th>51</th>\n",
              "      <td>0.323207</td>\n",
              "      <td>0.287959</td>\n",
              "      <td>0</td>\n",
              "    </tr>\n",
              "    <tr>\n",
              "      <th>2</th>\n",
              "      <td>0.768219</td>\n",
              "      <td>0.717486</td>\n",
              "      <td>0</td>\n",
              "    </tr>\n",
              "    <tr>\n",
              "      <th>95</th>\n",
              "      <td>0.434501</td>\n",
              "      <td>-0.064545</td>\n",
              "      <td>0</td>\n",
              "    </tr>\n",
              "    <tr>\n",
              "      <th>71</th>\n",
              "      <td>1.715233</td>\n",
              "      <td>-1.014727</td>\n",
              "      <td>0</td>\n",
              "    </tr>\n",
              "    <tr>\n",
              "      <th>135</th>\n",
              "      <td>0.433583</td>\n",
              "      <td>1.261365</td>\n",
              "      <td>1</td>\n",
              "    </tr>\n",
              "    <tr>\n",
              "      <th>60</th>\n",
              "      <td>0.325769</td>\n",
              "      <td>0.347996</td>\n",
              "      <td>0</td>\n",
              "    </tr>\n",
              "    <tr>\n",
              "      <th>191</th>\n",
              "      <td>-1.169259</td>\n",
              "      <td>0.812968</td>\n",
              "      <td>1</td>\n",
              "    </tr>\n",
              "    <tr>\n",
              "      <th>174</th>\n",
              "      <td>1.244438</td>\n",
              "      <td>0.852323</td>\n",
              "      <td>1</td>\n",
              "    </tr>\n",
              "    <tr>\n",
              "      <th>50</th>\n",
              "      <td>2.929864</td>\n",
              "      <td>0.738893</td>\n",
              "      <td>0</td>\n",
              "    </tr>\n",
              "    <tr>\n",
              "      <th>160</th>\n",
              "      <td>1.385772</td>\n",
              "      <td>1.201222</td>\n",
              "      <td>1</td>\n",
              "    </tr>\n",
              "    <tr>\n",
              "      <th>66</th>\n",
              "      <td>2.290042</td>\n",
              "      <td>0.137390</td>\n",
              "      <td>0</td>\n",
              "    </tr>\n",
              "    <tr>\n",
              "      <th>31</th>\n",
              "      <td>1.071866</td>\n",
              "      <td>-1.643018</td>\n",
              "      <td>0</td>\n",
              "    </tr>\n",
              "    <tr>\n",
              "      <th>14</th>\n",
              "      <td>0.687618</td>\n",
              "      <td>0.705005</td>\n",
              "      <td>0</td>\n",
              "    </tr>\n",
              "    <tr>\n",
              "      <th>89</th>\n",
              "      <td>2.624578</td>\n",
              "      <td>-1.406259</td>\n",
              "      <td>0</td>\n",
              "    </tr>\n",
              "    <tr>\n",
              "      <th>82</th>\n",
              "      <td>2.576843</td>\n",
              "      <td>-1.435682</td>\n",
              "      <td>0</td>\n",
              "    </tr>\n",
              "    <tr>\n",
              "      <th>126</th>\n",
              "      <td>-2.169201</td>\n",
              "      <td>2.075904</td>\n",
              "      <td>1</td>\n",
              "    </tr>\n",
              "    <tr>\n",
              "      <th>178</th>\n",
              "      <td>1.436278</td>\n",
              "      <td>1.174771</td>\n",
              "      <td>1</td>\n",
              "    </tr>\n",
              "    <tr>\n",
              "      <th>35</th>\n",
              "      <td>0.129986</td>\n",
              "      <td>0.544178</td>\n",
              "      <td>0</td>\n",
              "    </tr>\n",
              "    <tr>\n",
              "      <th>17</th>\n",
              "      <td>2.813039</td>\n",
              "      <td>1.167760</td>\n",
              "      <td>0</td>\n",
              "    </tr>\n",
              "  </tbody>\n",
              "</table>\n",
              "</div>"
            ],
            "text/plain": [
              "           x1        x2  y\n",
              "164 -0.570430  1.090314  1\n",
              "184 -0.264757  1.491832  1\n",
              "15   1.279560 -0.271033  0\n",
              "157 -0.487293  0.979110  1\n",
              "57  -0.077114  0.505122  0\n",
              "153  2.887947  0.020693  1\n",
              "70   1.053189 -0.903566  0\n",
              "83   1.816825 -1.161743  0\n",
              "198  0.008131  2.242264  1\n",
              "125  1.623802  0.240937  1\n",
              "42   1.576977 -0.744934  0\n",
              "105 -0.400762  0.585844  1\n",
              "32   1.084827  0.102975  0\n",
              "7   -0.912620  1.216216  0\n",
              "25   1.040697 -0.085188  0\n",
              "13  -0.053431  0.484102  0\n",
              "67   0.659906 -1.241637  0\n",
              "40   1.520914 -0.742851  0\n",
              "127  0.488747  2.142042  1\n",
              "170  0.571872  1.577942  1\n",
              "145  1.058349  1.489830  1\n",
              "51   0.323207  0.287959  0\n",
              "2    0.768219  0.717486  0\n",
              "95   0.434501 -0.064545  0\n",
              "71   1.715233 -1.014727  0\n",
              "135  0.433583  1.261365  1\n",
              "60   0.325769  0.347996  0\n",
              "191 -1.169259  0.812968  1\n",
              "174  1.244438  0.852323  1\n",
              "50   2.929864  0.738893  0\n",
              "160  1.385772  1.201222  1\n",
              "66   2.290042  0.137390  0\n",
              "31   1.071866 -1.643018  0\n",
              "14   0.687618  0.705005  0\n",
              "89   2.624578 -1.406259  0\n",
              "82   2.576843 -1.435682  0\n",
              "126 -2.169201  2.075904  1\n",
              "178  1.436278  1.174771  1\n",
              "35   0.129986  0.544178  0\n",
              "17   2.813039  1.167760  0"
            ]
          },
          "execution_count": 6,
          "metadata": {},
          "output_type": "execute_result"
        }
      ],
      "source": [
        "training_data, test_data = train_test_split(data, test_size=0.2)\n",
        "test_data"
      ]
    },
    {
      "cell_type": "markdown",
      "metadata": {
        "id": "QLWADy8XEO-s"
      },
      "source": [
        "2. Train a kNN model with $k=1$ on the training data, and calculate its prediction accuracy on the test data."
      ]
    },
    {
      "cell_type": "code",
      "execution_count": 14,
      "metadata": {
        "id": "YxqtobWnEZPD"
      },
      "outputs": [
        {
          "data": {
            "text/plain": [
              "1.0"
            ]
          },
          "execution_count": 14,
          "metadata": {},
          "output_type": "execute_result"
        }
      ],
      "source": [
        "model_1nn = KNeighborsClassifier(n_neighbors=1)\n",
        "model_1nn.fit(data[['x1', 'x2']], data['y'])\n",
        "data['prediction'] = model_1nn.predict(data[input_col])\n",
        "accuracy_score(data['y'], data['prediction'])"
      ]
    },
    {
      "cell_type": "markdown",
      "metadata": {
        "id": "Ew5bLMgaEaDa"
      },
      "source": [
        "3. Train a kNN model with $k=5$ on the training data, and calculate its prediction accuracy on the test data."
      ]
    },
    {
      "cell_type": "code",
      "execution_count": 15,
      "metadata": {
        "id": "B4TNqqlAEeJH"
      },
      "outputs": [
        {
          "data": {
            "text/plain": [
              "0.87"
            ]
          },
          "execution_count": 15,
          "metadata": {},
          "output_type": "execute_result"
        }
      ],
      "source": [
        "model_5nn = KNeighborsClassifier(n_neighbors=5)\n",
        "model_5nn.fit(data[['x1', 'x2']], data['y'])\n",
        "data['prediction_5'] = model_5nn.predict(data[input_col])\n",
        "accuracy_score(data['y'], data['prediction_5'])"
      ]
    },
    {
      "cell_type": "markdown",
      "metadata": {
        "id": "BDAA7PLhEem2"
      },
      "source": [
        "4. Train a kNN model with $k=50$ on the training data, and calculate its prediction accuracy on the test data."
      ]
    },
    {
      "cell_type": "code",
      "execution_count": 16,
      "metadata": {
        "id": "JsYURLtIEhBU"
      },
      "outputs": [
        {
          "data": {
            "text/plain": [
              "0.81"
            ]
          },
          "execution_count": 16,
          "metadata": {},
          "output_type": "execute_result"
        }
      ],
      "source": [
        "model_50nn = KNeighborsClassifier(n_neighbors=50)\n",
        "model_50nn.fit(data[['x1', 'x2']], data['y'])\n",
        "data['prediction_50'] = model_50nn.predict(data[input_col])\n",
        "accuracy_score(data['y'], data['prediction_50'])"
      ]
    },
    {
      "cell_type": "markdown",
      "metadata": {
        "id": "Pok7Woy2EhXS"
      },
      "source": [
        "5. Which k value give the best accuracy score? Can you explain why?\n",
        "\n",
        "Answer: 1 gave the best K value because it is just assigned to the class of the nearest neighbor."
      ]
    },
    {
      "cell_type": "markdown",
      "metadata": {
        "id": "Nb-T8FtoEodp"
      },
      "source": [
        "## Part 2: Linear Regression\n",
        "\n",
        "Train a linear regression model using the normal equation and verify that the results coincide with the results from `sklearn`.\n",
        "\n",
        "We will use the advertisement revenue data used in Week 5 and build a linear regression model on `radio` and `sales`."
      ]
    },
    {
      "cell_type": "code",
      "execution_count": 17,
      "metadata": {
        "colab": {
          "base_uri": "https://localhost:8080/",
          "height": 206
        },
        "id": "dr_H8eZ7FH79",
        "outputId": "a7e3285a-2261-45f8-87dd-d75b9eb0b9f0"
      },
      "outputs": [
        {
          "data": {
            "text/html": [
              "<div>\n",
              "<style scoped>\n",
              "    .dataframe tbody tr th:only-of-type {\n",
              "        vertical-align: middle;\n",
              "    }\n",
              "\n",
              "    .dataframe tbody tr th {\n",
              "        vertical-align: top;\n",
              "    }\n",
              "\n",
              "    .dataframe thead th {\n",
              "        text-align: right;\n",
              "    }\n",
              "</style>\n",
              "<table border=\"1\" class=\"dataframe\">\n",
              "  <thead>\n",
              "    <tr style=\"text-align: right;\">\n",
              "      <th></th>\n",
              "      <th>TV</th>\n",
              "      <th>radio</th>\n",
              "      <th>newspaper</th>\n",
              "      <th>sales</th>\n",
              "    </tr>\n",
              "  </thead>\n",
              "  <tbody>\n",
              "    <tr>\n",
              "      <th>1</th>\n",
              "      <td>230.1</td>\n",
              "      <td>37.8</td>\n",
              "      <td>69.2</td>\n",
              "      <td>22.1</td>\n",
              "    </tr>\n",
              "    <tr>\n",
              "      <th>2</th>\n",
              "      <td>44.5</td>\n",
              "      <td>39.3</td>\n",
              "      <td>45.1</td>\n",
              "      <td>10.4</td>\n",
              "    </tr>\n",
              "    <tr>\n",
              "      <th>3</th>\n",
              "      <td>17.2</td>\n",
              "      <td>45.9</td>\n",
              "      <td>69.3</td>\n",
              "      <td>9.3</td>\n",
              "    </tr>\n",
              "    <tr>\n",
              "      <th>4</th>\n",
              "      <td>151.5</td>\n",
              "      <td>41.3</td>\n",
              "      <td>58.5</td>\n",
              "      <td>18.5</td>\n",
              "    </tr>\n",
              "    <tr>\n",
              "      <th>5</th>\n",
              "      <td>180.8</td>\n",
              "      <td>10.8</td>\n",
              "      <td>58.4</td>\n",
              "      <td>12.9</td>\n",
              "    </tr>\n",
              "  </tbody>\n",
              "</table>\n",
              "</div>"
            ],
            "text/plain": [
              "      TV  radio  newspaper  sales\n",
              "1  230.1   37.8       69.2   22.1\n",
              "2   44.5   39.3       45.1   10.4\n",
              "3   17.2   45.9       69.3    9.3\n",
              "4  151.5   41.3       58.5   18.5\n",
              "5  180.8   10.8       58.4   12.9"
            ]
          },
          "execution_count": 17,
          "metadata": {},
          "output_type": "execute_result"
        }
      ],
      "source": [
        "url = \"https://www.statlearning.com/s/Advertising.csv\"\n",
        "advertising = pd.read_csv(url, index_col=0)\n",
        "advertising.head()"
      ]
    },
    {
      "cell_type": "markdown",
      "metadata": {
        "id": "xH7DG5ekFnc3"
      },
      "source": [
        "1. Split the data into 85% training data and 15% test data."
      ]
    },
    {
      "cell_type": "code",
      "execution_count": 18,
      "metadata": {
        "id": "dACIMRSbFnCC"
      },
      "outputs": [],
      "source": [
        "train, test = train_test_split(advertising, test_size=0.15)"
      ]
    },
    {
      "cell_type": "markdown",
      "metadata": {
        "id": "8wh3s8N3FZAw"
      },
      "source": [
        "2. Build a linear regression model that predicts `sales` with the `radio` feature using `sklearn`. Display the model parameters and its test MSE."
      ]
    },
    {
      "cell_type": "code",
      "execution_count": 28,
      "metadata": {
        "id": "506Gs3LoFllO"
      },
      "outputs": [
        {
          "data": {
            "text/plain": [
              "[<matplotlib.lines.Line2D at 0x22ea9b0b700>]"
            ]
          },
          "execution_count": 28,
          "metadata": {},
          "output_type": "execute_result"
        },
        {
          "data": {
            "image/png": "[encoded data removed]",
            "text/plain": [
              "<Figure size 432x288 with 1 Axes>"
            ]
          },
          "metadata": {
            "needs_background": "light"
          },
          "output_type": "display_data"
        }
      ],
      "source": [
        "model = LinearRegression()\n",
        "model.fit(advertising[['radio']], advertising[['sales']])\n",
        "m = model.coef_[0, 0]\n",
        "b = model.intercept_[0]\n",
        "plt.plot(advertising.radio, advertising.sales, 'r.')\n",
        "x_coord = np.array([0, 50])\n",
        "y_coord = x_coord * m + b\n",
        "plt.plot(x_coord, y_coord, 'b-')"
      ]
    },
    {
      "cell_type": "code",
      "execution_count": 44,
      "metadata": {},
      "outputs": [
        {
          "data": {
            "text/plain": [
              "59347.20869593942"
            ]
          },
          "execution_count": 44,
          "metadata": {},
          "output_type": "execute_result"
        }
      ],
      "source": [
        "# MSE\n",
        "beta0 = m\n",
        "beta1 = b\n",
        "y_pred = beta0 + beta1 * advertising.radio\n",
        "mean_squared_error(advertising.sales, y_pred)"
      ]
    },
    {
      "cell_type": "markdown",
      "metadata": {
        "id": "q051UAoEF8rH"
      },
      "source": [
        "3. Calculate the parameter values with the normal equation. These values should be the same as the values shown in Step 2."
      ]
    },
    {
      "cell_type": "code",
      "execution_count": 35,
      "metadata": {
        "id": "jT8WRRmNGKTN"
      },
      "outputs": [
        {
          "data": {
            "text/plain": [
              "array([[9.3116381 ],\n",
              "       [0.20249578]])"
            ]
          },
          "execution_count": 35,
          "metadata": {},
          "output_type": "execute_result"
        }
      ],
      "source": [
        "X = np.hstack([np.ones([len(advertising), 1]), advertising[['radio']].values])\n",
        "y = advertising[['sales']].values\n",
        "beta = np.linalg.inv(X.T.dot(X)).dot(X.T).dot(y)\n",
        "beta"
      ]
    },
    {
      "cell_type": "code",
      "execution_count": 41,
      "metadata": {},
      "outputs": [
        {
          "data": {
            "text/plain": [
              "array([18.09239775])"
            ]
          },
          "execution_count": 41,
          "metadata": {},
          "output_type": "execute_result"
        }
      ],
      "source": [
        "def get_squared_error(beta0, beta1, data, i):\n",
        "    xi = data.loc[i, 'radio']\n",
        "    yi = data.loc[i, 'sales']\n",
        "    f_xi = beta0 + beta1 * xi\n",
        "    return (yi - f_xi) ** 2\n",
        "\n",
        "def get_MSE(beta0, beta1, data):\n",
        "    list_errors = [get_squared_error(beta0, beta1, data, ind) for ind in data.index]\n",
        "    return sum(list_errors) / len(list_errors)\n",
        "\n",
        "get_MSE(beta[0], beta[1], advertising)"
      ]
    },
    {
      "cell_type": "code",
      "execution_count": 37,
      "metadata": {},
      "outputs": [
        {
          "data": {
            "text/plain": [
              "[<matplotlib.lines.Line2D at 0x22eaca78d00>]"
            ]
          },
          "execution_count": 37,
          "metadata": {},
          "output_type": "execute_result"
        },
        {
          "data": {
            "image/png": "[encoded data removed]",
            "text/plain": [
              "<Figure size 432x288 with 1 Axes>"
            ]
          },
          "metadata": {
            "needs_background": "light"
          },
          "output_type": "display_data"
        }
      ],
      "source": [
        "plt.plot(advertising['radio'], advertising['sales'], 'r.')\n",
        "x_coordinates = np.array([0,50])\n",
        "y_coordinates = x_coordinates * 0.202 + 9.311\n",
        "plt.plot(x_coordinates, y_coordinates, 'b-')"
      ]
    }
  ],
  "metadata": {
    "colab": {
      "authorship_tag": "ABX9TyPvxBAhd9mzDSqIzglrUIci",
      "include_colab_link": true,
      "name": "HW3_KNNAndLinearRegression",
      "provenance": []
    },
    "kernelspec": {
      "display_name": "Python 3",
      "name": "python3"
    },
    "language_info": {
      "codemirror_mode": {
        "name": "ipython",
        "version": 3
      },
      "file_extension": ".py",
      "mimetype": "text/x-python",
      "name": "python",
      "nbconvert_exporter": "python",
      "pygments_lexer": "ipython3",
      "version": "3.10.3"
    }
  },
  "nbformat": 4,
  "nbformat_minor": 0
}
