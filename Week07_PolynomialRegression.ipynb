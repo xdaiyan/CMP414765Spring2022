{
  "nbformat": 4,
  "nbformat_minor": 0,
  "metadata": {
    "colab": {
      "name": "Week07_PolynomialRegression",
      "provenance": [],
      "authorship_tag": "ABX9TyPr5T0UJOIUhNo5z/nvvwxA",
      "include_colab_link": true
    },
    "kernelspec": {
      "name": "python3",
      "display_name": "Python 3"
    },
    "language_info": {
      "name": "python"
    }
  },
  "cells": [
    {
      "cell_type": "markdown",
      "metadata": {
        "id": "view-in-github",
        "colab_type": "text"
      },
      "source": [
        "<a href=\"https://colab.research.google.com/github/ch00226855/CMP414765Spring2022/blob/main/Week07_PolynomialRegression.ipynb\" target=\"_parent\"><img src=\"https://colab.research.google.com/assets/colab-badge.svg\" alt=\"Open In Colab\"/></a>"
      ]
    },
    {
      "cell_type": "markdown",
      "source": [
        "## 1. <font color=\"green\">Polynomial Regression</font>\n",
        "**Polynomial regression** extends the linear model by adding extra predictors, obtained by raising each of the original predictors to a power."
      ],
      "metadata": {
        "id": "cmVZEOrf7ZUo"
      }
    },
    {
      "cell_type": "markdown",
      "source": [
        "### <font color=\"green\">Polynomial Regression with One Feature</font>\n",
        "- Model Assumption: \n",
        "$$Y \\approx \\beta_0 + \\beta_1X + \\beta_2X^2 + \\cdots + \\beta_d X^d$$\n",
        "- Least Squares Cost Function:\n",
        "$$MSE(\\beta) = \\sum_{i=1}^N(y_i - \\beta_0 - \\beta_1x_i - \\cdots - \\beta_dx_i^d)^2 = (\\textbf{y} - \\textbf{X}\\beta)^T(\\textbf{y} - \\textbf{X}\\beta)$$\n",
        "    - $$\\textbf{X} = \\begin{pmatrix}\n",
        "    1 & x_1 & x_1^2 & \\cdots & x_1^d \\\\\n",
        "    1 & x_2 & x_2^2 & \\cdots & x_2^d \\\\\n",
        "    1 & \\vdots & \\vdots & \\ddots & \\vdots \\\\\n",
        "    1 & x_N & x_N^2 & \\cdots & x_N^d \\\\\n",
        "    \\end{pmatrix}, \n",
        "    y=\\begin{pmatrix}\n",
        "    y_1\\\\\n",
        "    y_2\\\\\n",
        "    \\vdots\\\\\n",
        "    y_N\n",
        "    \\end{pmatrix}$$\n",
        "- Normal equation still applies:\n",
        "$$\n",
        "\\hat{\\beta} = argmin_\\beta MSE(\\beta) = (\\textbf{X}^T\\textbf{X})^{-1}\\textbf{X}^T\\textbf{y}\n",
        "$$\n",
        "- Simply put, polynomial regression is multilinear regression on $(X, X^2, ..., X^d)$.\n",
        "- It is rarely necessary to consider $d>4$, since higher order terms make the polynomial overly flexible and tends to explode near the bounary."
      ],
      "metadata": {
        "id": "O6ajCi_g7f0_"
      }
    },
    {
      "cell_type": "code",
      "source": [
        "import pandas as pd\n",
        "import matplotlib.pyplot as plt\n",
        "%matplotlib inline"
      ],
      "metadata": {
        "id": "ZYdnscQa78jM"
      },
      "execution_count": 2,
      "outputs": []
    },
    {
      "cell_type": "code",
      "source": [
        "df = pd.read_csv(\"https://raw.githubusercontent.com/JWarmenhoven/ISLR-python/master/Notebooks/Data/Wage.csv\",\n",
        "                 usecols=['age', 'wage'])\n",
        "df.head()"
      ],
      "metadata": {
        "id": "8IARDwY57f3z",
        "colab": {
          "base_uri": "https://localhost:8080/",
          "height": 206
        },
        "outputId": "2fd3c446-23d5-431a-9d64-b8f0a36946cc"
      },
      "execution_count": 3,
      "outputs": [
        {
          "output_type": "execute_result",
          "data": {
            "text/plain": [
              "   age        wage\n",
              "0   18   75.043154\n",
              "1   24   70.476020\n",
              "2   45  130.982177\n",
              "3   43  154.685293\n",
              "4   50   75.043154"
            ],
            "text/html": [
              "\n",
              "  <div id=\"df-0d00b7d4-5195-4737-9a34-6f07491f1464\">\n",
              "    <div class=\"colab-df-container\">\n",
              "      <div>\n",
              "<style scoped>\n",
              "    .dataframe tbody tr th:only-of-type {\n",
              "        vertical-align: middle;\n",
              "    }\n",
              "\n",
              "    .dataframe tbody tr th {\n",
              "        vertical-align: top;\n",
              "    }\n",
              "\n",
              "    .dataframe thead th {\n",
              "        text-align: right;\n",
              "    }\n",
              "</style>\n",
              "<table border=\"1\" class=\"dataframe\">\n",
              "  <thead>\n",
              "    <tr style=\"text-align: right;\">\n",
              "      <th></th>\n",
              "      <th>age</th>\n",
              "      <th>wage</th>\n",
              "    </tr>\n",
              "  </thead>\n",
              "  <tbody>\n",
              "    <tr>\n",
              "      <th>0</th>\n",
              "      <td>18</td>\n",
              "      <td>75.043154</td>\n",
              "    </tr>\n",
              "    <tr>\n",
              "      <th>1</th>\n",
              "      <td>24</td>\n",
              "      <td>70.476020</td>\n",
              "    </tr>\n",
              "    <tr>\n",
              "      <th>2</th>\n",
              "      <td>45</td>\n",
              "      <td>130.982177</td>\n",
              "    </tr>\n",
              "    <tr>\n",
              "      <th>3</th>\n",
              "      <td>43</td>\n",
              "      <td>154.685293</td>\n",
              "    </tr>\n",
              "    <tr>\n",
              "      <th>4</th>\n",
              "      <td>50</td>\n",
              "      <td>75.043154</td>\n",
              "    </tr>\n",
              "  </tbody>\n",
              "</table>\n",
              "</div>\n",
              "      <button class=\"colab-df-convert\" onclick=\"convertToInteractive('df-0d00b7d4-5195-4737-9a34-6f07491f1464')\"\n",
              "              title=\"Convert this dataframe to an interactive table.\"\n",
              "              style=\"display:none;\">\n",
              "        \n",
              "  <svg xmlns=\"http://www.w3.org/2000/svg\" height=\"24px\"viewBox=\"0 0 24 24\"\n",
              "       width=\"24px\">\n",
              "    <path d=\"M0 0h24v24H0V0z\" fill=\"none\"/>\n",
              "    <path d=\"M18.56 5.44l.94 2.06.94-2.06 2.06-.94-2.06-.94-.94-2.06-.94 2.06-2.06.94zm-11 1L8.5 8.5l.94-2.06 2.06-.94-2.06-.94L8.5 2.5l-.94 2.06-2.06.94zm10 10l.94 2.06.94-2.06 2.06-.94-2.06-.94-.94-2.06-.94 2.06-2.06.94z\"/><path d=\"M17.41 7.96l-1.37-1.37c-.4-.4-.92-.59-1.43-.59-.52 0-1.04.2-1.43.59L10.3 9.45l-7.72 7.72c-.78.78-.78 2.05 0 2.83L4 21.41c.39.39.9.59 1.41.59.51 0 1.02-.2 1.41-.59l7.78-7.78 2.81-2.81c.8-.78.8-2.07 0-2.86zM5.41 20L4 18.59l7.72-7.72 1.47 1.35L5.41 20z\"/>\n",
              "  </svg>\n",
              "      </button>\n",
              "      \n",
              "  <style>\n",
              "    .colab-df-container {\n",
              "      display:flex;\n",
              "      flex-wrap:wrap;\n",
              "      gap: 12px;\n",
              "    }\n",
              "\n",
              "    .colab-df-convert {\n",
              "      background-color: #E8F0FE;\n",
              "      border: none;\n",
              "      border-radius: 50%;\n",
              "      cursor: pointer;\n",
              "      display: none;\n",
              "      fill: #1967D2;\n",
              "      height: 32px;\n",
              "      padding: 0 0 0 0;\n",
              "      width: 32px;\n",
              "    }\n",
              "\n",
              "    .colab-df-convert:hover {\n",
              "      background-color: #E2EBFA;\n",
              "      box-shadow: 0px 1px 2px rgba(60, 64, 67, 0.3), 0px 1px 3px 1px rgba(60, 64, 67, 0.15);\n",
              "      fill: #174EA6;\n",
              "    }\n",
              "\n",
              "    [theme=dark] .colab-df-convert {\n",
              "      background-color: #3B4455;\n",
              "      fill: #D2E3FC;\n",
              "    }\n",
              "\n",
              "    [theme=dark] .colab-df-convert:hover {\n",
              "      background-color: #434B5C;\n",
              "      box-shadow: 0px 1px 3px 1px rgba(0, 0, 0, 0.15);\n",
              "      filter: drop-shadow(0px 1px 2px rgba(0, 0, 0, 0.3));\n",
              "      fill: #FFFFFF;\n",
              "    }\n",
              "  </style>\n",
              "\n",
              "      <script>\n",
              "        const buttonEl =\n",
              "          document.querySelector('#df-0d00b7d4-5195-4737-9a34-6f07491f1464 button.colab-df-convert');\n",
              "        buttonEl.style.display =\n",
              "          google.colab.kernel.accessAllowed ? 'block' : 'none';\n",
              "\n",
              "        async function convertToInteractive(key) {\n",
              "          const element = document.querySelector('#df-0d00b7d4-5195-4737-9a34-6f07491f1464');\n",
              "          const dataTable =\n",
              "            await google.colab.kernel.invokeFunction('convertToInteractive',\n",
              "                                                     [key], {});\n",
              "          if (!dataTable) return;\n",
              "\n",
              "          const docLinkHtml = 'Like what you see? Visit the ' +\n",
              "            '<a target=\"_blank\" href=https://colab.research.google.com/notebooks/data_table.ipynb>data table notebook</a>'\n",
              "            + ' to learn more about interactive tables.';\n",
              "          element.innerHTML = '';\n",
              "          dataTable['output_type'] = 'display_data';\n",
              "          await google.colab.output.renderOutput(dataTable, element);\n",
              "          const docLink = document.createElement('div');\n",
              "          docLink.innerHTML = docLinkHtml;\n",
              "          element.appendChild(docLink);\n",
              "        }\n",
              "      </script>\n",
              "    </div>\n",
              "  </div>\n",
              "  "
            ]
          },
          "metadata": {},
          "execution_count": 3
        }
      ]
    },
    {
      "cell_type": "code",
      "source": [
        ""
      ],
      "metadata": {
        "id": "II87ADWO774K"
      },
      "execution_count": null,
      "outputs": []
    },
    {
      "cell_type": "markdown",
      "source": [
        "### <font color=\"green\">Overfitting vs. Underfitting</font>\n",
        "<img src=\"https://media.geeksforgeeks.org/wp-content/cdn-uploads/20190523171229/overfitting_1.png\" width=\"600\">\n",
        "<img src=\"https://media.geeksforgeeks.org/wp-content/cdn-uploads/20190523171258/overfitting_2.png\" width=\"600\">\n",
        "\n",
        "How to detect model overfitting?\n",
        "- Training error vs. test error\n",
        "- Cross Validation\n",
        "- Model visualization"
      ],
      "metadata": {
        "id": "ZxPRwRXY7f52"
      }
    },
    {
      "cell_type": "markdown",
      "source": [
        "### <font color=\"green\">Preventing Model Overfitting</font>\n",
        "- Get more training data\n",
        "- Feature selection\n",
        "- Regularization\n",
        "- Early stopping\n",
        "\n",
        "<img src=\"https://hackernoon.com/hn-images/1*vuZxFMi5fODz2OEcpG-S1g.png\" width=\"600\">"
      ],
      "metadata": {
        "id": "iP6JIC187f8f"
      }
    },
    {
      "cell_type": "markdown",
      "source": [
        ""
      ],
      "metadata": {
        "id": "vOedHHXz7f-0"
      }
    },
    {
      "cell_type": "markdown",
      "source": [
        ""
      ],
      "metadata": {
        "id": "pM-YAd6U7gBc"
      }
    },
    {
      "cell_type": "markdown",
      "source": [
        ""
      ],
      "metadata": {
        "id": "IlUjUYiH7gEE"
      }
    },
    {
      "cell_type": "markdown",
      "source": [
        ""
      ],
      "metadata": {
        "id": "Y6x9Ynqy7gGg"
      }
    }
  ]
}