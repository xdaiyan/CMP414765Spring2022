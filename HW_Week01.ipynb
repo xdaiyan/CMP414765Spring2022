{
  "cells": [
    {
      "cell_type": "markdown",
      "metadata": {
        "colab_type": "text",
        "id": "view-in-github"
      },
      "source": [
        "<a href=\"https://colab.research.google.com/github/ch00226855/CMP414765Spring2022/blob/main/HW_Week01.ipynb\" target=\"_parent\"><img src=\"https://colab.research.google.com/assets/colab-badge.svg\" alt=\"Open In Colab\"/></a>"
      ]
    },
    {
      "cell_type": "markdown",
      "metadata": {
        "id": "_3073i6ys9N0"
      },
      "source": [
        "# Week 1 Homework\n",
        "Please write Python programs and find solutions to the following problems:"
      ]
    },
    {
      "cell_type": "markdown",
      "metadata": {
        "id": "I-jWNO1ytBkH"
      },
      "source": [
        "1. Calculate the first 10 powers of 2: $2^1, 2^2, ..., 2^{10}$."
      ]
    },
    {
      "cell_type": "code",
      "execution_count": 3,
      "metadata": {
        "id": "WUdfehYFtBmh"
      },
      "outputs": [
        {
          "name": "stdout",
          "output_type": "stream",
          "text": [
            "2^1 = 2.0\n",
            "2^2 = 4.0\n",
            "2^3 = 8.0\n",
            "2^4 = 16.0\n",
            "2^5 = 32.0\n",
            "2^6 = 64.0\n",
            "2^7 = 128.0\n",
            "2^8 = 256.0\n",
            "2^9 = 512.0\n",
            "2^10 = 1024.0\n",
            "2^11 = 2048.0\n",
            "2^12 = 4096.0\n",
            "2^13 = 8192.0\n",
            "2^14 = 16384.0\n",
            "2^15 = 32768.0\n",
            "2^16 = 65536.0\n",
            "2^17 = 131072.0\n",
            "2^18 = 262144.0\n",
            "2^19 = 524288.0\n",
            "2^20 = 1048576.0\n",
            "2^21 = 2097152.0\n",
            "2^22 = 4194304.0\n",
            "2^23 = 8388608.0\n",
            "2^24 = 16777216.0\n",
            "2^25 = 33554432.0\n"
          ]
        }
      ],
      "source": [
        "import math\n",
        "\n",
        "def powers(n):\n",
        "    for i in range(1, n + 1):\n",
        "        print(f'2^{i} = {math.pow(2, i)}')\n",
        "\n",
        "powers(25)"
      ]
    },
    {
      "cell_type": "markdown",
      "metadata": {
        "id": "jJjaCEOHtGVb"
      },
      "source": [
        "2. Extract the names from the following string:"
      ]
    },
    {
      "cell_type": "code",
      "execution_count": 2,
      "metadata": {
        "id": "Tspt7nHctUwa"
      },
      "outputs": [
        {
          "name": "stdout",
          "output_type": "stream",
          "text": [
            "['Alice']\n",
            "['Bob']\n",
            "['Charlie']\n",
            "['David']\n"
          ]
        }
      ],
      "source": [
        "str1 = \"  Alice,   Bob,   Charlie,   David    \"\n",
        "str1 = str1.strip()\n",
        "lst1 = str1.split(',')\n",
        "for i in range(0, len(lst1)):\n",
        "    print(lst1[i].split())"
      ]
    },
    {
      "cell_type": "markdown",
      "metadata": {
        "id": "vnvtZhd4ta_1"
      },
      "source": [
        "Please convert the completed notebook to a PDF file and submit it to the assignment section on Blackboard by **Wednesday, Feburary 09 at 11:59pm**. "
      ]
    }
  ],
  "metadata": {
    "colab": {
      "authorship_tag": "ABX9TyOiFUib3oMXCbh0VNHRGECM",
      "include_colab_link": true,
      "name": "HW_Week01",
      "provenance": []
    },
    "kernelspec": {
      "display_name": "Python 3",
      "name": "python3"
    },
    "language_info": {
      "codemirror_mode": {
        "name": "ipython",
        "version": 3
      },
      "file_extension": ".py",
      "mimetype": "text/x-python",
      "name": "python",
      "nbconvert_exporter": "python",
      "pygments_lexer": "ipython3",
      "version": "3.10.2"
    }
  },
  "nbformat": 4,
  "nbformat_minor": 0
}
