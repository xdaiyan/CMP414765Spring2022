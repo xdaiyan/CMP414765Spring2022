{
  "nbformat": 4,
  "nbformat_minor": 0,
  "metadata": {
    "colab": {
      "name": "Week05_LinearRegression",
      "provenance": [],
      "authorship_tag": "ABX9TyMmRRG8UOqjrZLVo4tJU9OU",
      "include_colab_link": true
    },
    "kernelspec": {
      "name": "python3",
      "display_name": "Python 3"
    }
  },
  "cells": [
    {
      "cell_type": "markdown",
      "metadata": {
        "id": "view-in-github",
        "colab_type": "text"
      },
      "source": [
        "<a href=\"https://colab.research.google.com/github/ch00226855/CMP414765Spring2022/blob/main/Week05_LinearRegression.ipynb\" target=\"_parent\"><img src=\"https://colab.research.google.com/assets/colab-badge.svg\" alt=\"Open In Colab\"/></a>"
      ]
    },
    {
      "cell_type": "markdown",
      "metadata": {
        "id": "u7HIsHhxuk-V"
      },
      "source": [
        "# Week 5\n",
        "# Simple Linear Regression and the Normal Equation\n",
        "\n",
        "So far we have treated machine learning models and their training algorithms mostly like black boxes. Starting from Chapter 4, we will look into the mechanism of several popular machine learning models, analyze them mathematically and learn how to implement the methods from scratch. Let's start with the linear regression model.\n",
        "\n",
        "**Reading**: Textbook, Chapter 4"
      ]
    },
    {
      "cell_type": "markdown",
      "metadata": {
        "id": "aQ2Gz9YPupfu"
      },
      "source": [
        "## I. Simple Linear regression: Sales Prediction\n",
        "\n",
        "To put things into context, let's look at a dataset that contains the sales revenue and the advertising budgets of a company in 200 different markets."
      ]
    },
    {
      "cell_type": "code",
      "metadata": {
        "id": "OlGlaCOhupiD"
      },
      "source": [
        "import numpy as np\n",
        "import pandas as pd\n",
        "import matplotlib.pyplot as plt\n",
        "%matplotlib inline"
      ],
      "execution_count": 1,
      "outputs": []
    },
    {
      "cell_type": "code",
      "metadata": {
        "id": "WQ6pwyVTupkY",
        "outputId": "9af4f28d-0dd0-41c7-d35c-e4d801ee763e",
        "colab": {
          "base_uri": "https://localhost:8080/",
          "height": 206
        }
      },
      "source": [
        "url = \"https://www.statlearning.com/s/Advertising.csv\"\n",
        "advertising = pd.read_csv(url, index_col=0)\n",
        "advertising.head()"
      ],
      "execution_count": 2,
      "outputs": [
        {
          "output_type": "execute_result",
          "data": {
            "text/html": [
              "\n",
              "  <div id=\"df-108a56fa-ff6e-4856-84e3-badb115897c0\">\n",
              "    <div class=\"colab-df-container\">\n",
              "      <div>\n",
              "<style scoped>\n",
              "    .dataframe tbody tr th:only-of-type {\n",
              "        vertical-align: middle;\n",
              "    }\n",
              "\n",
              "    .dataframe tbody tr th {\n",
              "        vertical-align: top;\n",
              "    }\n",
              "\n",
              "    .dataframe thead th {\n",
              "        text-align: right;\n",
              "    }\n",
              "</style>\n",
              "<table border=\"1\" class=\"dataframe\">\n",
              "  <thead>\n",
              "    <tr style=\"text-align: right;\">\n",
              "      <th></th>\n",
              "      <th>TV</th>\n",
              "      <th>radio</th>\n",
              "      <th>newspaper</th>\n",
              "      <th>sales</th>\n",
              "    </tr>\n",
              "  </thead>\n",
              "  <tbody>\n",
              "    <tr>\n",
              "      <th>1</th>\n",
              "      <td>230.1</td>\n",
              "      <td>37.8</td>\n",
              "      <td>69.2</td>\n",
              "      <td>22.1</td>\n",
              "    </tr>\n",
              "    <tr>\n",
              "      <th>2</th>\n",
              "      <td>44.5</td>\n",
              "      <td>39.3</td>\n",
              "      <td>45.1</td>\n",
              "      <td>10.4</td>\n",
              "    </tr>\n",
              "    <tr>\n",
              "      <th>3</th>\n",
              "      <td>17.2</td>\n",
              "      <td>45.9</td>\n",
              "      <td>69.3</td>\n",
              "      <td>9.3</td>\n",
              "    </tr>\n",
              "    <tr>\n",
              "      <th>4</th>\n",
              "      <td>151.5</td>\n",
              "      <td>41.3</td>\n",
              "      <td>58.5</td>\n",
              "      <td>18.5</td>\n",
              "    </tr>\n",
              "    <tr>\n",
              "      <th>5</th>\n",
              "      <td>180.8</td>\n",
              "      <td>10.8</td>\n",
              "      <td>58.4</td>\n",
              "      <td>12.9</td>\n",
              "    </tr>\n",
              "  </tbody>\n",
              "</table>\n",
              "</div>\n",
              "      <button class=\"colab-df-convert\" onclick=\"convertToInteractive('df-108a56fa-ff6e-4856-84e3-badb115897c0')\"\n",
              "              title=\"Convert this dataframe to an interactive table.\"\n",
              "              style=\"display:none;\">\n",
              "        \n",
              "  <svg xmlns=\"http://www.w3.org/2000/svg\" height=\"24px\"viewBox=\"0 0 24 24\"\n",
              "       width=\"24px\">\n",
              "    <path d=\"M0 0h24v24H0V0z\" fill=\"none\"/>\n",
              "    <path d=\"M18.56 5.44l.94 2.06.94-2.06 2.06-.94-2.06-.94-.94-2.06-.94 2.06-2.06.94zm-11 1L8.5 8.5l.94-2.06 2.06-.94-2.06-.94L8.5 2.5l-.94 2.06-2.06.94zm10 10l.94 2.06.94-2.06 2.06-.94-2.06-.94-.94-2.06-.94 2.06-2.06.94z\"/><path d=\"M17.41 7.96l-1.37-1.37c-.4-.4-.92-.59-1.43-.59-.52 0-1.04.2-1.43.59L10.3 9.45l-7.72 7.72c-.78.78-.78 2.05 0 2.83L4 21.41c.39.39.9.59 1.41.59.51 0 1.02-.2 1.41-.59l7.78-7.78 2.81-2.81c.8-.78.8-2.07 0-2.86zM5.41 20L4 18.59l7.72-7.72 1.47 1.35L5.41 20z\"/>\n",
              "  </svg>\n",
              "      </button>\n",
              "      \n",
              "  <style>\n",
              "    .colab-df-container {\n",
              "      display:flex;\n",
              "      flex-wrap:wrap;\n",
              "      gap: 12px;\n",
              "    }\n",
              "\n",
              "    .colab-df-convert {\n",
              "      background-color: #E8F0FE;\n",
              "      border: none;\n",
              "      border-radius: 50%;\n",
              "      cursor: pointer;\n",
              "      display: none;\n",
              "      fill: #1967D2;\n",
              "      height: 32px;\n",
              "      padding: 0 0 0 0;\n",
              "      width: 32px;\n",
              "    }\n",
              "\n",
              "    .colab-df-convert:hover {\n",
              "      background-color: #E2EBFA;\n",
              "      box-shadow: 0px 1px 2px rgba(60, 64, 67, 0.3), 0px 1px 3px 1px rgba(60, 64, 67, 0.15);\n",
              "      fill: #174EA6;\n",
              "    }\n",
              "\n",
              "    [theme=dark] .colab-df-convert {\n",
              "      background-color: #3B4455;\n",
              "      fill: #D2E3FC;\n",
              "    }\n",
              "\n",
              "    [theme=dark] .colab-df-convert:hover {\n",
              "      background-color: #434B5C;\n",
              "      box-shadow: 0px 1px 3px 1px rgba(0, 0, 0, 0.15);\n",
              "      filter: drop-shadow(0px 1px 2px rgba(0, 0, 0, 0.3));\n",
              "      fill: #FFFFFF;\n",
              "    }\n",
              "  </style>\n",
              "\n",
              "      <script>\n",
              "        const buttonEl =\n",
              "          document.querySelector('#df-108a56fa-ff6e-4856-84e3-badb115897c0 button.colab-df-convert');\n",
              "        buttonEl.style.display =\n",
              "          google.colab.kernel.accessAllowed ? 'block' : 'none';\n",
              "\n",
              "        async function convertToInteractive(key) {\n",
              "          const element = document.querySelector('#df-108a56fa-ff6e-4856-84e3-badb115897c0');\n",
              "          const dataTable =\n",
              "            await google.colab.kernel.invokeFunction('convertToInteractive',\n",
              "                                                     [key], {});\n",
              "          if (!dataTable) return;\n",
              "\n",
              "          const docLinkHtml = 'Like what you see? Visit the ' +\n",
              "            '<a target=\"_blank\" href=https://colab.research.google.com/notebooks/data_table.ipynb>data table notebook</a>'\n",
              "            + ' to learn more about interactive tables.';\n",
              "          element.innerHTML = '';\n",
              "          dataTable['output_type'] = 'display_data';\n",
              "          await google.colab.output.renderOutput(dataTable, element);\n",
              "          const docLink = document.createElement('div');\n",
              "          docLink.innerHTML = docLinkHtml;\n",
              "          element.appendChild(docLink);\n",
              "        }\n",
              "      </script>\n",
              "    </div>\n",
              "  </div>\n",
              "  "
            ],
            "text/plain": [
              "      TV  radio  newspaper  sales\n",
              "1  230.1   37.8       69.2   22.1\n",
              "2   44.5   39.3       45.1   10.4\n",
              "3   17.2   45.9       69.3    9.3\n",
              "4  151.5   41.3       58.5   18.5\n",
              "5  180.8   10.8       58.4   12.9"
            ]
          },
          "metadata": {},
          "execution_count": 2
        }
      ]
    },
    {
      "cell_type": "code",
      "metadata": {
        "id": "S-euVXtvupmr",
        "outputId": "3ea3238b-b1e0-45e2-91b7-9877925cbacd",
        "colab": {
          "base_uri": "https://localhost:8080/"
        }
      },
      "source": [
        "advertising.info()"
      ],
      "execution_count": null,
      "outputs": [
        {
          "output_type": "stream",
          "name": "stdout",
          "text": [
            "<class 'pandas.core.frame.DataFrame'>\n",
            "Int64Index: 200 entries, 1 to 200\n",
            "Data columns (total 4 columns):\n",
            " #   Column     Non-Null Count  Dtype  \n",
            "---  ------     --------------  -----  \n",
            " 0   TV         200 non-null    float64\n",
            " 1   radio      200 non-null    float64\n",
            " 2   newspaper  200 non-null    float64\n",
            " 3   sales      200 non-null    float64\n",
            "dtypes: float64(4)\n",
            "memory usage: 7.8 KB\n"
          ]
        }
      ]
    },
    {
      "cell_type": "code",
      "metadata": {
        "id": "4eh00tLDuppH",
        "outputId": "0cf12b99-1e83-46ee-9ff4-48328858148f",
        "colab": {
          "base_uri": "https://localhost:8080/",
          "height": 300
        }
      },
      "source": [
        "advertising.describe()"
      ],
      "execution_count": null,
      "outputs": [
        {
          "output_type": "execute_result",
          "data": {
            "text/html": [
              "\n",
              "  <div id=\"df-3448b7cc-ac0b-4f57-9ade-8b49ccf6e8a8\">\n",
              "    <div class=\"colab-df-container\">\n",
              "      <div>\n",
              "<style scoped>\n",
              "    .dataframe tbody tr th:only-of-type {\n",
              "        vertical-align: middle;\n",
              "    }\n",
              "\n",
              "    .dataframe tbody tr th {\n",
              "        vertical-align: top;\n",
              "    }\n",
              "\n",
              "    .dataframe thead th {\n",
              "        text-align: right;\n",
              "    }\n",
              "</style>\n",
              "<table border=\"1\" class=\"dataframe\">\n",
              "  <thead>\n",
              "    <tr style=\"text-align: right;\">\n",
              "      <th></th>\n",
              "      <th>TV</th>\n",
              "      <th>radio</th>\n",
              "      <th>newspaper</th>\n",
              "      <th>sales</th>\n",
              "    </tr>\n",
              "  </thead>\n",
              "  <tbody>\n",
              "    <tr>\n",
              "      <th>count</th>\n",
              "      <td>200.000000</td>\n",
              "      <td>200.000000</td>\n",
              "      <td>200.000000</td>\n",
              "      <td>200.000000</td>\n",
              "    </tr>\n",
              "    <tr>\n",
              "      <th>mean</th>\n",
              "      <td>147.042500</td>\n",
              "      <td>23.264000</td>\n",
              "      <td>30.554000</td>\n",
              "      <td>14.022500</td>\n",
              "    </tr>\n",
              "    <tr>\n",
              "      <th>std</th>\n",
              "      <td>85.854236</td>\n",
              "      <td>14.846809</td>\n",
              "      <td>21.778621</td>\n",
              "      <td>5.217457</td>\n",
              "    </tr>\n",
              "    <tr>\n",
              "      <th>min</th>\n",
              "      <td>0.700000</td>\n",
              "      <td>0.000000</td>\n",
              "      <td>0.300000</td>\n",
              "      <td>1.600000</td>\n",
              "    </tr>\n",
              "    <tr>\n",
              "      <th>25%</th>\n",
              "      <td>74.375000</td>\n",
              "      <td>9.975000</td>\n",
              "      <td>12.750000</td>\n",
              "      <td>10.375000</td>\n",
              "    </tr>\n",
              "    <tr>\n",
              "      <th>50%</th>\n",
              "      <td>149.750000</td>\n",
              "      <td>22.900000</td>\n",
              "      <td>25.750000</td>\n",
              "      <td>12.900000</td>\n",
              "    </tr>\n",
              "    <tr>\n",
              "      <th>75%</th>\n",
              "      <td>218.825000</td>\n",
              "      <td>36.525000</td>\n",
              "      <td>45.100000</td>\n",
              "      <td>17.400000</td>\n",
              "    </tr>\n",
              "    <tr>\n",
              "      <th>max</th>\n",
              "      <td>296.400000</td>\n",
              "      <td>49.600000</td>\n",
              "      <td>114.000000</td>\n",
              "      <td>27.000000</td>\n",
              "    </tr>\n",
              "  </tbody>\n",
              "</table>\n",
              "</div>\n",
              "      <button class=\"colab-df-convert\" onclick=\"convertToInteractive('df-3448b7cc-ac0b-4f57-9ade-8b49ccf6e8a8')\"\n",
              "              title=\"Convert this dataframe to an interactive table.\"\n",
              "              style=\"display:none;\">\n",
              "        \n",
              "  <svg xmlns=\"http://www.w3.org/2000/svg\" height=\"24px\"viewBox=\"0 0 24 24\"\n",
              "       width=\"24px\">\n",
              "    <path d=\"M0 0h24v24H0V0z\" fill=\"none\"/>\n",
              "    <path d=\"M18.56 5.44l.94 2.06.94-2.06 2.06-.94-2.06-.94-.94-2.06-.94 2.06-2.06.94zm-11 1L8.5 8.5l.94-2.06 2.06-.94-2.06-.94L8.5 2.5l-.94 2.06-2.06.94zm10 10l.94 2.06.94-2.06 2.06-.94-2.06-.94-.94-2.06-.94 2.06-2.06.94z\"/><path d=\"M17.41 7.96l-1.37-1.37c-.4-.4-.92-.59-1.43-.59-.52 0-1.04.2-1.43.59L10.3 9.45l-7.72 7.72c-.78.78-.78 2.05 0 2.83L4 21.41c.39.39.9.59 1.41.59.51 0 1.02-.2 1.41-.59l7.78-7.78 2.81-2.81c.8-.78.8-2.07 0-2.86zM5.41 20L4 18.59l7.72-7.72 1.47 1.35L5.41 20z\"/>\n",
              "  </svg>\n",
              "      </button>\n",
              "      \n",
              "  <style>\n",
              "    .colab-df-container {\n",
              "      display:flex;\n",
              "      flex-wrap:wrap;\n",
              "      gap: 12px;\n",
              "    }\n",
              "\n",
              "    .colab-df-convert {\n",
              "      background-color: #E8F0FE;\n",
              "      border: none;\n",
              "      border-radius: 50%;\n",
              "      cursor: pointer;\n",
              "      display: none;\n",
              "      fill: #1967D2;\n",
              "      height: 32px;\n",
              "      padding: 0 0 0 0;\n",
              "      width: 32px;\n",
              "    }\n",
              "\n",
              "    .colab-df-convert:hover {\n",
              "      background-color: #E2EBFA;\n",
              "      box-shadow: 0px 1px 2px rgba(60, 64, 67, 0.3), 0px 1px 3px 1px rgba(60, 64, 67, 0.15);\n",
              "      fill: #174EA6;\n",
              "    }\n",
              "\n",
              "    [theme=dark] .colab-df-convert {\n",
              "      background-color: #3B4455;\n",
              "      fill: #D2E3FC;\n",
              "    }\n",
              "\n",
              "    [theme=dark] .colab-df-convert:hover {\n",
              "      background-color: #434B5C;\n",
              "      box-shadow: 0px 1px 3px 1px rgba(0, 0, 0, 0.15);\n",
              "      filter: drop-shadow(0px 1px 2px rgba(0, 0, 0, 0.3));\n",
              "      fill: #FFFFFF;\n",
              "    }\n",
              "  </style>\n",
              "\n",
              "      <script>\n",
              "        const buttonEl =\n",
              "          document.querySelector('#df-3448b7cc-ac0b-4f57-9ade-8b49ccf6e8a8 button.colab-df-convert');\n",
              "        buttonEl.style.display =\n",
              "          google.colab.kernel.accessAllowed ? 'block' : 'none';\n",
              "\n",
              "        async function convertToInteractive(key) {\n",
              "          const element = document.querySelector('#df-3448b7cc-ac0b-4f57-9ade-8b49ccf6e8a8');\n",
              "          const dataTable =\n",
              "            await google.colab.kernel.invokeFunction('convertToInteractive',\n",
              "                                                     [key], {});\n",
              "          if (!dataTable) return;\n",
              "\n",
              "          const docLinkHtml = 'Like what you see? Visit the ' +\n",
              "            '<a target=\"_blank\" href=https://colab.research.google.com/notebooks/data_table.ipynb>data table notebook</a>'\n",
              "            + ' to learn more about interactive tables.';\n",
              "          element.innerHTML = '';\n",
              "          dataTable['output_type'] = 'display_data';\n",
              "          await google.colab.output.renderOutput(dataTable, element);\n",
              "          const docLink = document.createElement('div');\n",
              "          docLink.innerHTML = docLinkHtml;\n",
              "          element.appendChild(docLink);\n",
              "        }\n",
              "      </script>\n",
              "    </div>\n",
              "  </div>\n",
              "  "
            ],
            "text/plain": [
              "               TV       radio   newspaper       sales\n",
              "count  200.000000  200.000000  200.000000  200.000000\n",
              "mean   147.042500   23.264000   30.554000   14.022500\n",
              "std     85.854236   14.846809   21.778621    5.217457\n",
              "min      0.700000    0.000000    0.300000    1.600000\n",
              "25%     74.375000    9.975000   12.750000   10.375000\n",
              "50%    149.750000   22.900000   25.750000   12.900000\n",
              "75%    218.825000   36.525000   45.100000   17.400000\n",
              "max    296.400000   49.600000  114.000000   27.000000"
            ]
          },
          "metadata": {},
          "execution_count": 4
        }
      ]
    },
    {
      "cell_type": "code",
      "metadata": {
        "id": "34vliqiQuprc",
        "outputId": "cd3e82bb-8fe0-4b1c-a67e-ba3f9a33fa77",
        "colab": {
          "base_uri": "https://localhost:8080/",
          "height": 608
        }
      },
      "source": [
        "fig = advertising.hist(figsize=(10, 10))"
      ],
      "execution_count": null,
      "outputs": [
        {
          "output_type": "display_data",
          "data": {
            "image/png": "[encoded data removed]",
            "text/plain": [
              "<Figure size 720x720 with 4 Axes>"
            ]
          },
          "metadata": {
            "needs_background": "light"
          }
        }
      ]
    },
    {
      "cell_type": "code",
      "metadata": {
        "id": "yfmol9Hxupt9",
        "outputId": "0e54a08f-4314-43a1-8646-83e025e2a16f",
        "colab": {
          "base_uri": "https://localhost:8080/",
          "height": 295
        }
      },
      "source": [
        "# plot TV vs. sales\n",
        "plt.plot(advertising['TV'], advertising['sales'], 'g.')\n",
        "plt.title(\"TV vs. sales\")\n",
        "plt.xlabel(\"TV budget\")\n",
        "plt.ylabel(\"Sales Revenue\")\n",
        "plt.savefig(\"TVvsSales.png\")\n",
        "plt.show() # this is needed in other Python environments"
      ],
      "execution_count": null,
      "outputs": [
        {
          "output_type": "display_data",
          "data": {
            "image/png": "[encoded data removed]",
            "text/plain": [
              "<Figure size 432x288 with 1 Axes>"
            ]
          },
          "metadata": {
            "needs_background": "light"
          }
        }
      ]
    },
    {
      "cell_type": "code",
      "metadata": {
        "id": "IdmR2IQmupwR",
        "outputId": "a2c0b969-2daa-41d1-c8e7-8cea4f6c8b34",
        "colab": {
          "base_uri": "https://localhost:8080/",
          "height": 295
        }
      },
      "source": [
        "# Exercise:\n",
        "# plot radio vs. sales\n",
        "\n",
        "plt.plot(advertising['radio'], advertising['sales'], 'r.')\n",
        "plt.title(\"Radio Buget vs. Sales\")\n",
        "plt.xlabel(\"Radio budget\")\n",
        "plt.ylabel(\"Sales Revenue\")\n",
        "plt.savefig(\"RadioVsSales.png\")"
      ],
      "execution_count": null,
      "outputs": [
        {
          "output_type": "display_data",
          "data": {
            "image/png": "[encoded data removed]",
            "text/plain": [
              "<Figure size 432x288 with 1 Axes>"
            ]
          },
          "metadata": {
            "needs_background": "light"
          }
        }
      ]
    },
    {
      "cell_type": "code",
      "metadata": {
        "id": "IPWxPApfupy8",
        "outputId": "b2d336e9-59b5-4800-ca01-fe8bec2bd774",
        "colab": {
          "base_uri": "https://localhost:8080/",
          "height": 295
        }
      },
      "source": [
        "# Exercise:\n",
        "# plot newspaper vs. sales\n",
        "\n",
        "plt.plot(advertising['newspaper'], advertising['sales'], 'b.')\n",
        "plt.title(\"Newspaper Buget vs. Sales\")\n",
        "plt.xlabel(\"Newpaper budget\")\n",
        "plt.ylabel(\"Sales Revenue\")\n",
        "plt.savefig(\"NewspaperVsSales.png\")"
      ],
      "execution_count": null,
      "outputs": [
        {
          "output_type": "display_data",
          "data": {
            "image/png": "[encoded data removed]",
            "text/plain": [
              "<Figure size 432x288 with 1 Axes>"
            ]
          },
          "metadata": {
            "needs_background": "light"
          }
        }
      ]
    },
    {
      "cell_type": "markdown",
      "source": [
        "What can we say with these scatter plots?\n",
        "- There is a strong positive correlation between TV and sales\n",
        "- There is a positive correlation between radio and sales\n",
        "- I do not observe a strong correlation between newspaper and sales. "
      ],
      "metadata": {
        "id": "4G2NGphWPcru"
      }
    },
    {
      "cell_type": "code",
      "source": [
        "# The outcome from the describe() method suggests there are outliers.\n",
        "\n",
        "# Use a filter to extract the record with 0.7 TV value\n",
        "advertising[advertising[\"TV\"] == 0.7] # the condition in [] creates a list of boolean indices\n"
      ],
      "metadata": {
        "id": "qUt35vi_QN29",
        "outputId": "9be65c01-f843-4180-8a8b-6a372dcf2272",
        "colab": {
          "base_uri": "https://localhost:8080/",
          "height": 81
        }
      },
      "execution_count": null,
      "outputs": [
        {
          "output_type": "execute_result",
          "data": {
            "text/html": [
              "\n",
              "  <div id=\"df-4671366a-18a6-481a-b3a8-0a7365593589\">\n",
              "    <div class=\"colab-df-container\">\n",
              "      <div>\n",
              "<style scoped>\n",
              "    .dataframe tbody tr th:only-of-type {\n",
              "        vertical-align: middle;\n",
              "    }\n",
              "\n",
              "    .dataframe tbody tr th {\n",
              "        vertical-align: top;\n",
              "    }\n",
              "\n",
              "    .dataframe thead th {\n",
              "        text-align: right;\n",
              "    }\n",
              "</style>\n",
              "<table border=\"1\" class=\"dataframe\">\n",
              "  <thead>\n",
              "    <tr style=\"text-align: right;\">\n",
              "      <th></th>\n",
              "      <th>TV</th>\n",
              "      <th>radio</th>\n",
              "      <th>newspaper</th>\n",
              "      <th>sales</th>\n",
              "    </tr>\n",
              "  </thead>\n",
              "  <tbody>\n",
              "    <tr>\n",
              "      <th>131</th>\n",
              "      <td>0.7</td>\n",
              "      <td>39.6</td>\n",
              "      <td>8.7</td>\n",
              "      <td>1.6</td>\n",
              "    </tr>\n",
              "  </tbody>\n",
              "</table>\n",
              "</div>\n",
              "      <button class=\"colab-df-convert\" onclick=\"convertToInteractive('df-4671366a-18a6-481a-b3a8-0a7365593589')\"\n",
              "              title=\"Convert this dataframe to an interactive table.\"\n",
              "              style=\"display:none;\">\n",
              "        \n",
              "  <svg xmlns=\"http://www.w3.org/2000/svg\" height=\"24px\"viewBox=\"0 0 24 24\"\n",
              "       width=\"24px\">\n",
              "    <path d=\"M0 0h24v24H0V0z\" fill=\"none\"/>\n",
              "    <path d=\"M18.56 5.44l.94 2.06.94-2.06 2.06-.94-2.06-.94-.94-2.06-.94 2.06-2.06.94zm-11 1L8.5 8.5l.94-2.06 2.06-.94-2.06-.94L8.5 2.5l-.94 2.06-2.06.94zm10 10l.94 2.06.94-2.06 2.06-.94-2.06-.94-.94-2.06-.94 2.06-2.06.94z\"/><path d=\"M17.41 7.96l-1.37-1.37c-.4-.4-.92-.59-1.43-.59-.52 0-1.04.2-1.43.59L10.3 9.45l-7.72 7.72c-.78.78-.78 2.05 0 2.83L4 21.41c.39.39.9.59 1.41.59.51 0 1.02-.2 1.41-.59l7.78-7.78 2.81-2.81c.8-.78.8-2.07 0-2.86zM5.41 20L4 18.59l7.72-7.72 1.47 1.35L5.41 20z\"/>\n",
              "  </svg>\n",
              "      </button>\n",
              "      \n",
              "  <style>\n",
              "    .colab-df-container {\n",
              "      display:flex;\n",
              "      flex-wrap:wrap;\n",
              "      gap: 12px;\n",
              "    }\n",
              "\n",
              "    .colab-df-convert {\n",
              "      background-color: #E8F0FE;\n",
              "      border: none;\n",
              "      border-radius: 50%;\n",
              "      cursor: pointer;\n",
              "      display: none;\n",
              "      fill: #1967D2;\n",
              "      height: 32px;\n",
              "      padding: 0 0 0 0;\n",
              "      width: 32px;\n",
              "    }\n",
              "\n",
              "    .colab-df-convert:hover {\n",
              "      background-color: #E2EBFA;\n",
              "      box-shadow: 0px 1px 2px rgba(60, 64, 67, 0.3), 0px 1px 3px 1px rgba(60, 64, 67, 0.15);\n",
              "      fill: #174EA6;\n",
              "    }\n",
              "\n",
              "    [theme=dark] .colab-df-convert {\n",
              "      background-color: #3B4455;\n",
              "      fill: #D2E3FC;\n",
              "    }\n",
              "\n",
              "    [theme=dark] .colab-df-convert:hover {\n",
              "      background-color: #434B5C;\n",
              "      box-shadow: 0px 1px 3px 1px rgba(0, 0, 0, 0.15);\n",
              "      filter: drop-shadow(0px 1px 2px rgba(0, 0, 0, 0.3));\n",
              "      fill: #FFFFFF;\n",
              "    }\n",
              "  </style>\n",
              "\n",
              "      <script>\n",
              "        const buttonEl =\n",
              "          document.querySelector('#df-4671366a-18a6-481a-b3a8-0a7365593589 button.colab-df-convert');\n",
              "        buttonEl.style.display =\n",
              "          google.colab.kernel.accessAllowed ? 'block' : 'none';\n",
              "\n",
              "        async function convertToInteractive(key) {\n",
              "          const element = document.querySelector('#df-4671366a-18a6-481a-b3a8-0a7365593589');\n",
              "          const dataTable =\n",
              "            await google.colab.kernel.invokeFunction('convertToInteractive',\n",
              "                                                     [key], {});\n",
              "          if (!dataTable) return;\n",
              "\n",
              "          const docLinkHtml = 'Like what you see? Visit the ' +\n",
              "            '<a target=\"_blank\" href=https://colab.research.google.com/notebooks/data_table.ipynb>data table notebook</a>'\n",
              "            + ' to learn more about interactive tables.';\n",
              "          element.innerHTML = '';\n",
              "          dataTable['output_type'] = 'display_data';\n",
              "          await google.colab.output.renderOutput(dataTable, element);\n",
              "          const docLink = document.createElement('div');\n",
              "          docLink.innerHTML = docLinkHtml;\n",
              "          element.appendChild(docLink);\n",
              "        }\n",
              "      </script>\n",
              "    </div>\n",
              "  </div>\n",
              "  "
            ],
            "text/plain": [
              "      TV  radio  newspaper  sales\n",
              "131  0.7   39.6        8.7    1.6"
            ]
          },
          "metadata": {},
          "execution_count": 17
        }
      ]
    },
    {
      "cell_type": "code",
      "source": [
        "# Sort the records in the ascending order of TV\n",
        "advertising.sort_values(by=\"TV\", ascending=False, inplace=True)\n",
        "advertising = advertising.sort_values(by=\"TV\", ascending=False)"
      ],
      "metadata": {
        "id": "N-fr6egAR2y8"
      },
      "execution_count": null,
      "outputs": []
    },
    {
      "cell_type": "code",
      "source": [
        "advertising.head()"
      ],
      "metadata": {
        "id": "njI2HXbkTo_J",
        "outputId": "520b7721-bc4c-4dce-d1c5-f9617a2cf1ee",
        "colab": {
          "base_uri": "https://localhost:8080/",
          "height": 206
        }
      },
      "execution_count": null,
      "outputs": [
        {
          "output_type": "execute_result",
          "data": {
            "text/html": [
              "\n",
              "  <div id=\"df-b7ae1821-bc12-442a-af02-23e1c1b2703c\">\n",
              "    <div class=\"colab-df-container\">\n",
              "      <div>\n",
              "<style scoped>\n",
              "    .dataframe tbody tr th:only-of-type {\n",
              "        vertical-align: middle;\n",
              "    }\n",
              "\n",
              "    .dataframe tbody tr th {\n",
              "        vertical-align: top;\n",
              "    }\n",
              "\n",
              "    .dataframe thead th {\n",
              "        text-align: right;\n",
              "    }\n",
              "</style>\n",
              "<table border=\"1\" class=\"dataframe\">\n",
              "  <thead>\n",
              "    <tr style=\"text-align: right;\">\n",
              "      <th></th>\n",
              "      <th>TV</th>\n",
              "      <th>radio</th>\n",
              "      <th>newspaper</th>\n",
              "      <th>sales</th>\n",
              "    </tr>\n",
              "  </thead>\n",
              "  <tbody>\n",
              "    <tr>\n",
              "      <th>102</th>\n",
              "      <td>296.4</td>\n",
              "      <td>36.3</td>\n",
              "      <td>100.9</td>\n",
              "      <td>23.8</td>\n",
              "    </tr>\n",
              "    <tr>\n",
              "      <th>43</th>\n",
              "      <td>293.6</td>\n",
              "      <td>27.7</td>\n",
              "      <td>1.8</td>\n",
              "      <td>20.7</td>\n",
              "    </tr>\n",
              "    <tr>\n",
              "      <th>31</th>\n",
              "      <td>292.9</td>\n",
              "      <td>28.3</td>\n",
              "      <td>43.2</td>\n",
              "      <td>21.4</td>\n",
              "    </tr>\n",
              "    <tr>\n",
              "      <th>36</th>\n",
              "      <td>290.7</td>\n",
              "      <td>4.1</td>\n",
              "      <td>8.5</td>\n",
              "      <td>12.8</td>\n",
              "    </tr>\n",
              "    <tr>\n",
              "      <th>99</th>\n",
              "      <td>289.7</td>\n",
              "      <td>42.3</td>\n",
              "      <td>51.2</td>\n",
              "      <td>25.4</td>\n",
              "    </tr>\n",
              "  </tbody>\n",
              "</table>\n",
              "</div>\n",
              "      <button class=\"colab-df-convert\" onclick=\"convertToInteractive('df-b7ae1821-bc12-442a-af02-23e1c1b2703c')\"\n",
              "              title=\"Convert this dataframe to an interactive table.\"\n",
              "              style=\"display:none;\">\n",
              "        \n",
              "  <svg xmlns=\"http://www.w3.org/2000/svg\" height=\"24px\"viewBox=\"0 0 24 24\"\n",
              "       width=\"24px\">\n",
              "    <path d=\"M0 0h24v24H0V0z\" fill=\"none\"/>\n",
              "    <path d=\"M18.56 5.44l.94 2.06.94-2.06 2.06-.94-2.06-.94-.94-2.06-.94 2.06-2.06.94zm-11 1L8.5 8.5l.94-2.06 2.06-.94-2.06-.94L8.5 2.5l-.94 2.06-2.06.94zm10 10l.94 2.06.94-2.06 2.06-.94-2.06-.94-.94-2.06-.94 2.06-2.06.94z\"/><path d=\"M17.41 7.96l-1.37-1.37c-.4-.4-.92-.59-1.43-.59-.52 0-1.04.2-1.43.59L10.3 9.45l-7.72 7.72c-.78.78-.78 2.05 0 2.83L4 21.41c.39.39.9.59 1.41.59.51 0 1.02-.2 1.41-.59l7.78-7.78 2.81-2.81c.8-.78.8-2.07 0-2.86zM5.41 20L4 18.59l7.72-7.72 1.47 1.35L5.41 20z\"/>\n",
              "  </svg>\n",
              "      </button>\n",
              "      \n",
              "  <style>\n",
              "    .colab-df-container {\n",
              "      display:flex;\n",
              "      flex-wrap:wrap;\n",
              "      gap: 12px;\n",
              "    }\n",
              "\n",
              "    .colab-df-convert {\n",
              "      background-color: #E8F0FE;\n",
              "      border: none;\n",
              "      border-radius: 50%;\n",
              "      cursor: pointer;\n",
              "      display: none;\n",
              "      fill: #1967D2;\n",
              "      height: 32px;\n",
              "      padding: 0 0 0 0;\n",
              "      width: 32px;\n",
              "    }\n",
              "\n",
              "    .colab-df-convert:hover {\n",
              "      background-color: #E2EBFA;\n",
              "      box-shadow: 0px 1px 2px rgba(60, 64, 67, 0.3), 0px 1px 3px 1px rgba(60, 64, 67, 0.15);\n",
              "      fill: #174EA6;\n",
              "    }\n",
              "\n",
              "    [theme=dark] .colab-df-convert {\n",
              "      background-color: #3B4455;\n",
              "      fill: #D2E3FC;\n",
              "    }\n",
              "\n",
              "    [theme=dark] .colab-df-convert:hover {\n",
              "      background-color: #434B5C;\n",
              "      box-shadow: 0px 1px 3px 1px rgba(0, 0, 0, 0.15);\n",
              "      filter: drop-shadow(0px 1px 2px rgba(0, 0, 0, 0.3));\n",
              "      fill: #FFFFFF;\n",
              "    }\n",
              "  </style>\n",
              "\n",
              "      <script>\n",
              "        const buttonEl =\n",
              "          document.querySelector('#df-b7ae1821-bc12-442a-af02-23e1c1b2703c button.colab-df-convert');\n",
              "        buttonEl.style.display =\n",
              "          google.colab.kernel.accessAllowed ? 'block' : 'none';\n",
              "\n",
              "        async function convertToInteractive(key) {\n",
              "          const element = document.querySelector('#df-b7ae1821-bc12-442a-af02-23e1c1b2703c');\n",
              "          const dataTable =\n",
              "            await google.colab.kernel.invokeFunction('convertToInteractive',\n",
              "                                                     [key], {});\n",
              "          if (!dataTable) return;\n",
              "\n",
              "          const docLinkHtml = 'Like what you see? Visit the ' +\n",
              "            '<a target=\"_blank\" href=https://colab.research.google.com/notebooks/data_table.ipynb>data table notebook</a>'\n",
              "            + ' to learn more about interactive tables.';\n",
              "          element.innerHTML = '';\n",
              "          dataTable['output_type'] = 'display_data';\n",
              "          await google.colab.output.renderOutput(dataTable, element);\n",
              "          const docLink = document.createElement('div');\n",
              "          docLink.innerHTML = docLinkHtml;\n",
              "          element.appendChild(docLink);\n",
              "        }\n",
              "      </script>\n",
              "    </div>\n",
              "  </div>\n",
              "  "
            ],
            "text/plain": [
              "        TV  radio  newspaper  sales\n",
              "102  296.4   36.3      100.9   23.8\n",
              "43   293.6   27.7        1.8   20.7\n",
              "31   292.9   28.3       43.2   21.4\n",
              "36   290.7    4.1        8.5   12.8\n",
              "99   289.7   42.3       51.2   25.4"
            ]
          },
          "metadata": {},
          "execution_count": 23
        }
      ]
    },
    {
      "cell_type": "code",
      "source": [
        ""
      ],
      "metadata": {
        "id": "8n1K_7BaUjDD"
      },
      "execution_count": null,
      "outputs": []
    },
    {
      "cell_type": "markdown",
      "metadata": {
        "id": "APBfXCE_up3Z"
      },
      "source": [
        "### Correlation Coefficient: Numerical Measure of Correlations\n",
        "The **correlation coefficient** is a numerical measurement of **linear correlation** between two variables.\n",
        "- The value of correlation coefficient always lies in [-1, 1].\n",
        "- If there is a strong positive correlation, then the coefficient is close to 1.\n",
        "- If there is a strong negative correlation, then the coefficient is close to -1.\n",
        "- If there is a very weak correlation, then the coefficient is close to 0.\n",
        "- However, a near-zero coeffient may be caused by non-linear correlations.\n",
        "![](https://upload.wikimedia.org/wikipedia/commons/d/d4/Correlation_examples2.svg)"
      ]
    },
    {
      "cell_type": "code",
      "metadata": {
        "id": "8jpDO9UFup5w",
        "outputId": "49ac7c93-6585-4a06-8ab8-0a5ad433dd25",
        "colab": {
          "base_uri": "https://localhost:8080/",
          "height": 174
        }
      },
      "source": [
        "# Calculate pair-wise correlation coefficients\n",
        "advertising.corr()"
      ],
      "execution_count": null,
      "outputs": [
        {
          "output_type": "execute_result",
          "data": {
            "text/html": [
              "\n",
              "  <div id=\"df-3b43e055-a947-4dd4-8ff1-d700943aaae8\">\n",
              "    <div class=\"colab-df-container\">\n",
              "      <div>\n",
              "<style scoped>\n",
              "    .dataframe tbody tr th:only-of-type {\n",
              "        vertical-align: middle;\n",
              "    }\n",
              "\n",
              "    .dataframe tbody tr th {\n",
              "        vertical-align: top;\n",
              "    }\n",
              "\n",
              "    .dataframe thead th {\n",
              "        text-align: right;\n",
              "    }\n",
              "</style>\n",
              "<table border=\"1\" class=\"dataframe\">\n",
              "  <thead>\n",
              "    <tr style=\"text-align: right;\">\n",
              "      <th></th>\n",
              "      <th>TV</th>\n",
              "      <th>radio</th>\n",
              "      <th>newspaper</th>\n",
              "      <th>sales</th>\n",
              "    </tr>\n",
              "  </thead>\n",
              "  <tbody>\n",
              "    <tr>\n",
              "      <th>TV</th>\n",
              "      <td>1.000000</td>\n",
              "      <td>0.054809</td>\n",
              "      <td>0.056648</td>\n",
              "      <td>0.782224</td>\n",
              "    </tr>\n",
              "    <tr>\n",
              "      <th>radio</th>\n",
              "      <td>0.054809</td>\n",
              "      <td>1.000000</td>\n",
              "      <td>0.354104</td>\n",
              "      <td>0.576223</td>\n",
              "    </tr>\n",
              "    <tr>\n",
              "      <th>newspaper</th>\n",
              "      <td>0.056648</td>\n",
              "      <td>0.354104</td>\n",
              "      <td>1.000000</td>\n",
              "      <td>0.228299</td>\n",
              "    </tr>\n",
              "    <tr>\n",
              "      <th>sales</th>\n",
              "      <td>0.782224</td>\n",
              "      <td>0.576223</td>\n",
              "      <td>0.228299</td>\n",
              "      <td>1.000000</td>\n",
              "    </tr>\n",
              "  </tbody>\n",
              "</table>\n",
              "</div>\n",
              "      <button class=\"colab-df-convert\" onclick=\"convertToInteractive('df-3b43e055-a947-4dd4-8ff1-d700943aaae8')\"\n",
              "              title=\"Convert this dataframe to an interactive table.\"\n",
              "              style=\"display:none;\">\n",
              "        \n",
              "  <svg xmlns=\"http://www.w3.org/2000/svg\" height=\"24px\"viewBox=\"0 0 24 24\"\n",
              "       width=\"24px\">\n",
              "    <path d=\"M0 0h24v24H0V0z\" fill=\"none\"/>\n",
              "    <path d=\"M18.56 5.44l.94 2.06.94-2.06 2.06-.94-2.06-.94-.94-2.06-.94 2.06-2.06.94zm-11 1L8.5 8.5l.94-2.06 2.06-.94-2.06-.94L8.5 2.5l-.94 2.06-2.06.94zm10 10l.94 2.06.94-2.06 2.06-.94-2.06-.94-.94-2.06-.94 2.06-2.06.94z\"/><path d=\"M17.41 7.96l-1.37-1.37c-.4-.4-.92-.59-1.43-.59-.52 0-1.04.2-1.43.59L10.3 9.45l-7.72 7.72c-.78.78-.78 2.05 0 2.83L4 21.41c.39.39.9.59 1.41.59.51 0 1.02-.2 1.41-.59l7.78-7.78 2.81-2.81c.8-.78.8-2.07 0-2.86zM5.41 20L4 18.59l7.72-7.72 1.47 1.35L5.41 20z\"/>\n",
              "  </svg>\n",
              "      </button>\n",
              "      \n",
              "  <style>\n",
              "    .colab-df-container {\n",
              "      display:flex;\n",
              "      flex-wrap:wrap;\n",
              "      gap: 12px;\n",
              "    }\n",
              "\n",
              "    .colab-df-convert {\n",
              "      background-color: #E8F0FE;\n",
              "      border: none;\n",
              "      border-radius: 50%;\n",
              "      cursor: pointer;\n",
              "      display: none;\n",
              "      fill: #1967D2;\n",
              "      height: 32px;\n",
              "      padding: 0 0 0 0;\n",
              "      width: 32px;\n",
              "    }\n",
              "\n",
              "    .colab-df-convert:hover {\n",
              "      background-color: #E2EBFA;\n",
              "      box-shadow: 0px 1px 2px rgba(60, 64, 67, 0.3), 0px 1px 3px 1px rgba(60, 64, 67, 0.15);\n",
              "      fill: #174EA6;\n",
              "    }\n",
              "\n",
              "    [theme=dark] .colab-df-convert {\n",
              "      background-color: #3B4455;\n",
              "      fill: #D2E3FC;\n",
              "    }\n",
              "\n",
              "    [theme=dark] .colab-df-convert:hover {\n",
              "      background-color: #434B5C;\n",
              "      box-shadow: 0px 1px 3px 1px rgba(0, 0, 0, 0.15);\n",
              "      filter: drop-shadow(0px 1px 2px rgba(0, 0, 0, 0.3));\n",
              "      fill: #FFFFFF;\n",
              "    }\n",
              "  </style>\n",
              "\n",
              "      <script>\n",
              "        const buttonEl =\n",
              "          document.querySelector('#df-3b43e055-a947-4dd4-8ff1-d700943aaae8 button.colab-df-convert');\n",
              "        buttonEl.style.display =\n",
              "          google.colab.kernel.accessAllowed ? 'block' : 'none';\n",
              "\n",
              "        async function convertToInteractive(key) {\n",
              "          const element = document.querySelector('#df-3b43e055-a947-4dd4-8ff1-d700943aaae8');\n",
              "          const dataTable =\n",
              "            await google.colab.kernel.invokeFunction('convertToInteractive',\n",
              "                                                     [key], {});\n",
              "          if (!dataTable) return;\n",
              "\n",
              "          const docLinkHtml = 'Like what you see? Visit the ' +\n",
              "            '<a target=\"_blank\" href=https://colab.research.google.com/notebooks/data_table.ipynb>data table notebook</a>'\n",
              "            + ' to learn more about interactive tables.';\n",
              "          element.innerHTML = '';\n",
              "          dataTable['output_type'] = 'display_data';\n",
              "          await google.colab.output.renderOutput(dataTable, element);\n",
              "          const docLink = document.createElement('div');\n",
              "          docLink.innerHTML = docLinkHtml;\n",
              "          element.appendChild(docLink);\n",
              "        }\n",
              "      </script>\n",
              "    </div>\n",
              "  </div>\n",
              "  "
            ],
            "text/plain": [
              "                 TV     radio  newspaper     sales\n",
              "TV         1.000000  0.054809   0.056648  0.782224\n",
              "radio      0.054809  1.000000   0.354104  0.576223\n",
              "newspaper  0.056648  0.354104   1.000000  0.228299\n",
              "sales      0.782224  0.576223   0.228299  1.000000"
            ]
          },
          "metadata": {},
          "execution_count": 24
        }
      ]
    },
    {
      "cell_type": "markdown",
      "metadata": {
        "id": "IRA9q_J0up8P"
      },
      "source": [
        "For simplicity, we will only use `TV` as a predictor of `sales`."
      ]
    },
    {
      "cell_type": "code",
      "metadata": {
        "id": "HmDGoPkTup-j",
        "outputId": "881dee17-bdf4-4fa4-e90a-c686ec538e4c",
        "colab": {
          "base_uri": "https://localhost:8080/",
          "height": 206
        }
      },
      "source": [
        "data = advertising.loc[:, ['TV', 'sales']] \n",
        "# The loc expression require both row indices and column names\n",
        "data.head()"
      ],
      "execution_count": 3,
      "outputs": [
        {
          "output_type": "execute_result",
          "data": {
            "text/html": [
              "\n",
              "  <div id=\"df-4c29137b-a453-4e65-9e23-b13e58a88738\">\n",
              "    <div class=\"colab-df-container\">\n",
              "      <div>\n",
              "<style scoped>\n",
              "    .dataframe tbody tr th:only-of-type {\n",
              "        vertical-align: middle;\n",
              "    }\n",
              "\n",
              "    .dataframe tbody tr th {\n",
              "        vertical-align: top;\n",
              "    }\n",
              "\n",
              "    .dataframe thead th {\n",
              "        text-align: right;\n",
              "    }\n",
              "</style>\n",
              "<table border=\"1\" class=\"dataframe\">\n",
              "  <thead>\n",
              "    <tr style=\"text-align: right;\">\n",
              "      <th></th>\n",
              "      <th>TV</th>\n",
              "      <th>sales</th>\n",
              "    </tr>\n",
              "  </thead>\n",
              "  <tbody>\n",
              "    <tr>\n",
              "      <th>1</th>\n",
              "      <td>230.1</td>\n",
              "      <td>22.1</td>\n",
              "    </tr>\n",
              "    <tr>\n",
              "      <th>2</th>\n",
              "      <td>44.5</td>\n",
              "      <td>10.4</td>\n",
              "    </tr>\n",
              "    <tr>\n",
              "      <th>3</th>\n",
              "      <td>17.2</td>\n",
              "      <td>9.3</td>\n",
              "    </tr>\n",
              "    <tr>\n",
              "      <th>4</th>\n",
              "      <td>151.5</td>\n",
              "      <td>18.5</td>\n",
              "    </tr>\n",
              "    <tr>\n",
              "      <th>5</th>\n",
              "      <td>180.8</td>\n",
              "      <td>12.9</td>\n",
              "    </tr>\n",
              "  </tbody>\n",
              "</table>\n",
              "</div>\n",
              "      <button class=\"colab-df-convert\" onclick=\"convertToInteractive('df-4c29137b-a453-4e65-9e23-b13e58a88738')\"\n",
              "              title=\"Convert this dataframe to an interactive table.\"\n",
              "              style=\"display:none;\">\n",
              "        \n",
              "  <svg xmlns=\"http://www.w3.org/2000/svg\" height=\"24px\"viewBox=\"0 0 24 24\"\n",
              "       width=\"24px\">\n",
              "    <path d=\"M0 0h24v24H0V0z\" fill=\"none\"/>\n",
              "    <path d=\"M18.56 5.44l.94 2.06.94-2.06 2.06-.94-2.06-.94-.94-2.06-.94 2.06-2.06.94zm-11 1L8.5 8.5l.94-2.06 2.06-.94-2.06-.94L8.5 2.5l-.94 2.06-2.06.94zm10 10l.94 2.06.94-2.06 2.06-.94-2.06-.94-.94-2.06-.94 2.06-2.06.94z\"/><path d=\"M17.41 7.96l-1.37-1.37c-.4-.4-.92-.59-1.43-.59-.52 0-1.04.2-1.43.59L10.3 9.45l-7.72 7.72c-.78.78-.78 2.05 0 2.83L4 21.41c.39.39.9.59 1.41.59.51 0 1.02-.2 1.41-.59l7.78-7.78 2.81-2.81c.8-.78.8-2.07 0-2.86zM5.41 20L4 18.59l7.72-7.72 1.47 1.35L5.41 20z\"/>\n",
              "  </svg>\n",
              "      </button>\n",
              "      \n",
              "  <style>\n",
              "    .colab-df-container {\n",
              "      display:flex;\n",
              "      flex-wrap:wrap;\n",
              "      gap: 12px;\n",
              "    }\n",
              "\n",
              "    .colab-df-convert {\n",
              "      background-color: #E8F0FE;\n",
              "      border: none;\n",
              "      border-radius: 50%;\n",
              "      cursor: pointer;\n",
              "      display: none;\n",
              "      fill: #1967D2;\n",
              "      height: 32px;\n",
              "      padding: 0 0 0 0;\n",
              "      width: 32px;\n",
              "    }\n",
              "\n",
              "    .colab-df-convert:hover {\n",
              "      background-color: #E2EBFA;\n",
              "      box-shadow: 0px 1px 2px rgba(60, 64, 67, 0.3), 0px 1px 3px 1px rgba(60, 64, 67, 0.15);\n",
              "      fill: #174EA6;\n",
              "    }\n",
              "\n",
              "    [theme=dark] .colab-df-convert {\n",
              "      background-color: #3B4455;\n",
              "      fill: #D2E3FC;\n",
              "    }\n",
              "\n",
              "    [theme=dark] .colab-df-convert:hover {\n",
              "      background-color: #434B5C;\n",
              "      box-shadow: 0px 1px 3px 1px rgba(0, 0, 0, 0.15);\n",
              "      filter: drop-shadow(0px 1px 2px rgba(0, 0, 0, 0.3));\n",
              "      fill: #FFFFFF;\n",
              "    }\n",
              "  </style>\n",
              "\n",
              "      <script>\n",
              "        const buttonEl =\n",
              "          document.querySelector('#df-4c29137b-a453-4e65-9e23-b13e58a88738 button.colab-df-convert');\n",
              "        buttonEl.style.display =\n",
              "          google.colab.kernel.accessAllowed ? 'block' : 'none';\n",
              "\n",
              "        async function convertToInteractive(key) {\n",
              "          const element = document.querySelector('#df-4c29137b-a453-4e65-9e23-b13e58a88738');\n",
              "          const dataTable =\n",
              "            await google.colab.kernel.invokeFunction('convertToInteractive',\n",
              "                                                     [key], {});\n",
              "          if (!dataTable) return;\n",
              "\n",
              "          const docLinkHtml = 'Like what you see? Visit the ' +\n",
              "            '<a target=\"_blank\" href=https://colab.research.google.com/notebooks/data_table.ipynb>data table notebook</a>'\n",
              "            + ' to learn more about interactive tables.';\n",
              "          element.innerHTML = '';\n",
              "          dataTable['output_type'] = 'display_data';\n",
              "          await google.colab.output.renderOutput(dataTable, element);\n",
              "          const docLink = document.createElement('div');\n",
              "          docLink.innerHTML = docLinkHtml;\n",
              "          element.appendChild(docLink);\n",
              "        }\n",
              "      </script>\n",
              "    </div>\n",
              "  </div>\n",
              "  "
            ],
            "text/plain": [
              "      TV  sales\n",
              "1  230.1   22.1\n",
              "2   44.5   10.4\n",
              "3   17.2    9.3\n",
              "4  151.5   18.5\n",
              "5  180.8   12.9"
            ]
          },
          "metadata": {},
          "execution_count": 3
        }
      ]
    },
    {
      "cell_type": "code",
      "source": [
        "# Use the loc expression to find the sale value for row 100\n",
        "advertising.loc[100, 'sales']\n",
        "\n",
        "# Use the loc expression to find the sales value for row 50 to 60\n",
        "advertising = advertising.reset_index(drop=True)\n",
        "advertising.loc[[50, 52, 69], 'sales']"
      ],
      "metadata": {
        "id": "A2jQdC8OWlgc",
        "outputId": "778aa76b-8a04-48f3-ab4d-31b99fd4e48b",
        "colab": {
          "base_uri": "https://localhost:8080/"
        }
      },
      "execution_count": null,
      "outputs": [
        {
          "output_type": "execute_result",
          "data": {
            "text/plain": [
              "50    12.2\n",
              "52    19.4\n",
              "69    18.3\n",
              "Name: sales, dtype: float64"
            ]
          },
          "metadata": {},
          "execution_count": 37
        }
      ]
    },
    {
      "cell_type": "markdown",
      "metadata": {
        "id": "tx1p0xS8xn96"
      },
      "source": [
        "## Simple Linear Regression: Model Representation\n",
        "\n",
        "In order to describe the model mathematically, we need to introduce a few notations:\n",
        "- The input feature `TV` is represented as variable $X$.\n",
        "- The output/response feature `sales` is represented as variable $Y$.\n",
        "- Each instance of data is represented as $(x^{(i)}, y^{(i)})$, where $i$ is the row index, $x^{(i)}$ is the value corresponding to $X$, and $y^{(i)}$ is the value corresponding to $Y$. For example, $(x^{(0)}, y^{(0)}) = (296.4, 23.8)$.\n",
        "- Let $N$ represent the total number of data. In this case, N = 200.\n",
        "\n",
        "The **simple linear regression** model assumes that the relationship between $X$ and $Y$ is\n",
        "$$Y \\approx f(X) = \\beta_0 + \\beta_1 X.$$\n",
        "\n",
        "- $\\beta_0$ and $\\beta_1$ are called **model parameters**. For simple linear regression, the relationship is characterized as a straight line with slope $\\beta_1$ and y-intercept $\\beta_0$.\n"
      ]
    },
    {
      "cell_type": "code",
      "metadata": {
        "id": "7OG0xPdQxowG",
        "outputId": "f168bc70-c88b-4d91-c9f1-dafa54b849fb",
        "colab": {
          "base_uri": "https://localhost:8080/"
        }
      },
      "source": [
        "# Train a linear regression model using sklearn\n",
        "from sklearn.linear_model import LinearRegression\n",
        "model_lr = LinearRegression()\n",
        "model_lr.fit(data[['TV']], data[['sales']])"
      ],
      "execution_count": 4,
      "outputs": [
        {
          "output_type": "execute_result",
          "data": {
            "text/plain": [
              "LinearRegression()"
            ]
          },
          "metadata": {},
          "execution_count": 4
        }
      ]
    },
    {
      "cell_type": "code",
      "metadata": {
        "id": "p5ug-sihyEH2",
        "outputId": "9dbc67bb-8aa1-49ca-feb0-94fc632be26a",
        "colab": {
          "base_uri": "https://localhost:8080/"
        }
      },
      "source": [
        "# The coef_ and intercept_ attributes contain parameter values\n",
        "print(model_lr.coef_) # beta_1\n",
        "print(model_lr.intercept_) # beta_0"
      ],
      "execution_count": 6,
      "outputs": [
        {
          "output_type": "stream",
          "name": "stdout",
          "text": [
            "[[0.04753664]]\n",
            "[7.03259355]\n"
          ]
        }
      ]
    },
    {
      "cell_type": "code",
      "metadata": {
        "id": "7TgQXsAnyHT5",
        "outputId": "d9a4ac4d-e772-4222-ea47-705bd8fb21e7",
        "colab": {
          "base_uri": "https://localhost:8080/",
          "height": 282
        }
      },
      "source": [
        "# Plot the data points and the optimal regression line.\n",
        "m = model_lr.coef_[0, 0]   # slope\n",
        "b = model_lr.intercept_[0] # y-intercept\n",
        "\n",
        "plt.plot(data['TV'], data['sales'], 'b.')\n",
        "x_coordinates = np.array([0,300])\n",
        "y_coordinates = x_coordinates * m + b\n",
        "plt.plot(x_coordinates, y_coordinates, 'g-')"
      ],
      "execution_count": 9,
      "outputs": [
        {
          "output_type": "execute_result",
          "data": {
            "text/plain": [
              "[<matplotlib.lines.Line2D at 0x7fe5b14190d0>]"
            ]
          },
          "metadata": {},
          "execution_count": 9
        },
        {
          "output_type": "display_data",
          "data": {
            "image/png": "[encoded data removed]",
            "text/plain": [
              "<Figure size 432x288 with 1 Axes>"
            ]
          },
          "metadata": {
            "needs_background": "light"
          }
        }
      ]
    },
    {
      "cell_type": "markdown",
      "metadata": {
        "id": "PDvJFvT-yME3"
      },
      "source": [
        "## Train A Simple Linear Regression Model\n",
        "\n",
        "- For a given set of model parameters, we need a **cost function** (in some occasions also called **loss function**) that measures how well a given line fits the data.\n",
        "- We also need a **training algorithm** that finds values of parameters so that the line fits the data well (usually \"fitting the data well\" means \"minimizing the cost\").\n",
        "\n",
        "For linear regression:\n",
        "- Cost function: \n",
        "    - Mean squared error (MSE)\n",
        "    - Mean absolute error (MAE)\n",
        "    - Other variants\n",
        "- Training algorithm: \n",
        "    - Normal equation\n",
        "    - Gradient descent"
      ]
    },
    {
      "cell_type": "markdown",
      "metadata": {
        "id": "aWHfwa8xzCh1"
      },
      "source": [
        "## Simple Linear Regression: Cost Function\n",
        "A common choice of cost function is the **mean squared error (MSE) function**. It is defined as\n",
        "$$\\begin{align}\n",
        "MSE(\\beta_0, \\beta_1) =& \n",
        "\\frac{1}{N}\\sum_{i=1}^N (y^{(i)} - f(x^{(i)}))^2 \\\\\n",
        "=& \\frac{1}{N}\\sum_{i=1}^N\\big(y^{(i)} - \\beta_0 - \\beta_1x^{(i)}\\big)^2.\n",
        "\\end{align}$$"
      ]
    },
    {
      "cell_type": "markdown",
      "metadata": {
        "id": "GW1mYje6zIm6"
      },
      "source": [
        "To better understand the MSE function, let's calculate the value $MSE(7.03, 0.04)$."
      ]
    },
    {
      "cell_type": "code",
      "metadata": {
        "id": "mO4pOxm4zZ-g",
        "outputId": "d89b1429-a40e-454b-d463-2f39fd8de0f4",
        "colab": {
          "base_uri": "https://localhost:8080/"
        }
      },
      "source": [
        "# Example:\n",
        "# Calculate the squared error of the model on the first record.\n",
        "\n",
        "beta0 = 7.03\n",
        "beta1 = 0.04\n",
        "\n",
        "x1 = data.loc[1, 'TV'] # 230.1\n",
        "y1 = data.loc[1, 'sales'] #22.1\n",
        "print(\"x1, y1:\", x1, y1)\n",
        "\n",
        "# Calculate f(x1) = beta0 + beta1 * x1\n",
        "f_x1 = beta0 + beta1 * x1\n",
        "\n",
        "# Calculate the squared error (y1 - f(x1)) ** 2\n",
        "squared_error = (y1 - f_x1) ** 2\n",
        "\n",
        "# squared_error = (y1 - beta0 - beta1 * x1) ** 2\n",
        "\n",
        "print(\"Squared error from Record 1:\", squared_error)"
      ],
      "execution_count": 10,
      "outputs": [
        {
          "output_type": "stream",
          "name": "stdout",
          "text": [
            "x1, y1: 230.1 22.1\n",
            "Squared error from Record 1: 34.409955999999994\n"
          ]
        }
      ]
    },
    {
      "cell_type": "code",
      "metadata": {
        "id": "z1sV3w--0A6i",
        "outputId": "f625fa2a-438a-4197-f2ed-1236af2bb874",
        "colab": {
          "base_uri": "https://localhost:8080/"
        }
      },
      "source": [
        "# Example:\n",
        "# Calculate the squared error of the model on an arbitrary record.\n",
        "\n",
        "beta0 = 7.03\n",
        "beta1 = 0.04\n",
        "\n",
        "i = 100  # index of the record\n",
        "xi = data.loc[i, 'TV']\n",
        "yi = data.loc[i, 'sales']\n",
        "print(\"xi, yi:\", xi, yi)\n",
        "\n",
        "# Calculate f(xi)\n",
        "f_xi = beta0 + beta1 * xi\n",
        "\n",
        "# Calculate the squared error (yi - f(xi)) ** 2\n",
        "squared_error = (yi - f_xi) ** 2\n",
        "\n",
        "print(\"Squared error for Record %d:\" % i, squared_error)"
      ],
      "execution_count": 19,
      "outputs": [
        {
          "output_type": "stream",
          "name": "stdout",
          "text": [
            "xi, yi: 135.2 17.2\n",
            "Squared error for Record 100: 22.676644000000003\n"
          ]
        }
      ]
    },
    {
      "cell_type": "code",
      "source": [
        "# data[data.index == i]"
      ],
      "metadata": {
        "id": "M-NaVAL8j7QF",
        "outputId": "ee4242a2-b291-4fb9-c78c-d3f9d3e1bd44",
        "colab": {
          "base_uri": "https://localhost:8080/",
          "height": 81
        }
      },
      "execution_count": 13,
      "outputs": [
        {
          "output_type": "execute_result",
          "data": {
            "text/html": [
              "\n",
              "  <div id=\"df-5ffd83c5-cd00-482f-9852-7c96cd8c0c78\">\n",
              "    <div class=\"colab-df-container\">\n",
              "      <div>\n",
              "<style scoped>\n",
              "    .dataframe tbody tr th:only-of-type {\n",
              "        vertical-align: middle;\n",
              "    }\n",
              "\n",
              "    .dataframe tbody tr th {\n",
              "        vertical-align: top;\n",
              "    }\n",
              "\n",
              "    .dataframe thead th {\n",
              "        text-align: right;\n",
              "    }\n",
              "</style>\n",
              "<table border=\"1\" class=\"dataframe\">\n",
              "  <thead>\n",
              "    <tr style=\"text-align: right;\">\n",
              "      <th></th>\n",
              "      <th>TV</th>\n",
              "      <th>sales</th>\n",
              "    </tr>\n",
              "  </thead>\n",
              "  <tbody>\n",
              "    <tr>\n",
              "      <th>100</th>\n",
              "      <td>135.2</td>\n",
              "      <td>17.2</td>\n",
              "    </tr>\n",
              "  </tbody>\n",
              "</table>\n",
              "</div>\n",
              "      <button class=\"colab-df-convert\" onclick=\"convertToInteractive('df-5ffd83c5-cd00-482f-9852-7c96cd8c0c78')\"\n",
              "              title=\"Convert this dataframe to an interactive table.\"\n",
              "              style=\"display:none;\">\n",
              "        \n",
              "  <svg xmlns=\"http://www.w3.org/2000/svg\" height=\"24px\"viewBox=\"0 0 24 24\"\n",
              "       width=\"24px\">\n",
              "    <path d=\"M0 0h24v24H0V0z\" fill=\"none\"/>\n",
              "    <path d=\"M18.56 5.44l.94 2.06.94-2.06 2.06-.94-2.06-.94-.94-2.06-.94 2.06-2.06.94zm-11 1L8.5 8.5l.94-2.06 2.06-.94-2.06-.94L8.5 2.5l-.94 2.06-2.06.94zm10 10l.94 2.06.94-2.06 2.06-.94-2.06-.94-.94-2.06-.94 2.06-2.06.94z\"/><path d=\"M17.41 7.96l-1.37-1.37c-.4-.4-.92-.59-1.43-.59-.52 0-1.04.2-1.43.59L10.3 9.45l-7.72 7.72c-.78.78-.78 2.05 0 2.83L4 21.41c.39.39.9.59 1.41.59.51 0 1.02-.2 1.41-.59l7.78-7.78 2.81-2.81c.8-.78.8-2.07 0-2.86zM5.41 20L4 18.59l7.72-7.72 1.47 1.35L5.41 20z\"/>\n",
              "  </svg>\n",
              "      </button>\n",
              "      \n",
              "  <style>\n",
              "    .colab-df-container {\n",
              "      display:flex;\n",
              "      flex-wrap:wrap;\n",
              "      gap: 12px;\n",
              "    }\n",
              "\n",
              "    .colab-df-convert {\n",
              "      background-color: #E8F0FE;\n",
              "      border: none;\n",
              "      border-radius: 50%;\n",
              "      cursor: pointer;\n",
              "      display: none;\n",
              "      fill: #1967D2;\n",
              "      height: 32px;\n",
              "      padding: 0 0 0 0;\n",
              "      width: 32px;\n",
              "    }\n",
              "\n",
              "    .colab-df-convert:hover {\n",
              "      background-color: #E2EBFA;\n",
              "      box-shadow: 0px 1px 2px rgba(60, 64, 67, 0.3), 0px 1px 3px 1px rgba(60, 64, 67, 0.15);\n",
              "      fill: #174EA6;\n",
              "    }\n",
              "\n",
              "    [theme=dark] .colab-df-convert {\n",
              "      background-color: #3B4455;\n",
              "      fill: #D2E3FC;\n",
              "    }\n",
              "\n",
              "    [theme=dark] .colab-df-convert:hover {\n",
              "      background-color: #434B5C;\n",
              "      box-shadow: 0px 1px 3px 1px rgba(0, 0, 0, 0.15);\n",
              "      filter: drop-shadow(0px 1px 2px rgba(0, 0, 0, 0.3));\n",
              "      fill: #FFFFFF;\n",
              "    }\n",
              "  </style>\n",
              "\n",
              "      <script>\n",
              "        const buttonEl =\n",
              "          document.querySelector('#df-5ffd83c5-cd00-482f-9852-7c96cd8c0c78 button.colab-df-convert');\n",
              "        buttonEl.style.display =\n",
              "          google.colab.kernel.accessAllowed ? 'block' : 'none';\n",
              "\n",
              "        async function convertToInteractive(key) {\n",
              "          const element = document.querySelector('#df-5ffd83c5-cd00-482f-9852-7c96cd8c0c78');\n",
              "          const dataTable =\n",
              "            await google.colab.kernel.invokeFunction('convertToInteractive',\n",
              "                                                     [key], {});\n",
              "          if (!dataTable) return;\n",
              "\n",
              "          const docLinkHtml = 'Like what you see? Visit the ' +\n",
              "            '<a target=\"_blank\" href=https://colab.research.google.com/notebooks/data_table.ipynb>data table notebook</a>'\n",
              "            + ' to learn more about interactive tables.';\n",
              "          element.innerHTML = '';\n",
              "          dataTable['output_type'] = 'display_data';\n",
              "          await google.colab.output.renderOutput(dataTable, element);\n",
              "          const docLink = document.createElement('div');\n",
              "          docLink.innerHTML = docLinkHtml;\n",
              "          element.appendChild(docLink);\n",
              "        }\n",
              "      </script>\n",
              "    </div>\n",
              "  </div>\n",
              "  "
            ],
            "text/plain": [
              "        TV  sales\n",
              "100  135.2   17.2"
            ]
          },
          "metadata": {},
          "execution_count": 13
        }
      ]
    },
    {
      "cell_type": "code",
      "metadata": {
        "id": "zWD4Yuf20Vnn"
      },
      "source": [
        "# Write a function that produces the squared error given beta0, beta1, data, and i\n",
        "def get_squared_error(beta0, beta1, data, i):\n",
        "\n",
        "    xi = data.loc[i, 'TV']\n",
        "    yi = data.loc[i, 'sales']\n",
        "    # print(\"xi, yi:\", xi, yi)\n",
        "\n",
        "    # Calculate f(xi)\n",
        "    f_xi = beta0 + beta1 * xi\n",
        "\n",
        "    # Calculate the squared error (yi - f(xi)) ** 2\n",
        "    squared_error = (yi - f_xi) ** 2\n",
        "\n",
        "    return squared_error"
      ],
      "execution_count": 20,
      "outputs": []
    },
    {
      "cell_type": "code",
      "source": [
        "get_squared_error(7.03, 0.04, data, 100)"
      ],
      "metadata": {
        "id": "DgBwQOIPkyTF",
        "outputId": "25d533ed-ca5a-4e58-965f-fb178da2e645",
        "colab": {
          "base_uri": "https://localhost:8080/"
        }
      },
      "execution_count": 25,
      "outputs": [
        {
          "output_type": "execute_result",
          "data": {
            "text/plain": [
              "22.676644000000003"
            ]
          },
          "metadata": {},
          "execution_count": 25
        }
      ]
    },
    {
      "cell_type": "code",
      "metadata": {
        "id": "DO0O9zPd0gto",
        "outputId": "1721eaa6-f063-441a-c682-d3616f9a411d",
        "colab": {
          "base_uri": "https://localhost:8080/"
        }
      },
      "source": [
        "# Create a list that contains value of (y_1 - f(x_1))^2 for i=1,...,200.\n",
        "list_errors = []\n",
        "for ind in data.index:\n",
        "    # call function `get_sqaured_error` with ind\n",
        "    squared_error = get_squared_error(7.03, 0.04, data, ind)\n",
        "    # append squared error to `list_errors`\n",
        "    list_errors.append(squared_error)\n",
        "    \n",
        "print(list_errors)"
      ],
      "execution_count": 26,
      "outputs": [
        {
          "output_type": "stream",
          "name": "stdout",
          "text": [
            "[34.409955999999994, 2.5280999999999993, 2.5027240000000024, 29.2681, 1.8550440000000004, 0.031683999999999976, 6.100900000000003, 1.8550439999999955, 6.6254760000000035, 19.55408400000002, 1.1534759999999997, 3.1755240000000002, 1.4835239999999978, 1.512900000000001, 14.485636000000007, 57.06291599999998, 7.606563999999995, 37.38099600000001, 2.256004000000002, 2.815683999999997, 4.990755999999992, 16.208675999999997, 3.833764000000001, 0.4382440000000034, 0.031683999999999664, 30.758115999999994, 5.080515999999998, 0.538756, 3.678723999999997, 0.417316000000001, 7.043716, 0.1253160000000007, 1.7371240000000037, 0.06451600000000068, 1.8441640000000015, 34.31616400000001, 59.19763599999999, 21.92112399999999, 1.8117159999999954, 28.622499999999977, 2.160900000000007, 8.940100000000012, 3.709475999999994, 5.7888360000000025, 0.21715599999999935, 0.7499560000000025, 0.00032400000000002457, 43.21747599999998, 1.7371239999999943, 3.600000000000273e-05, 13.118884000000012, 0.11971600000000006, 47.80339600000002, 47.14195599999999, 7.086243999999994, 75.93379599999997, 3.319684, 0.5212839999999993, 69.52224400000001, 8.655364, 1.1449000000000007, 45.131524, 0.8136040000000019, 8.19104399999999, 32.78707599999999, 0.2401000000000002, 1.4640999999999977, 0.636804, 5.635875999999994, 43.53360399999999, 10.929636000000006, 0.9564839999999996, 0.4872040000000006, 1.4544359999999987, 2.056356000000003, 0.9880359999999978, 1.512900000000001, 5.52249999999999, 3.7869160000000024, 0.4488999999999999, 2.9377960000000014, 18.679683999999995, 1.5825640000000023, 14.699555999999998, 37.57689999999999, 0.19536400000000015, 3.678723999999997, 20.629763999999998, 5.466243999999996, 27.857283999999986, 1.4448040000000042, 0.7638759999999994, 13.410243999999993, 26.357956000000005, 0.03027599999999982, 11.142243999999982, 10.458756000000012, 1.153475999999996, 45.995524, 22.676644000000003, 17.859076000000023, 24.147396000000015, 11.819843999999993, 0.023715999999999973, 17.156163999999997, 44.275715999999996, 0.6889000000000016, 3.786916000000006, 5.080516000000002, 6.522915999999992, 7.086244000000004, 26.030404000000004, 0.0017639999999999845, 0.2361959999999989, 19.731363999999985, 6.584355999999994, 0.15840399999999974, 0.4705959999999999, 14.760964000000005, 1.454436000000001, 7.941123999999998, 0.6115240000000001, 19.27210000000002, 10.536515999999992, 12.180099999999989, 0.00672399999999983, 0.5505640000000013, 2.0678439999999965, 78.46416399999994, 0.08179599999999976, 29.789764, 24.383844000000025, 2.7755560000000012, 14.273284000000016, 5.262436000000002, 6.959044, 2.090915999999999, 7.963683999999995, 0.7224999999999994, 39.363075999999964, 0.8723559999999987, 19.554084000000007, 18.0625, 0.6625960000000001, 0.2724840000000002, 5.484964000000002, 11.792356000000007, 74.684164, 5.522499999999998, 1.6435239999999955, 4.65696399999999, 0.07290000000000073, 2.7755560000000012, 26.193923999999985, 1.1193639999999958, 15.952035999999998, 20.376195999999993, 8.538084000000014, 0.039204000000000155, 0.3624040000000004, 0.2209000000000006, 8.076964000000004, 0.11155599999999975, 19.624899999999997, 0.03312400000000014, 20.3401, 0.06451599999999978, 9.622404000000001, 2.114116000000002, 11.573604000000007, 0.396900000000001, 0.792100000000001, 0.04579600000000018, 4.2683560000000105, 19.589476000000015, 79.10323600000004, 10.458755999999989, 4.571044000000007, 39.664803999999975, 1.1109160000000005, 7.806436000000002, 12.744900000000001, 0.3340840000000014, 58.76755599999995, 0.17472399999999938, 54.31690000000002, 5.336099999999994, 6.895876000000007, 6.604899999999993, 1.1620840000000006, 4.796100000000005, 0.022500000000000107, 3.3051239999999984, 34.786404, 18.335524, 0.9177640000000004, 1.2056040000000017, 1.7160999999999966, 50.779875999999966, 8.491395999999998]\n"
          ]
        }
      ]
    },
    {
      "cell_type": "code",
      "metadata": {
        "id": "z-CuWXTJ0ymr",
        "outputId": "26ac53bb-adab-4d3c-a76f-9471fc0b6887",
        "colab": {
          "base_uri": "https://localhost:8080/"
        }
      },
      "source": [
        "# Create list_errors using list comprehension\n",
        "\n",
        "list_errors = [get_squared_error(7.03, 0.04, data, ind) for ind in data.index]\n",
        "print(list_errors)"
      ],
      "execution_count": 27,
      "outputs": [
        {
          "output_type": "stream",
          "name": "stdout",
          "text": [
            "[34.409955999999994, 2.5280999999999993, 2.5027240000000024, 29.2681, 1.8550440000000004, 0.031683999999999976, 6.100900000000003, 1.8550439999999955, 6.6254760000000035, 19.55408400000002, 1.1534759999999997, 3.1755240000000002, 1.4835239999999978, 1.512900000000001, 14.485636000000007, 57.06291599999998, 7.606563999999995, 37.38099600000001, 2.256004000000002, 2.815683999999997, 4.990755999999992, 16.208675999999997, 3.833764000000001, 0.4382440000000034, 0.031683999999999664, 30.758115999999994, 5.080515999999998, 0.538756, 3.678723999999997, 0.417316000000001, 7.043716, 0.1253160000000007, 1.7371240000000037, 0.06451600000000068, 1.8441640000000015, 34.31616400000001, 59.19763599999999, 21.92112399999999, 1.8117159999999954, 28.622499999999977, 2.160900000000007, 8.940100000000012, 3.709475999999994, 5.7888360000000025, 0.21715599999999935, 0.7499560000000025, 0.00032400000000002457, 43.21747599999998, 1.7371239999999943, 3.600000000000273e-05, 13.118884000000012, 0.11971600000000006, 47.80339600000002, 47.14195599999999, 7.086243999999994, 75.93379599999997, 3.319684, 0.5212839999999993, 69.52224400000001, 8.655364, 1.1449000000000007, 45.131524, 0.8136040000000019, 8.19104399999999, 32.78707599999999, 0.2401000000000002, 1.4640999999999977, 0.636804, 5.635875999999994, 43.53360399999999, 10.929636000000006, 0.9564839999999996, 0.4872040000000006, 1.4544359999999987, 2.056356000000003, 0.9880359999999978, 1.512900000000001, 5.52249999999999, 3.7869160000000024, 0.4488999999999999, 2.9377960000000014, 18.679683999999995, 1.5825640000000023, 14.699555999999998, 37.57689999999999, 0.19536400000000015, 3.678723999999997, 20.629763999999998, 5.466243999999996, 27.857283999999986, 1.4448040000000042, 0.7638759999999994, 13.410243999999993, 26.357956000000005, 0.03027599999999982, 11.142243999999982, 10.458756000000012, 1.153475999999996, 45.995524, 22.676644000000003, 17.859076000000023, 24.147396000000015, 11.819843999999993, 0.023715999999999973, 17.156163999999997, 44.275715999999996, 0.6889000000000016, 3.786916000000006, 5.080516000000002, 6.522915999999992, 7.086244000000004, 26.030404000000004, 0.0017639999999999845, 0.2361959999999989, 19.731363999999985, 6.584355999999994, 0.15840399999999974, 0.4705959999999999, 14.760964000000005, 1.454436000000001, 7.941123999999998, 0.6115240000000001, 19.27210000000002, 10.536515999999992, 12.180099999999989, 0.00672399999999983, 0.5505640000000013, 2.0678439999999965, 78.46416399999994, 0.08179599999999976, 29.789764, 24.383844000000025, 2.7755560000000012, 14.273284000000016, 5.262436000000002, 6.959044, 2.090915999999999, 7.963683999999995, 0.7224999999999994, 39.363075999999964, 0.8723559999999987, 19.554084000000007, 18.0625, 0.6625960000000001, 0.2724840000000002, 5.484964000000002, 11.792356000000007, 74.684164, 5.522499999999998, 1.6435239999999955, 4.65696399999999, 0.07290000000000073, 2.7755560000000012, 26.193923999999985, 1.1193639999999958, 15.952035999999998, 20.376195999999993, 8.538084000000014, 0.039204000000000155, 0.3624040000000004, 0.2209000000000006, 8.076964000000004, 0.11155599999999975, 19.624899999999997, 0.03312400000000014, 20.3401, 0.06451599999999978, 9.622404000000001, 2.114116000000002, 11.573604000000007, 0.396900000000001, 0.792100000000001, 0.04579600000000018, 4.2683560000000105, 19.589476000000015, 79.10323600000004, 10.458755999999989, 4.571044000000007, 39.664803999999975, 1.1109160000000005, 7.806436000000002, 12.744900000000001, 0.3340840000000014, 58.76755599999995, 0.17472399999999938, 54.31690000000002, 5.336099999999994, 6.895876000000007, 6.604899999999993, 1.1620840000000006, 4.796100000000005, 0.022500000000000107, 3.3051239999999984, 34.786404, 18.335524, 0.9177640000000004, 1.2056040000000017, 1.7160999999999966, 50.779875999999966, 8.491395999999998]\n"
          ]
        }
      ]
    },
    {
      "cell_type": "code",
      "metadata": {
        "id": "jIvs1hdq05Et",
        "outputId": "9ca80f3c-8eec-4b04-b612-b2f10b22c3d4",
        "colab": {
          "base_uri": "https://localhost:8080/"
        }
      },
      "source": [
        "# Calculate the MSE\n",
        "\n",
        "MSE = sum(list_errors) / len(list_errors)\n",
        "\n",
        "print(\"MSE:\", MSE)"
      ],
      "execution_count": 29,
      "outputs": [
        {
          "output_type": "stream",
          "name": "stdout",
          "text": [
            "MSE: 12.163113119999997\n"
          ]
        }
      ]
    },
    {
      "cell_type": "code",
      "metadata": {
        "id": "fjnGTY_809MO"
      },
      "source": [
        "# Write a function MSE(beta0, beta1, data) that returns the value of MSE with given beta0 and beta1.\n",
        "def get_MSE(beta0, beta1, data):\n",
        "\n",
        "    list_errors = [get_squared_error(beta0, beta1, data, ind) for ind in data.index]\n",
        "\n",
        "    MSE = sum(list_errors) / len(list_errors)\n",
        "\n",
        "    return MSE"
      ],
      "execution_count": 30,
      "outputs": []
    },
    {
      "cell_type": "markdown",
      "metadata": {
        "id": "SGWuXzWK1AAK"
      },
      "source": [
        "Now, use function `get_MSE` to obtain the MSE for the following two sets of parameter values\n",
        "- Case 1: $\\beta_0 = 7.03, \\beta_1 = 0.04$\n",
        "- Case 2: $\\beta_0 = 5, \\beta_1 = 1$\n",
        "\n",
        "Which one fits the data better?"
      ]
    },
    {
      "cell_type": "code",
      "metadata": {
        "id": "-cSOk1Dw1aYm",
        "outputId": "af2e8983-463a-4522-e6a0-a8f718a3c799",
        "colab": {
          "base_uri": "https://localhost:8080/"
        }
      },
      "source": [
        "get_MSE(7.04, 0.04, data)"
      ],
      "execution_count": 33,
      "outputs": [
        {
          "output_type": "execute_result",
          "data": {
            "text/plain": [
              "12.140997119999994"
            ]
          },
          "metadata": {},
          "execution_count": 33
        }
      ]
    },
    {
      "cell_type": "markdown",
      "metadata": {
        "id": "C9nwZT2h1gWZ"
      },
      "source": [
        "Now that we have obtained the cost function, our next goal is to find the parameter values that minimizes the cost value."
      ]
    },
    {
      "cell_type": "code",
      "source": [
        "data"
      ],
      "metadata": {
        "id": "vtElCKLqqj2D",
        "outputId": "21e0d373-0ef5-47cc-d780-e7d0ae5d6505",
        "colab": {
          "base_uri": "https://localhost:8080/",
          "height": 423
        }
      },
      "execution_count": 34,
      "outputs": [
        {
          "output_type": "execute_result",
          "data": {
            "text/html": [
              "\n",
              "  <div id=\"df-929d636a-5785-45c8-bf3e-2f2e7df83a13\">\n",
              "    <div class=\"colab-df-container\">\n",
              "      <div>\n",
              "<style scoped>\n",
              "    .dataframe tbody tr th:only-of-type {\n",
              "        vertical-align: middle;\n",
              "    }\n",
              "\n",
              "    .dataframe tbody tr th {\n",
              "        vertical-align: top;\n",
              "    }\n",
              "\n",
              "    .dataframe thead th {\n",
              "        text-align: right;\n",
              "    }\n",
              "</style>\n",
              "<table border=\"1\" class=\"dataframe\">\n",
              "  <thead>\n",
              "    <tr style=\"text-align: right;\">\n",
              "      <th></th>\n",
              "      <th>TV</th>\n",
              "      <th>sales</th>\n",
              "    </tr>\n",
              "  </thead>\n",
              "  <tbody>\n",
              "    <tr>\n",
              "      <th>1</th>\n",
              "      <td>230.1</td>\n",
              "      <td>22.1</td>\n",
              "    </tr>\n",
              "    <tr>\n",
              "      <th>2</th>\n",
              "      <td>44.5</td>\n",
              "      <td>10.4</td>\n",
              "    </tr>\n",
              "    <tr>\n",
              "      <th>3</th>\n",
              "      <td>17.2</td>\n",
              "      <td>9.3</td>\n",
              "    </tr>\n",
              "    <tr>\n",
              "      <th>4</th>\n",
              "      <td>151.5</td>\n",
              "      <td>18.5</td>\n",
              "    </tr>\n",
              "    <tr>\n",
              "      <th>5</th>\n",
              "      <td>180.8</td>\n",
              "      <td>12.9</td>\n",
              "    </tr>\n",
              "    <tr>\n",
              "      <th>...</th>\n",
              "      <td>...</td>\n",
              "      <td>...</td>\n",
              "    </tr>\n",
              "    <tr>\n",
              "      <th>196</th>\n",
              "      <td>38.2</td>\n",
              "      <td>7.6</td>\n",
              "    </tr>\n",
              "    <tr>\n",
              "      <th>197</th>\n",
              "      <td>94.2</td>\n",
              "      <td>9.7</td>\n",
              "    </tr>\n",
              "    <tr>\n",
              "      <th>198</th>\n",
              "      <td>177.0</td>\n",
              "      <td>12.8</td>\n",
              "    </tr>\n",
              "    <tr>\n",
              "      <th>199</th>\n",
              "      <td>283.6</td>\n",
              "      <td>25.5</td>\n",
              "    </tr>\n",
              "    <tr>\n",
              "      <th>200</th>\n",
              "      <td>232.1</td>\n",
              "      <td>13.4</td>\n",
              "    </tr>\n",
              "  </tbody>\n",
              "</table>\n",
              "<p>200 rows × 2 columns</p>\n",
              "</div>\n",
              "      <button class=\"colab-df-convert\" onclick=\"convertToInteractive('df-929d636a-5785-45c8-bf3e-2f2e7df83a13')\"\n",
              "              title=\"Convert this dataframe to an interactive table.\"\n",
              "              style=\"display:none;\">\n",
              "        \n",
              "  <svg xmlns=\"http://www.w3.org/2000/svg\" height=\"24px\"viewBox=\"0 0 24 24\"\n",
              "       width=\"24px\">\n",
              "    <path d=\"M0 0h24v24H0V0z\" fill=\"none\"/>\n",
              "    <path d=\"M18.56 5.44l.94 2.06.94-2.06 2.06-.94-2.06-.94-.94-2.06-.94 2.06-2.06.94zm-11 1L8.5 8.5l.94-2.06 2.06-.94-2.06-.94L8.5 2.5l-.94 2.06-2.06.94zm10 10l.94 2.06.94-2.06 2.06-.94-2.06-.94-.94-2.06-.94 2.06-2.06.94z\"/><path d=\"M17.41 7.96l-1.37-1.37c-.4-.4-.92-.59-1.43-.59-.52 0-1.04.2-1.43.59L10.3 9.45l-7.72 7.72c-.78.78-.78 2.05 0 2.83L4 21.41c.39.39.9.59 1.41.59.51 0 1.02-.2 1.41-.59l7.78-7.78 2.81-2.81c.8-.78.8-2.07 0-2.86zM5.41 20L4 18.59l7.72-7.72 1.47 1.35L5.41 20z\"/>\n",
              "  </svg>\n",
              "      </button>\n",
              "      \n",
              "  <style>\n",
              "    .colab-df-container {\n",
              "      display:flex;\n",
              "      flex-wrap:wrap;\n",
              "      gap: 12px;\n",
              "    }\n",
              "\n",
              "    .colab-df-convert {\n",
              "      background-color: #E8F0FE;\n",
              "      border: none;\n",
              "      border-radius: 50%;\n",
              "      cursor: pointer;\n",
              "      display: none;\n",
              "      fill: #1967D2;\n",
              "      height: 32px;\n",
              "      padding: 0 0 0 0;\n",
              "      width: 32px;\n",
              "    }\n",
              "\n",
              "    .colab-df-convert:hover {\n",
              "      background-color: #E2EBFA;\n",
              "      box-shadow: 0px 1px 2px rgba(60, 64, 67, 0.3), 0px 1px 3px 1px rgba(60, 64, 67, 0.15);\n",
              "      fill: #174EA6;\n",
              "    }\n",
              "\n",
              "    [theme=dark] .colab-df-convert {\n",
              "      background-color: #3B4455;\n",
              "      fill: #D2E3FC;\n",
              "    }\n",
              "\n",
              "    [theme=dark] .colab-df-convert:hover {\n",
              "      background-color: #434B5C;\n",
              "      box-shadow: 0px 1px 3px 1px rgba(0, 0, 0, 0.15);\n",
              "      filter: drop-shadow(0px 1px 2px rgba(0, 0, 0, 0.3));\n",
              "      fill: #FFFFFF;\n",
              "    }\n",
              "  </style>\n",
              "\n",
              "      <script>\n",
              "        const buttonEl =\n",
              "          document.querySelector('#df-929d636a-5785-45c8-bf3e-2f2e7df83a13 button.colab-df-convert');\n",
              "        buttonEl.style.display =\n",
              "          google.colab.kernel.accessAllowed ? 'block' : 'none';\n",
              "\n",
              "        async function convertToInteractive(key) {\n",
              "          const element = document.querySelector('#df-929d636a-5785-45c8-bf3e-2f2e7df83a13');\n",
              "          const dataTable =\n",
              "            await google.colab.kernel.invokeFunction('convertToInteractive',\n",
              "                                                     [key], {});\n",
              "          if (!dataTable) return;\n",
              "\n",
              "          const docLinkHtml = 'Like what you see? Visit the ' +\n",
              "            '<a target=\"_blank\" href=https://colab.research.google.com/notebooks/data_table.ipynb>data table notebook</a>'\n",
              "            + ' to learn more about interactive tables.';\n",
              "          element.innerHTML = '';\n",
              "          dataTable['output_type'] = 'display_data';\n",
              "          await google.colab.output.renderOutput(dataTable, element);\n",
              "          const docLink = document.createElement('div');\n",
              "          docLink.innerHTML = docLinkHtml;\n",
              "          element.appendChild(docLink);\n",
              "        }\n",
              "      </script>\n",
              "    </div>\n",
              "  </div>\n",
              "  "
            ],
            "text/plain": [
              "        TV  sales\n",
              "1    230.1   22.1\n",
              "2     44.5   10.4\n",
              "3     17.2    9.3\n",
              "4    151.5   18.5\n",
              "5    180.8   12.9\n",
              "..     ...    ...\n",
              "196   38.2    7.6\n",
              "197   94.2    9.7\n",
              "198  177.0   12.8\n",
              "199  283.6   25.5\n",
              "200  232.1   13.4\n",
              "\n",
              "[200 rows x 2 columns]"
            ]
          },
          "metadata": {},
          "execution_count": 34
        }
      ]
    },
    {
      "cell_type": "markdown",
      "metadata": {
        "id": "CJakGFWK1vIq"
      },
      "source": [
        "# Simple Linear Regression: Training Algorithm\n",
        "To find the value of $\\beta_0, \\beta_1$ that minimizes the MSE cost function, there is a formula called the **normal equation** that gives the result directly:\n",
        "\n",
        "$$\\begin{pmatrix} \\beta_0 \\\\ \\beta_1 \\end{pmatrix} = (\\textbf{X}^T\\cdot\\textbf{X})^{-1}\\cdot\\textbf{X}^T\\cdot\\textbf{y}.$$\n",
        "\n",
        "- $\\textbf{X}$ is the matrix formed as \n",
        "$$\\textbf{X} = \\begin{pmatrix} \n",
        "1 & x^{(1)} \\\\\n",
        "1 & x^{(2)} \\\\\n",
        "\\vdots & \\vdots \\\\\n",
        "1 & x^{(N)} \\\\\n",
        "\\end{pmatrix}.$$\n",
        "- $\\textbf{X}^T$ represents the **matrix transpose** of $\\textbf{X}$.\n",
        "- $\\cdot$ represents **matrix multiplication**.\n",
        "- $^{-1}$ represents **matrix inverse**.\n",
        "- $\\textbf{y}$ is the vector of target values\n",
        "$$\\textbf{y} = \\begin{pmatrix} \n",
        "y^{(1)} \\\\\n",
        "y^{(2)} \\\\\n",
        "\\vdots \\\\\n",
        "y^{(N)} \\\\\n",
        "\\end{pmatrix}.$$"
      ]
    },
    {
      "cell_type": "markdown",
      "metadata": {
        "id": "M9LHCexK1wlQ"
      },
      "source": [
        "Let's apply the normal equation and find the best parameter values."
      ]
    },
    {
      "cell_type": "code",
      "metadata": {
        "id": "AWJkxe-31_D1",
        "outputId": "f2b26a32-219b-4141-fa05-f3b0fe81b8b2",
        "colab": {
          "base_uri": "https://localhost:8080/"
        }
      },
      "source": [
        "# Construct X and y as numpy arrays\n",
        "X = np.hstack([np.ones([len(data), 1]), data[['TV']].values])\n",
        "# print(X)\n",
        "y = data[['sales']].values\n",
        "# print(y)\n",
        "\n",
        "beta = np.linalg.inv(X.T.dot(X)).dot(X.T).dot(y)\n",
        "# np.linalg.inv(X.T.dot(X)).dot(X.T).dot(y)\n",
        "print(beta)"
      ],
      "execution_count": 35,
      "outputs": [
        {
          "output_type": "stream",
          "name": "stdout",
          "text": [
            "[[7.03259355]\n",
            " [0.04753664]]\n"
          ]
        }
      ]
    },
    {
      "cell_type": "code",
      "metadata": {
        "id": "qViLTn0d2B1f",
        "outputId": "1e271388-f5b4-41cd-8e91-022bb7751914",
        "colab": {
          "base_uri": "https://localhost:8080/"
        }
      },
      "source": [
        "get_MSE(7.03, 0.047, data)"
      ],
      "execution_count": 36,
      "outputs": [
        {
          "output_type": "execute_result",
          "data": {
            "text/plain": [
              "10.52140766755"
            ]
          },
          "metadata": {},
          "execution_count": 36
        }
      ]
    },
    {
      "cell_type": "code",
      "metadata": {
        "id": "Pt2Y5UAO2Ddq",
        "outputId": "9c684d3b-b831-4348-a427-8b91ba94b4fc",
        "colab": {
          "base_uri": "https://localhost:8080/",
          "height": 282
        }
      },
      "source": [
        "# Plot the data points and the optimal regression line.\n",
        "plt.plot(data['TV'], data['sales'], 'b.')\n",
        "x_coordinates = np.array([0,300])\n",
        "y_coordinates = x_coordinates * 0.047 + 7.03\n",
        "plt.plot(x_coordinates, y_coordinates, 'g-')"
      ],
      "execution_count": 37,
      "outputs": [
        {
          "output_type": "execute_result",
          "data": {
            "text/plain": [
              "[<matplotlib.lines.Line2D at 0x7fe5af2c1a10>]"
            ]
          },
          "metadata": {},
          "execution_count": 37
        },
        {
          "output_type": "display_data",
          "data": {
            "image/png": "[encoded data removed]",
            "text/plain": [
              "<Figure size 432x288 with 1 Axes>"
            ]
          },
          "metadata": {
            "needs_background": "light"
          }
        }
      ]
    },
    {
      "cell_type": "code",
      "metadata": {
        "id": "vQaE6kul2Gy7"
      },
      "source": [
        ""
      ],
      "execution_count": null,
      "outputs": []
    }
  ]
}