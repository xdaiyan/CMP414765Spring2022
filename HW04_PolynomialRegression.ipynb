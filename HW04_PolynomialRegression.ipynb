{
<<<<<<< HEAD
=======
  "nbformat": 4,
  "nbformat_minor": 0,
  "metadata": {
    "colab": {
      "name": "HW04_PolynomialRegression",
      "provenance": [],
      "authorship_tag": "ABX9TyP7Ca9Awp38pHVZSV8GMrYp",
      "include_colab_link": true
    },
    "kernelspec": {
      "name": "python3",
      "display_name": "Python 3"
    },
    "language_info": {
      "name": "python"
    }
  },
>>>>>>> 48aedc9439361751052426a704a3b65e93edbaf5
  "cells": [
    {
      "cell_type": "markdown",
      "metadata": {
        "colab_type": "text",
        "id": "view-in-github"
      },
      "source": [
        "<a href=\"https://colab.research.google.com/github/ch00226855/CMP414765Spring2022/blob/main/HW04_PolynomialRegression.ipynb\" target=\"_parent\"><img src=\"https://colab.research.google.com/assets/colab-badge.svg\" alt=\"Open In Colab\"/></a>"
      ]
    },
    {
      "cell_type": "markdown",
      "metadata": {
        "id": "5HCnwhZ1OABm"
      },
      "source": [
        "# Homework 4\n",
        "This homework assignment will build three polynomial models on the same dataset and compare their performance. You can use tools from `sklearn` to complete this task."
      ]
    },
    {
      "cell_type": "code",
<<<<<<< HEAD
<<<<<<< HEAD
      "execution_count": 86,
=======
      "execution_count": 1,
>>>>>>> 48aedc9439361751052426a704a3b65e93edbaf5
=======
      "execution_count": 1,
>>>>>>> 48aedc9439361751052426a704a3b65e93edbaf5
      "metadata": {
        "id": "qq3fSlX2M11C"
      },
      "outputs": [],
      "source": [
        "import numpy as np\n",
        "import pandas as pd\n",
        "import matplotlib.pyplot as plt\n",
        "import sklearn\n",
        "from sklearn.linear_model import LinearRegression\n",
        "from sklearn.model_selection import train_test_split\n",
        "from sklearn.metrics import mean_squared_error\n",
        "from sklearn.preprocessing import PolynomialFeatures\n",
        "%matplotlib inline"
      ]
    },
    {
      "cell_type": "code",
      "execution_count": 87,
      "metadata": {
        "colab": {
          "base_uri": "https://localhost:8080/",
          "height": 282
        },
        "id": "BuvOOrXpNMNS",
        "outputId": "56e8e7f8-6bc3-449b-8ffe-8aad0e7810e2"
      },
<<<<<<< HEAD
<<<<<<< HEAD
      "outputs": [
        {
=======
=======
>>>>>>> 48aedc9439361751052426a704a3b65e93edbaf5
      "execution_count": 2,
      "outputs": [
        {
          "output_type": "execute_result",
          "data": {
            "text/plain": [
              "[<matplotlib.lines.Line2D at 0x7f2b22782d10>]"
            ]
          },
          "metadata": {},
          "execution_count": 2
        },
        {
          "output_type": "display_data",
>>>>>>> 48aedc9439361751052426a704a3b65e93edbaf5
          "data": {
            "image/png": "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",
            "text/plain": [
              "<Figure size 432x288 with 1 Axes>"
<<<<<<< HEAD
            ]
=======
            ],
            "image/png": "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\n"
<<<<<<< HEAD
>>>>>>> 48aedc9439361751052426a704a3b65e93edbaf5
=======
>>>>>>> 48aedc9439361751052426a704a3b65e93edbaf5
          },
          "metadata": {
            "needs_background": "light"
          },
          "output_type": "display_data"
        }
      ],
      "source": [
        "# Generate a data set X and Y\n",
        "m = 100\n",
        "X = 6 * np.random.rand(m, 1) - 3\n",
        "Y = 4 * X ** 3 + 5 * X ** 2 + X + 2 + np.random.randn(m, 1)\n",
        "plt.plot(X, Y, 'c.')\n",
        "plt.show()"
      ]
    },
    {
      "cell_type": "markdown",
      "metadata": {
        "id": "sExzZNA2NOOt"
      },
      "source": [
        "1. Use train_test_split to split the data into training set (80%) and test set (20%)."
      ]
    },
    {
      "cell_type": "code",
<<<<<<< HEAD
      "execution_count": 99,
=======
      "source": [
        "from sklearn.model_selection import train_test_split\n",
        "X_train, X_test, Y_train, Y_test = train_test_split(X, Y, test_size=0.2)"
      ],
>>>>>>> 48aedc9439361751052426a704a3b65e93edbaf5
      "metadata": {
        "id": "utPAJCUjNaId",
        "outputId": "40f44821-ec2e-46d7-ac3f-d48789c400c3",
        "colab": {
          "base_uri": "https://localhost:8080/"
        }
      },
<<<<<<< HEAD
      "outputs": [
        {
          "data": {
            "image/png": "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",
            "text/plain": [
              "<Figure size 432x288 with 1 Axes>"
            ]
          },
          "metadata": {
            "needs_background": "light"
          },
          "output_type": "display_data"
        }
      ],
      "source": [
        "df = pd.DataFrame(list(zip(map(float, X), map(float, Y))), columns=['X', 'Y'])\n",
        "train, test = train_test_split(df, test_size=0.2)\n",
        "plt.plot(train.X, train.Y, 'c.')\n",
        "plt.show()"
=======
      "execution_count": 7,
      "outputs": [
        {
          "output_type": "execute_result",
          "data": {
            "text/plain": [
              "(80, 1)"
            ]
          },
          "metadata": {},
          "execution_count": 7
        }
      ]
    },
    {
      "cell_type": "code",
      "source": [
<<<<<<< HEAD
        "# Alternatively, you may create a pandas data frame to include both X and Y\n",
        "# data = np.hstack([X, Y])\n",
        "# df = pd.DataFrame(data, columns=['X', 'Y'])\n",
        "# df.head()"
      ],
      "metadata": {
        "id": "hmX82EpRXMob",
        "outputId": "3e94a05a-66ec-45bb-a7d0-a63793abd2ec",
        "colab": {
          "base_uri": "https://localhost:8080/",
          "height": 206
        }
      },
=======
        "from sklearn.model_selection import train_test_split\n",
        "X_train, X_test, Y_train, Y_test = train_test_split(X, Y, test_size=0.2)"
      ],
      "metadata": {
        "id": "utPAJCUjNaId",
        "outputId": "40f44821-ec2e-46d7-ac3f-d48789c400c3",
        "colab": {
          "base_uri": "https://localhost:8080/"
        }
      },
      "execution_count": 7,
      "outputs": [
        {
          "output_type": "execute_result",
          "data": {
            "text/plain": [
              "(80, 1)"
            ]
          },
          "metadata": {},
          "execution_count": 7
        }
      ]
    },
    {
      "cell_type": "code",
      "source": [
        "# Alternatively, you may create a pandas data frame to include both X and Y\n",
        "# data = np.hstack([X, Y])\n",
        "# df = pd.DataFrame(data, columns=['X', 'Y'])\n",
        "# df.head()"
      ],
      "metadata": {
        "id": "hmX82EpRXMob",
        "outputId": "3e94a05a-66ec-45bb-a7d0-a63793abd2ec",
        "colab": {
          "base_uri": "https://localhost:8080/",
          "height": 206
        }
      },
>>>>>>> 48aedc9439361751052426a704a3b65e93edbaf5
      "execution_count": 12,
      "outputs": [
        {
          "output_type": "execute_result",
          "data": {
            "text/plain": [
              "          X           Y\n",
              "0 -2.507110  -34.280948\n",
              "1  2.767809  127.909028\n",
              "2  0.340341    1.640051\n",
              "3 -1.757038   -5.772970\n",
              "4 -1.053776    2.970822"
            ],
            "text/html": [
              "\n",
              "  <div id=\"df-393c0433-63f3-48b1-a967-9892e2b39eeb\">\n",
              "    <div class=\"colab-df-container\">\n",
              "      <div>\n",
              "<style scoped>\n",
              "    .dataframe tbody tr th:only-of-type {\n",
              "        vertical-align: middle;\n",
              "    }\n",
              "\n",
              "    .dataframe tbody tr th {\n",
              "        vertical-align: top;\n",
              "    }\n",
              "\n",
              "    .dataframe thead th {\n",
              "        text-align: right;\n",
              "    }\n",
              "</style>\n",
              "<table border=\"1\" class=\"dataframe\">\n",
              "  <thead>\n",
              "    <tr style=\"text-align: right;\">\n",
              "      <th></th>\n",
              "      <th>X</th>\n",
              "      <th>Y</th>\n",
              "    </tr>\n",
              "  </thead>\n",
              "  <tbody>\n",
              "    <tr>\n",
              "      <th>0</th>\n",
              "      <td>-2.507110</td>\n",
              "      <td>-34.280948</td>\n",
              "    </tr>\n",
              "    <tr>\n",
              "      <th>1</th>\n",
              "      <td>2.767809</td>\n",
              "      <td>127.909028</td>\n",
              "    </tr>\n",
              "    <tr>\n",
              "      <th>2</th>\n",
              "      <td>0.340341</td>\n",
              "      <td>1.640051</td>\n",
              "    </tr>\n",
              "    <tr>\n",
              "      <th>3</th>\n",
              "      <td>-1.757038</td>\n",
              "      <td>-5.772970</td>\n",
              "    </tr>\n",
              "    <tr>\n",
              "      <th>4</th>\n",
              "      <td>-1.053776</td>\n",
              "      <td>2.970822</td>\n",
              "    </tr>\n",
              "  </tbody>\n",
              "</table>\n",
              "</div>\n",
              "      <button class=\"colab-df-convert\" onclick=\"convertToInteractive('df-393c0433-63f3-48b1-a967-9892e2b39eeb')\"\n",
              "              title=\"Convert this dataframe to an interactive table.\"\n",
              "              style=\"display:none;\">\n",
              "        \n",
              "  <svg xmlns=\"http://www.w3.org/2000/svg\" height=\"24px\"viewBox=\"0 0 24 24\"\n",
              "       width=\"24px\">\n",
              "    <path d=\"M0 0h24v24H0V0z\" fill=\"none\"/>\n",
              "    <path d=\"M18.56 5.44l.94 2.06.94-2.06 2.06-.94-2.06-.94-.94-2.06-.94 2.06-2.06.94zm-11 1L8.5 8.5l.94-2.06 2.06-.94-2.06-.94L8.5 2.5l-.94 2.06-2.06.94zm10 10l.94 2.06.94-2.06 2.06-.94-2.06-.94-.94-2.06-.94 2.06-2.06.94z\"/><path d=\"M17.41 7.96l-1.37-1.37c-.4-.4-.92-.59-1.43-.59-.52 0-1.04.2-1.43.59L10.3 9.45l-7.72 7.72c-.78.78-.78 2.05 0 2.83L4 21.41c.39.39.9.59 1.41.59.51 0 1.02-.2 1.41-.59l7.78-7.78 2.81-2.81c.8-.78.8-2.07 0-2.86zM5.41 20L4 18.59l7.72-7.72 1.47 1.35L5.41 20z\"/>\n",
              "  </svg>\n",
              "      </button>\n",
              "      \n",
              "  <style>\n",
              "    .colab-df-container {\n",
              "      display:flex;\n",
              "      flex-wrap:wrap;\n",
              "      gap: 12px;\n",
              "    }\n",
              "\n",
              "    .colab-df-convert {\n",
              "      background-color: #E8F0FE;\n",
              "      border: none;\n",
              "      border-radius: 50%;\n",
              "      cursor: pointer;\n",
              "      display: none;\n",
              "      fill: #1967D2;\n",
              "      height: 32px;\n",
              "      padding: 0 0 0 0;\n",
              "      width: 32px;\n",
              "    }\n",
              "\n",
              "    .colab-df-convert:hover {\n",
              "      background-color: #E2EBFA;\n",
              "      box-shadow: 0px 1px 2px rgba(60, 64, 67, 0.3), 0px 1px 3px 1px rgba(60, 64, 67, 0.15);\n",
              "      fill: #174EA6;\n",
              "    }\n",
              "\n",
              "    [theme=dark] .colab-df-convert {\n",
              "      background-color: #3B4455;\n",
              "      fill: #D2E3FC;\n",
              "    }\n",
              "\n",
              "    [theme=dark] .colab-df-convert:hover {\n",
              "      background-color: #434B5C;\n",
              "      box-shadow: 0px 1px 3px 1px rgba(0, 0, 0, 0.15);\n",
              "      filter: drop-shadow(0px 1px 2px rgba(0, 0, 0, 0.3));\n",
              "      fill: #FFFFFF;\n",
              "    }\n",
              "  </style>\n",
              "\n",
              "      <script>\n",
              "        const buttonEl =\n",
              "          document.querySelector('#df-393c0433-63f3-48b1-a967-9892e2b39eeb button.colab-df-convert');\n",
              "        buttonEl.style.display =\n",
              "          google.colab.kernel.accessAllowed ? 'block' : 'none';\n",
              "\n",
              "        async function convertToInteractive(key) {\n",
              "          const element = document.querySelector('#df-393c0433-63f3-48b1-a967-9892e2b39eeb');\n",
              "          const dataTable =\n",
              "            await google.colab.kernel.invokeFunction('convertToInteractive',\n",
              "                                                     [key], {});\n",
              "          if (!dataTable) return;\n",
              "\n",
              "          const docLinkHtml = 'Like what you see? Visit the ' +\n",
              "            '<a target=\"_blank\" href=https://colab.research.google.com/notebooks/data_table.ipynb>data table notebook</a>'\n",
              "            + ' to learn more about interactive tables.';\n",
              "          element.innerHTML = '';\n",
              "          dataTable['output_type'] = 'display_data';\n",
              "          await google.colab.output.renderOutput(dataTable, element);\n",
              "          const docLink = document.createElement('div');\n",
              "          docLink.innerHTML = docLinkHtml;\n",
              "          element.appendChild(docLink);\n",
              "        }\n",
              "      </script>\n",
              "    </div>\n",
              "  </div>\n",
              "  "
            ]
          },
          "metadata": {},
          "execution_count": 12
        }
<<<<<<< HEAD
>>>>>>> 48aedc9439361751052426a704a3b65e93edbaf5
=======
>>>>>>> 48aedc9439361751052426a704a3b65e93edbaf5
      ]
    },
    {
      "cell_type": "markdown",
      "metadata": {
        "id": "KTj0wOzmNc9W"
      },
      "source": [
        "2. Build a degree 2 polynomial regression model with `X` as input variables and `Y` as output variable. Name the model model_pr2. Train the model on the training set and obtain the MSE on the test set."
      ]
    },
    {
      "cell_type": "code",
      "execution_count": 125,
      "metadata": {
        "id": "n3ms9vZ7Ndk1"
      },
      "outputs": [
        {
          "data": {
            "text/plain": [
              "297.14452892586485"
            ]
          },
          "execution_count": 125,
          "metadata": {},
          "output_type": "execute_result"
        },
        {
          "data": {
            "image/png": "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",
            "text/plain": [
              "<Figure size 432x288 with 1 Axes>"
            ]
          },
          "metadata": {
            "needs_background": "light"
          },
          "output_type": "display_data"
        }
      ],
      "source": [
        "pre_proc2 = PolynomialFeatures(degree=2, include_bias=False)\n",
        "model_pr2 = LinearRegression()\n",
        "X2 = train[['X']]\n",
        "Y2 = train.Y\n",
        "X_POLY2 = pre_proc2.fit_transform(X2)\n",
        "model_pr2.fit(X_POLY2, Y2)\n",
        "y_pred2 = model_pr2.predict(X_POLY2)\n",
        "theta01 = model_pr2.intercept_\n",
        "theta11, theta21 = model_pr2.coef_\n",
        "x_coor2 = np.linspace(-4, 4, 30)\n",
        "y_coor2 = [theta01 + theta11 * x + theta21 * x ** 2 for x in x_coor2]\n",
        "plt.plot(train.X, Y2, 'b.', alpha=0.7)\n",
        "plt.plot(x_coor2, y_coor2, 'g-')\n",
        "mean_squared_error(Y2, y_pred2)"
      ]
    },
    {
      "cell_type": "markdown",
      "metadata": {
        "id": "pkG-uXoENd1T"
      },
      "source": [
        "3. Build a degree 3 polynomial regression model with `X` as input variables and `Y` as output variable. Name the model model_pr3. Train the model on the training set and  obtain the MSE on the test set."
      ]
    },
    {
      "cell_type": "code",
      "execution_count": 131,
      "metadata": {
        "id": "OuxT6hlgN2eE"
      },
      "outputs": [
        {
          "data": {
            "text/plain": [
              "297.14452892586485"
            ]
          },
          "execution_count": 131,
          "metadata": {},
          "output_type": "execute_result"
        },
        {
          "data": {
            "image/png": "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",
            "text/plain": [
              "<Figure size 432x288 with 1 Axes>"
            ]
          },
          "metadata": {
            "needs_background": "light"
          },
          "output_type": "display_data"
        }
      ],
      "source": [
        "pre_proc3 = PolynomialFeatures(degree=3, include_bias=False)\n",
        "model_pr3 = LinearRegression()\n",
        "X3 = train[['X']]\n",
        "Y3 = train.Y\n",
        "X_POLY3 = pre_proc2.fit_transform(X3)\n",
        "model_pr3.fit(X_POLY3, Y3)\n",
        "y_pred3 = model_pr3.predict(X_POLY2)\n",
        "theta03 = model_pr3.intercept_\n",
        "theta13, theta23 = model_pr3.coef_\n",
        "x_coor3 = np.linspace(-4, 4, 30)\n",
        "y_coor3 = [theta03 + theta13 * x + theta23 * x ** 2 + theta23 * x ** 3 for x in x_coor3]\n",
        "plt.plot(train.X, Y3, 'b.', alpha=0.7)\n",
        "plt.plot(x_coor3, y_coor3, 'g-')\n",
        "mean_squared_error(Y3, y_pred3)"
      ]
    },
    {
      "cell_type": "markdown",
      "metadata": {
        "id": "7TubsDvaN2uW"
      },
      "source": [
        "4. Build a degree 10 polynomial regression model with `X` as input variables and `Y` as output variable. Name the model model_pr10. Train the model on the training set and  obtain the MSE on the test set."
      ]
    },
    {
      "cell_type": "code",
      "execution_count": 132,
      "metadata": {
        "id": "YOfkQGlWN8nG"
      },
      "outputs": [
        {
          "data": {
            "text/plain": [
              "297.14452892586485"
            ]
          },
          "execution_count": 132,
          "metadata": {},
          "output_type": "execute_result"
        },
        {
          "data": {
            "image/png": "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",
            "text/plain": [
              "<Figure size 432x288 with 1 Axes>"
            ]
          },
          "metadata": {
            "needs_background": "light"
          },
          "output_type": "display_data"
        }
      ],
      "source": [
        "pre_proc10 = PolynomialFeatures(degree=10, include_bias=False)\n",
        "model_pr10 = LinearRegression()\n",
        "X10 = train[['X']]\n",
        "Y10 = train.Y\n",
        "X_POLY10 = pre_proc2.fit_transform(X10)\n",
        "model_pr10.fit(X_POLY10, Y10)\n",
        "y_pred10 = model_pr10.predict(X_POLY10)\n",
        "theta010 = model_pr10.intercept_\n",
        "theta110, theta210 = model_pr10.coef_\n",
        "x_coor10 = np.linspace(-4, 4, 30)\n",
        "\n",
        "y_coor10 = [theta010 + theta110 * x + theta210 * x ** 2 + \n",
        "theta210 * x ** 3 + theta210 * x ** 4 + theta210 * x ** 5 + \n",
        "theta210 * x ** 6 + theta210 * x ** 7 + theta210 * x ** 8 + \n",
        "theta210 * x ** 9 + theta210 * x ** 10 for x in x_coor10]\n",
        "\n",
        "plt.plot(train.X, Y10, 'b.', alpha=0.7)\n",
        "plt.plot(x_coor10, y_coor10, 'g-')\n",
        "mean_squared_error(Y10, y_pred10)"
      ]
    }
  ],
  "metadata": {
    "colab": {
      "authorship_tag": "ABX9TyM8uBoZ6v2Y5udg9mnaYl7i",
      "include_colab_link": true,
      "name": "HW04_PolynomialRegression",
      "provenance": []
    },
    "kernelspec": {
      "display_name": "Python 3",
      "name": "python3"
    },
    "language_info": {
      "codemirror_mode": {
        "name": "ipython",
        "version": 3
      },
      "file_extension": ".py",
      "mimetype": "text/x-python",
      "name": "python",
      "nbconvert_exporter": "python",
      "pygments_lexer": "ipython3",
      "version": "3.10.4"
    }
  },
  "nbformat": 4,
  "nbformat_minor": 0
}
