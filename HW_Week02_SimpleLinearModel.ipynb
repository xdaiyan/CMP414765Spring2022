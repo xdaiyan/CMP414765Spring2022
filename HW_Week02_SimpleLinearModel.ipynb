{
  "cells": [
    {
      "cell_type": "markdown",
      "metadata": {
        "colab_type": "text",
        "id": "view-in-github"
      },
      "source": [
        "<a href=\"https://colab.research.google.com/github/ch00226855/CMP414765Spring2022/blob/main/HW_Week02_SimpleLinearModel.ipynb\" target=\"_parent\"><img src=\"https://colab.research.google.com/assets/colab-badge.svg\" alt=\"Open In Colab\"/></a>"
      ]
    },
    {
      "cell_type": "markdown",
      "metadata": {
        "id": "nIDEhy8l4glH"
      },
      "source": [
        "# Homework 2\n",
        "\n",
        "This homework assignment aims to build a linear model to describe the trend of height increase for the United Kingdom between 1900 and 1980.\n",
        "\n",
        "**Please complete this notebook and submit it to Blackboard as a PDF file before Wednesday, March 2nd at 11:59PM.**\n",
        "\n",
        "\n",
        "\n",
        "\n"
      ]
    },
    {
      "cell_type": "markdown",
      "metadata": {
        "id": "md-IiDAKEA35"
      },
      "source": [
        "1. Extract the average height values for **United Kingdom** between 1900 and 1980 from the dataset used in Week 2 notebook."
      ]
    },
    {
      "cell_type": "code",
      "execution_count": 1,
      "metadata": {
        "id": "tH0MvsonECdE"
      },
      "outputs": [
        {
          "data": {
            "text/html": [
              "<div>\n",
              "<style scoped>\n",
              "    .dataframe tbody tr th:only-of-type {\n",
              "        vertical-align: middle;\n",
              "    }\n",
              "\n",
              "    .dataframe tbody tr th {\n",
              "        vertical-align: top;\n",
              "    }\n",
              "\n",
              "    .dataframe thead th {\n",
              "        text-align: right;\n",
              "    }\n",
              "</style>\n",
              "<table border=\"1\" class=\"dataframe\">\n",
              "  <thead>\n",
              "    <tr style=\"text-align: right;\">\n",
              "      <th></th>\n",
              "      <th>Entity</th>\n",
              "      <th>Code</th>\n",
              "      <th>Year</th>\n",
              "      <th>Human Height (University of Tuebingen (2015))</th>\n",
              "    </tr>\n",
              "  </thead>\n",
              "  <tbody>\n",
              "    <tr>\n",
              "      <th>0</th>\n",
              "      <td>Afghanistan</td>\n",
              "      <td>AFG</td>\n",
              "      <td>1870</td>\n",
              "      <td>168.4</td>\n",
              "    </tr>\n",
              "    <tr>\n",
              "      <th>1</th>\n",
              "      <td>Afghanistan</td>\n",
              "      <td>AFG</td>\n",
              "      <td>1880</td>\n",
              "      <td>165.7</td>\n",
              "    </tr>\n",
              "    <tr>\n",
              "      <th>2</th>\n",
              "      <td>Afghanistan</td>\n",
              "      <td>AFG</td>\n",
              "      <td>1930</td>\n",
              "      <td>166.8</td>\n",
              "    </tr>\n",
              "    <tr>\n",
              "      <th>3</th>\n",
              "      <td>Albania</td>\n",
              "      <td>ALB</td>\n",
              "      <td>1880</td>\n",
              "      <td>170.1</td>\n",
              "    </tr>\n",
              "    <tr>\n",
              "      <th>4</th>\n",
              "      <td>Albania</td>\n",
              "      <td>ALB</td>\n",
              "      <td>1890</td>\n",
              "      <td>169.8</td>\n",
              "    </tr>\n",
              "    <tr>\n",
              "      <th>...</th>\n",
              "      <td>...</td>\n",
              "      <td>...</td>\n",
              "      <td>...</td>\n",
              "      <td>...</td>\n",
              "    </tr>\n",
              "    <tr>\n",
              "      <th>1245</th>\n",
              "      <td>Zimbabwe</td>\n",
              "      <td>ZWE</td>\n",
              "      <td>1900</td>\n",
              "      <td>167.6</td>\n",
              "    </tr>\n",
              "    <tr>\n",
              "      <th>1246</th>\n",
              "      <td>Zimbabwe</td>\n",
              "      <td>ZWE</td>\n",
              "      <td>1950</td>\n",
              "      <td>171.0</td>\n",
              "    </tr>\n",
              "    <tr>\n",
              "      <th>1247</th>\n",
              "      <td>Zimbabwe</td>\n",
              "      <td>ZWE</td>\n",
              "      <td>1960</td>\n",
              "      <td>171.1</td>\n",
              "    </tr>\n",
              "    <tr>\n",
              "      <th>1248</th>\n",
              "      <td>Zimbabwe</td>\n",
              "      <td>ZWE</td>\n",
              "      <td>1970</td>\n",
              "      <td>171.3</td>\n",
              "    </tr>\n",
              "    <tr>\n",
              "      <th>1249</th>\n",
              "      <td>Zimbabwe</td>\n",
              "      <td>ZWE</td>\n",
              "      <td>1980</td>\n",
              "      <td>171.0</td>\n",
              "    </tr>\n",
              "  </tbody>\n",
              "</table>\n",
              "<p>1250 rows × 4 columns</p>\n",
              "</div>"
            ],
            "text/plain": [
              "           Entity Code  Year  Human Height (University of Tuebingen (2015))\n",
              "0     Afghanistan  AFG  1870                                          168.4\n",
              "1     Afghanistan  AFG  1880                                          165.7\n",
              "2     Afghanistan  AFG  1930                                          166.8\n",
              "3         Albania  ALB  1880                                          170.1\n",
              "4         Albania  ALB  1890                                          169.8\n",
              "...           ...  ...   ...                                            ...\n",
              "1245     Zimbabwe  ZWE  1900                                          167.6\n",
              "1246     Zimbabwe  ZWE  1950                                          171.0\n",
              "1247     Zimbabwe  ZWE  1960                                          171.1\n",
              "1248     Zimbabwe  ZWE  1970                                          171.3\n",
              "1249     Zimbabwe  ZWE  1980                                          171.0\n",
              "\n",
              "[1250 rows x 4 columns]"
            ]
          },
          "execution_count": 1,
          "metadata": {},
          "output_type": "execute_result"
        }
      ],
      "source": [
        "import pandas as pd\n",
        "\n",
        "raw_data = pd.read_csv(\"average-height-of-men-for-selected-countries.csv\", sep=',')\n",
        "raw_data"
      ]
    },
    {
      "cell_type": "code",
      "execution_count": 2,
      "metadata": {},
      "outputs": [
        {
          "data": {
            "text/html": [
              "<div>\n",
              "<style scoped>\n",
              "    .dataframe tbody tr th:only-of-type {\n",
              "        vertical-align: middle;\n",
              "    }\n",
              "\n",
              "    .dataframe tbody tr th {\n",
              "        vertical-align: top;\n",
              "    }\n",
              "\n",
              "    .dataframe thead th {\n",
              "        text-align: right;\n",
              "    }\n",
              "</style>\n",
              "<table border=\"1\" class=\"dataframe\">\n",
              "  <thead>\n",
              "    <tr style=\"text-align: right;\">\n",
              "      <th></th>\n",
              "      <th>Entity</th>\n",
              "      <th>Code</th>\n",
              "      <th>Year</th>\n",
              "      <th>Human Height (University of Tuebingen (2015))</th>\n",
              "    </tr>\n",
              "  </thead>\n",
              "  <tbody>\n",
              "    <tr>\n",
              "      <th>1176</th>\n",
              "      <td>United Kingdom</td>\n",
              "      <td>GBR</td>\n",
              "      <td>1810</td>\n",
              "      <td>169.7</td>\n",
              "    </tr>\n",
              "    <tr>\n",
              "      <th>1177</th>\n",
              "      <td>United Kingdom</td>\n",
              "      <td>GBR</td>\n",
              "      <td>1820</td>\n",
              "      <td>169.1</td>\n",
              "    </tr>\n",
              "    <tr>\n",
              "      <th>1178</th>\n",
              "      <td>United Kingdom</td>\n",
              "      <td>GBR</td>\n",
              "      <td>1830</td>\n",
              "      <td>166.7</td>\n",
              "    </tr>\n",
              "    <tr>\n",
              "      <th>1179</th>\n",
              "      <td>United Kingdom</td>\n",
              "      <td>GBR</td>\n",
              "      <td>1840</td>\n",
              "      <td>166.5</td>\n",
              "    </tr>\n",
              "    <tr>\n",
              "      <th>1180</th>\n",
              "      <td>United Kingdom</td>\n",
              "      <td>GBR</td>\n",
              "      <td>1850</td>\n",
              "      <td>165.6</td>\n",
              "    </tr>\n",
              "    <tr>\n",
              "      <th>1181</th>\n",
              "      <td>United Kingdom</td>\n",
              "      <td>GBR</td>\n",
              "      <td>1860</td>\n",
              "      <td>166.6</td>\n",
              "    </tr>\n",
              "    <tr>\n",
              "      <th>1182</th>\n",
              "      <td>United Kingdom</td>\n",
              "      <td>GBR</td>\n",
              "      <td>1870</td>\n",
              "      <td>167.2</td>\n",
              "    </tr>\n",
              "    <tr>\n",
              "      <th>1183</th>\n",
              "      <td>United Kingdom</td>\n",
              "      <td>GBR</td>\n",
              "      <td>1880</td>\n",
              "      <td>168.0</td>\n",
              "    </tr>\n",
              "    <tr>\n",
              "      <th>1184</th>\n",
              "      <td>United Kingdom</td>\n",
              "      <td>GBR</td>\n",
              "      <td>1890</td>\n",
              "      <td>167.4</td>\n",
              "    </tr>\n",
              "    <tr>\n",
              "      <th>1185</th>\n",
              "      <td>United Kingdom</td>\n",
              "      <td>GBR</td>\n",
              "      <td>1900</td>\n",
              "      <td>169.4</td>\n",
              "    </tr>\n",
              "    <tr>\n",
              "      <th>1186</th>\n",
              "      <td>United Kingdom</td>\n",
              "      <td>GBR</td>\n",
              "      <td>1910</td>\n",
              "      <td>170.9</td>\n",
              "    </tr>\n",
              "    <tr>\n",
              "      <th>1187</th>\n",
              "      <td>United Kingdom</td>\n",
              "      <td>GBR</td>\n",
              "      <td>1920</td>\n",
              "      <td>171.0</td>\n",
              "    </tr>\n",
              "    <tr>\n",
              "      <th>1188</th>\n",
              "      <td>United Kingdom</td>\n",
              "      <td>GBR</td>\n",
              "      <td>1930</td>\n",
              "      <td>173.9</td>\n",
              "    </tr>\n",
              "    <tr>\n",
              "      <th>1189</th>\n",
              "      <td>United Kingdom</td>\n",
              "      <td>GBR</td>\n",
              "      <td>1940</td>\n",
              "      <td>174.9</td>\n",
              "    </tr>\n",
              "    <tr>\n",
              "      <th>1190</th>\n",
              "      <td>United Kingdom</td>\n",
              "      <td>GBR</td>\n",
              "      <td>1950</td>\n",
              "      <td>176.0</td>\n",
              "    </tr>\n",
              "    <tr>\n",
              "      <th>1191</th>\n",
              "      <td>United Kingdom</td>\n",
              "      <td>GBR</td>\n",
              "      <td>1960</td>\n",
              "      <td>176.9</td>\n",
              "    </tr>\n",
              "    <tr>\n",
              "      <th>1192</th>\n",
              "      <td>United Kingdom</td>\n",
              "      <td>GBR</td>\n",
              "      <td>1970</td>\n",
              "      <td>177.1</td>\n",
              "    </tr>\n",
              "    <tr>\n",
              "      <th>1193</th>\n",
              "      <td>United Kingdom</td>\n",
              "      <td>GBR</td>\n",
              "      <td>1980</td>\n",
              "      <td>176.8</td>\n",
              "    </tr>\n",
              "  </tbody>\n",
              "</table>\n",
              "</div>"
            ],
            "text/plain": [
              "              Entity Code  Year  Human Height (University of Tuebingen (2015))\n",
              "1176  United Kingdom  GBR  1810                                          169.7\n",
              "1177  United Kingdom  GBR  1820                                          169.1\n",
              "1178  United Kingdom  GBR  1830                                          166.7\n",
              "1179  United Kingdom  GBR  1840                                          166.5\n",
              "1180  United Kingdom  GBR  1850                                          165.6\n",
              "1181  United Kingdom  GBR  1860                                          166.6\n",
              "1182  United Kingdom  GBR  1870                                          167.2\n",
              "1183  United Kingdom  GBR  1880                                          168.0\n",
              "1184  United Kingdom  GBR  1890                                          167.4\n",
              "1185  United Kingdom  GBR  1900                                          169.4\n",
              "1186  United Kingdom  GBR  1910                                          170.9\n",
              "1187  United Kingdom  GBR  1920                                          171.0\n",
              "1188  United Kingdom  GBR  1930                                          173.9\n",
              "1189  United Kingdom  GBR  1940                                          174.9\n",
              "1190  United Kingdom  GBR  1950                                          176.0\n",
              "1191  United Kingdom  GBR  1960                                          176.9\n",
              "1192  United Kingdom  GBR  1970                                          177.1\n",
              "1193  United Kingdom  GBR  1980                                          176.8"
            ]
          },
          "execution_count": 2,
          "metadata": {},
          "output_type": "execute_result"
        }
      ],
      "source": [
        "raw_UK = raw_data[raw_data.Entity == 'United Kingdom']\n",
        "raw_UK"
      ]
    },
    {
      "cell_type": "code",
      "execution_count": 9,
      "metadata": {},
      "outputs": [
        {
          "data": {
            "text/html": [
              "<div>\n",
              "<style scoped>\n",
              "    .dataframe tbody tr th:only-of-type {\n",
              "        vertical-align: middle;\n",
              "    }\n",
              "\n",
              "    .dataframe tbody tr th {\n",
              "        vertical-align: top;\n",
              "    }\n",
              "\n",
              "    .dataframe thead th {\n",
              "        text-align: right;\n",
              "    }\n",
              "</style>\n",
              "<table border=\"1\" class=\"dataframe\">\n",
              "  <thead>\n",
              "    <tr style=\"text-align: right;\">\n",
              "      <th></th>\n",
              "      <th>Entity</th>\n",
              "      <th>Code</th>\n",
              "      <th>Year</th>\n",
              "      <th>Human Height (University of Tuebingen (2015))</th>\n",
              "    </tr>\n",
              "  </thead>\n",
              "  <tbody>\n",
              "    <tr>\n",
              "      <th>1185</th>\n",
              "      <td>United Kingdom</td>\n",
              "      <td>GBR</td>\n",
              "      <td>1900</td>\n",
              "      <td>169.4</td>\n",
              "    </tr>\n",
              "    <tr>\n",
              "      <th>1186</th>\n",
              "      <td>United Kingdom</td>\n",
              "      <td>GBR</td>\n",
              "      <td>1910</td>\n",
              "      <td>170.9</td>\n",
              "    </tr>\n",
              "    <tr>\n",
              "      <th>1187</th>\n",
              "      <td>United Kingdom</td>\n",
              "      <td>GBR</td>\n",
              "      <td>1920</td>\n",
              "      <td>171.0</td>\n",
              "    </tr>\n",
              "    <tr>\n",
              "      <th>1188</th>\n",
              "      <td>United Kingdom</td>\n",
              "      <td>GBR</td>\n",
              "      <td>1930</td>\n",
              "      <td>173.9</td>\n",
              "    </tr>\n",
              "    <tr>\n",
              "      <th>1189</th>\n",
              "      <td>United Kingdom</td>\n",
              "      <td>GBR</td>\n",
              "      <td>1940</td>\n",
              "      <td>174.9</td>\n",
              "    </tr>\n",
              "    <tr>\n",
              "      <th>1190</th>\n",
              "      <td>United Kingdom</td>\n",
              "      <td>GBR</td>\n",
              "      <td>1950</td>\n",
              "      <td>176.0</td>\n",
              "    </tr>\n",
              "    <tr>\n",
              "      <th>1191</th>\n",
              "      <td>United Kingdom</td>\n",
              "      <td>GBR</td>\n",
              "      <td>1960</td>\n",
              "      <td>176.9</td>\n",
              "    </tr>\n",
              "    <tr>\n",
              "      <th>1192</th>\n",
              "      <td>United Kingdom</td>\n",
              "      <td>GBR</td>\n",
              "      <td>1970</td>\n",
              "      <td>177.1</td>\n",
              "    </tr>\n",
              "    <tr>\n",
              "      <th>1193</th>\n",
              "      <td>United Kingdom</td>\n",
              "      <td>GBR</td>\n",
              "      <td>1980</td>\n",
              "      <td>176.8</td>\n",
              "    </tr>\n",
              "  </tbody>\n",
              "</table>\n",
              "</div>"
            ],
            "text/plain": [
              "              Entity Code  Year  Human Height (University of Tuebingen (2015))\n",
              "1185  United Kingdom  GBR  1900                                          169.4\n",
              "1186  United Kingdom  GBR  1910                                          170.9\n",
              "1187  United Kingdom  GBR  1920                                          171.0\n",
              "1188  United Kingdom  GBR  1930                                          173.9\n",
              "1189  United Kingdom  GBR  1940                                          174.9\n",
              "1190  United Kingdom  GBR  1950                                          176.0\n",
              "1191  United Kingdom  GBR  1960                                          176.9\n",
              "1192  United Kingdom  GBR  1970                                          177.1\n",
              "1193  United Kingdom  GBR  1980                                          176.8"
            ]
          },
          "execution_count": 9,
          "metadata": {},
          "output_type": "execute_result"
        }
      ],
      "source": [
        "UK_1900 = raw_UK[raw_UK.Year >= 1900]\n",
        "UK_1900"
      ]
    },
    {
      "cell_type": "code",
      "execution_count": 12,
      "metadata": {},
      "outputs": [
        {
          "data": {
            "text/plain": [
              "174.1"
            ]
          },
          "execution_count": 12,
          "metadata": {},
          "output_type": "execute_result"
        }
      ],
      "source": [
        "AVG_UK = UK_1900['Human Height (University of Tuebingen (2015))'].mean()\n",
        "AVG_UK"
      ]
    },
    {
      "cell_type": "markdown",
      "metadata": {
        "id": "1PukrnGBEA6e"
      },
      "source": [
        "2. Find a linear model (height = m * year + b) that can describe the trend of height increase.\n",
        "    - The value of `m` should be close to the average height increase\n",
        "    - The value of `b` should make the line close to the data points."
      ]
    },
    {
      "cell_type": "code",
      "execution_count": 31,
      "metadata": {
        "id": "F2ApyRCoET8V"
      },
      "outputs": [
        {
          "data": {
            "text/plain": [
              "array([163.47798227, 170.57544096])"
            ]
          },
          "execution_count": 31,
          "metadata": {},
          "output_type": "execute_result"
        }
      ],
      "source": [
        "from sklearn.linear_model import LinearRegression\n",
        "from matplotlib import pyplot as plt\n",
        "import numpy as np\n",
        "\n",
        "model = LinearRegression()\n",
        "model.fit(raw_data[['Year']], raw_data[['Human Height (University of Tuebingen (2015))']])\n",
        "m = model.coef_[0,0]\n",
        "b = model.intercept_[0]\n",
        "x = np.array([raw_data.Year.min(), raw_data.Year.max()])\n",
        "height = m * x + b\n",
        "height"
      ]
    },
    {
      "cell_type": "markdown",
      "metadata": {
        "id": "NWkpzWhbEA9D"
      },
      "source": [
        "3. Display the model line together with the data points."
      ]
    },
    {
      "cell_type": "code",
      "execution_count": 30,
      "metadata": {
        "id": "xlE57KIYEYbg"
      },
      "outputs": [
        {
          "data": {
            "image/png": "[encoded data removed]",
            "text/plain": [
              "<Figure size 432x288 with 1 Axes>"
            ]
          },
          "metadata": {
            "needs_background": "light"
          },
          "output_type": "display_data"
        }
      ],
      "source": [
        "plt.scatter(raw_data['Year'], raw_data['Human Height (University of Tuebingen (2015))'])\n",
        "plt.plot(x, height, 'r-')\n",
        "plt.show()"
      ]
    },
    {
      "cell_type": "markdown",
      "metadata": {
        "id": "9lufl3XOEA_w"
      },
      "source": [
        "4. Compute the mean square error of this model. "
      ]
    },
    {
      "cell_type": "code",
      "execution_count": 58,
      "metadata": {
        "id": "ww3Rwtoc4p9Q"
      },
      "outputs": [
        {
          "name": "stdout",
          "output_type": "stream",
          "text": [
            "MSE: 17.643093595105366\n"
          ]
        }
      ],
      "source": [
        "total_err = 0\n",
        "for x in raw_data.index:\n",
        "    year = raw_data.loc[x, 'Year']\n",
        "    err = (m * year + b - raw_data.loc[x, 'Human Height (University of Tuebingen (2015))']) ** 2\n",
        "    total_err += err\n",
        "print('MSE:', total_err / len(raw_data))"
      ]
    }
  ],
  "metadata": {
    "colab": {
      "authorship_tag": "ABX9TyOV7vnTcHuXnEGkPAF+JfI/",
      "include_colab_link": true,
      "name": "HW_Week02_SimpleLinearModel",
      "provenance": []
    },
    "kernelspec": {
      "display_name": "Python 3",
      "name": "python3"
    },
    "language_info": {
      "codemirror_mode": {
        "name": "ipython",
        "version": 3
      },
      "file_extension": ".py",
      "mimetype": "text/x-python",
      "name": "python",
      "nbconvert_exporter": "python",
      "pygments_lexer": "ipython3",
      "version": "3.10.2"
    }
  },
  "nbformat": 4,
  "nbformat_minor": 0
}
