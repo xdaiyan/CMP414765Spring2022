{
  "nbformat": 4,
  "nbformat_minor": 0,
  "metadata": {
    "colab": {
      "name": "Week06_MultilinearRegression",
      "provenance": [],
      "collapsed_sections": [],
      "authorship_tag": "ABX9TyMfwnVq5ctfpdxLdFR6G7tR",
      "include_colab_link": true
    },
    "kernelspec": {
      "name": "python3",
      "display_name": "Python 3"
    }
  },
  "cells": [
    {
      "cell_type": "markdown",
      "metadata": {
        "id": "view-in-github",
        "colab_type": "text"
      },
      "source": [
        "<a href=\"https://colab.research.google.com/github/ch00226855/CMP414765Spring2022/blob/main/Week06_MultilinearRegression.ipynb\" target=\"_parent\"><img src=\"https://colab.research.google.com/assets/colab-badge.svg\" alt=\"Open In Colab\"/></a>"
      ]
    },
    {
      "cell_type": "markdown",
      "metadata": {
        "id": "VXhaotNQxr2w"
      },
      "source": [
        "# Week 6\n",
        "# Multilinear Regression\n",
        "\n",
        "Last time we looked at a simple linear regression model $sales = \\beta_0 + \\beta_1\\cdot\\textit{TV advertising budget}$. More generally, a linear model makes a prediction by computing a weighted sum of their input features (plus a constant).\n",
        "\n",
        "**Reading: Chapter 4**"
      ]
    },
    {
      "cell_type": "markdown",
      "metadata": {
        "id": "81lHyTpwx0zu"
      },
      "source": [
        "## Multilinear Regression: Model Assumptions\n",
        "**Model**:\n",
        "\n",
        "$\\hat{y} = \\beta_0 + \\beta_1x_1 + \\beta_2x_2 +\\cdots + \\beta_nx_n$\n",
        "1. $\\hat{y}$ is the predicted value.\n",
        "2. $n$ is the number of features.\n",
        "3. $x_i$ is the i-th feature value.\n",
        "4. $\\beta_j$ is the j-th model parameter (associated with $x_j$)."
      ]
    },
    {
      "cell_type": "code",
      "metadata": {
        "id": "azLxHqqUx02U"
      },
      "source": [
        "import numpy as np\n",
        "import pandas as pd\n",
        "import matplotlib.pyplot as plt\n",
        "%matplotlib inline"
      ],
      "execution_count": 1,
      "outputs": []
    },
    {
      "cell_type": "code",
      "metadata": {
        "id": "cb5RGmIdx04v",
        "outputId": "6ef11b89-2270-405a-f7ac-ac8b1312615b",
        "colab": {
          "base_uri": "https://localhost:8080/",
          "height": 206
        }
      },
      "source": [
        "# Toy example\n",
        "columns = ['Homework', 'Midterm', 'Final']\n",
        "data = pd.DataFrame({\n",
        "    \"Homework\": [95, 70, 80, 100, 70],\n",
        "    \"Midterm\": [90, 60, 80, 80, 85],\n",
        "    \"Final\": [93, 66, 85, 60, 90]\n",
        "}, index=[\"Alice\", \"Bob\", \"Clare\", \"David\", \"Eve\"])\n",
        "\n",
        "data.head()"
      ],
      "execution_count": 2,
      "outputs": [
        {
          "output_type": "execute_result",
          "data": {
            "text/html": [
              "\n",
              "  <div id=\"df-2859f44d-0f9b-422b-90d9-264855dcae6b\">\n",
              "    <div class=\"colab-df-container\">\n",
              "      <div>\n",
              "<style scoped>\n",
              "    .dataframe tbody tr th:only-of-type {\n",
              "        vertical-align: middle;\n",
              "    }\n",
              "\n",
              "    .dataframe tbody tr th {\n",
              "        vertical-align: top;\n",
              "    }\n",
              "\n",
              "    .dataframe thead th {\n",
              "        text-align: right;\n",
              "    }\n",
              "</style>\n",
              "<table border=\"1\" class=\"dataframe\">\n",
              "  <thead>\n",
              "    <tr style=\"text-align: right;\">\n",
              "      <th></th>\n",
              "      <th>Homework</th>\n",
              "      <th>Midterm</th>\n",
              "      <th>Final</th>\n",
              "    </tr>\n",
              "  </thead>\n",
              "  <tbody>\n",
              "    <tr>\n",
              "      <th>Alice</th>\n",
              "      <td>95</td>\n",
              "      <td>90</td>\n",
              "      <td>93</td>\n",
              "    </tr>\n",
              "    <tr>\n",
              "      <th>Bob</th>\n",
              "      <td>70</td>\n",
              "      <td>60</td>\n",
              "      <td>66</td>\n",
              "    </tr>\n",
              "    <tr>\n",
              "      <th>Clare</th>\n",
              "      <td>80</td>\n",
              "      <td>80</td>\n",
              "      <td>85</td>\n",
              "    </tr>\n",
              "    <tr>\n",
              "      <th>David</th>\n",
              "      <td>100</td>\n",
              "      <td>80</td>\n",
              "      <td>60</td>\n",
              "    </tr>\n",
              "    <tr>\n",
              "      <th>Eve</th>\n",
              "      <td>70</td>\n",
              "      <td>85</td>\n",
              "      <td>90</td>\n",
              "    </tr>\n",
              "  </tbody>\n",
              "</table>\n",
              "</div>\n",
              "      <button class=\"colab-df-convert\" onclick=\"convertToInteractive('df-2859f44d-0f9b-422b-90d9-264855dcae6b')\"\n",
              "              title=\"Convert this dataframe to an interactive table.\"\n",
              "              style=\"display:none;\">\n",
              "        \n",
              "  <svg xmlns=\"http://www.w3.org/2000/svg\" height=\"24px\"viewBox=\"0 0 24 24\"\n",
              "       width=\"24px\">\n",
              "    <path d=\"M0 0h24v24H0V0z\" fill=\"none\"/>\n",
              "    <path d=\"M18.56 5.44l.94 2.06.94-2.06 2.06-.94-2.06-.94-.94-2.06-.94 2.06-2.06.94zm-11 1L8.5 8.5l.94-2.06 2.06-.94-2.06-.94L8.5 2.5l-.94 2.06-2.06.94zm10 10l.94 2.06.94-2.06 2.06-.94-2.06-.94-.94-2.06-.94 2.06-2.06.94z\"/><path d=\"M17.41 7.96l-1.37-1.37c-.4-.4-.92-.59-1.43-.59-.52 0-1.04.2-1.43.59L10.3 9.45l-7.72 7.72c-.78.78-.78 2.05 0 2.83L4 21.41c.39.39.9.59 1.41.59.51 0 1.02-.2 1.41-.59l7.78-7.78 2.81-2.81c.8-.78.8-2.07 0-2.86zM5.41 20L4 18.59l7.72-7.72 1.47 1.35L5.41 20z\"/>\n",
              "  </svg>\n",
              "      </button>\n",
              "      \n",
              "  <style>\n",
              "    .colab-df-container {\n",
              "      display:flex;\n",
              "      flex-wrap:wrap;\n",
              "      gap: 12px;\n",
              "    }\n",
              "\n",
              "    .colab-df-convert {\n",
              "      background-color: #E8F0FE;\n",
              "      border: none;\n",
              "      border-radius: 50%;\n",
              "      cursor: pointer;\n",
              "      display: none;\n",
              "      fill: #1967D2;\n",
              "      height: 32px;\n",
              "      padding: 0 0 0 0;\n",
              "      width: 32px;\n",
              "    }\n",
              "\n",
              "    .colab-df-convert:hover {\n",
              "      background-color: #E2EBFA;\n",
              "      box-shadow: 0px 1px 2px rgba(60, 64, 67, 0.3), 0px 1px 3px 1px rgba(60, 64, 67, 0.15);\n",
              "      fill: #174EA6;\n",
              "    }\n",
              "\n",
              "    [theme=dark] .colab-df-convert {\n",
              "      background-color: #3B4455;\n",
              "      fill: #D2E3FC;\n",
              "    }\n",
              "\n",
              "    [theme=dark] .colab-df-convert:hover {\n",
              "      background-color: #434B5C;\n",
              "      box-shadow: 0px 1px 3px 1px rgba(0, 0, 0, 0.15);\n",
              "      filter: drop-shadow(0px 1px 2px rgba(0, 0, 0, 0.3));\n",
              "      fill: #FFFFFF;\n",
              "    }\n",
              "  </style>\n",
              "\n",
              "      <script>\n",
              "        const buttonEl =\n",
              "          document.querySelector('#df-2859f44d-0f9b-422b-90d9-264855dcae6b button.colab-df-convert');\n",
              "        buttonEl.style.display =\n",
              "          google.colab.kernel.accessAllowed ? 'block' : 'none';\n",
              "\n",
              "        async function convertToInteractive(key) {\n",
              "          const element = document.querySelector('#df-2859f44d-0f9b-422b-90d9-264855dcae6b');\n",
              "          const dataTable =\n",
              "            await google.colab.kernel.invokeFunction('convertToInteractive',\n",
              "                                                     [key], {});\n",
              "          if (!dataTable) return;\n",
              "\n",
              "          const docLinkHtml = 'Like what you see? Visit the ' +\n",
              "            '<a target=\"_blank\" href=https://colab.research.google.com/notebooks/data_table.ipynb>data table notebook</a>'\n",
              "            + ' to learn more about interactive tables.';\n",
              "          element.innerHTML = '';\n",
              "          dataTable['output_type'] = 'display_data';\n",
              "          await google.colab.output.renderOutput(dataTable, element);\n",
              "          const docLink = document.createElement('div');\n",
              "          docLink.innerHTML = docLinkHtml;\n",
              "          element.appendChild(docLink);\n",
              "        }\n",
              "      </script>\n",
              "    </div>\n",
              "  </div>\n",
              "  "
            ],
            "text/plain": [
              "       Homework  Midterm  Final\n",
              "Alice        95       90     93\n",
              "Bob          70       60     66\n",
              "Clare        80       80     85\n",
              "David       100       80     60\n",
              "Eve          70       85     90"
            ]
          },
          "metadata": {},
          "execution_count": 2
        }
      ]
    },
    {
      "cell_type": "markdown",
      "metadata": {
        "id": "uKguV_HWx09V"
      },
      "source": [
        "In this case:\n",
        "- $x_1$ is the homework feature\n",
        "- $x_2$ is the midterm feature\n",
        "- $y$ is the final feature\n",
        "- model is: $final = \\beta_0 + \\beta_1 * homework + \\beta_2 * midterm$\n",
        "- We need to come up with values for $\\beta_0, \\beta_1, \\beta_2$ to complete the model.\n",
        "\n",
        "**Objective**: Suppose that another student Fred has Homework score 85 and Midterm score 80. What is prediction of his final exam score?"
      ]
    },
    {
      "cell_type": "markdown",
      "metadata": {
        "id": "txFgiEHAx0_q"
      },
      "source": [
        "## Multilinear Regression: Vectorized form\n",
        "\n",
        "The multilinear model can also be written as:\n",
        "\n",
        "**$\\hat{y} = \\beta\\cdot\\textbf{x}$**.\n",
        "1. $\\beta = (\\beta_0, \\beta_1, ..., \\beta_n)$ is the paramter vector.\n",
        "2. $\\textbf{x} = (1, x_1, ..., x_n)$ is the feature vector.\n",
        "3. The symbol $\\cdot$ represents the inner-product of two vectors. For example, $(1, 2, 3)\\cdot (4, 5, 6) = 1\\times 4 + 2\\times 5 + 3\\times 6 = 32$.\n",
        "\n",
        "**Why is the expression $\\beta\\cdot\\textbf{x}$ equivalent to $\\beta_0 + \\beta_1x_1 + \\beta_2x_2 +\\cdots + \\beta_nx_n$?**"
      ]
    },
    {
      "cell_type": "code",
      "source": [
        "data[[\"Homework\", \"Midterm\"]]"
      ],
      "metadata": {
        "id": "ogu8cI-sUWIM",
        "outputId": "84e08284-0096-4f84-92ff-337fc2ec8ae7",
        "colab": {
          "base_uri": "https://localhost:8080/",
          "height": 206
        }
      },
      "execution_count": 3,
      "outputs": [
        {
          "output_type": "execute_result",
          "data": {
            "text/html": [
              "\n",
              "  <div id=\"df-b2ae305c-7919-455b-88bf-a9f30f34536d\">\n",
              "    <div class=\"colab-df-container\">\n",
              "      <div>\n",
              "<style scoped>\n",
              "    .dataframe tbody tr th:only-of-type {\n",
              "        vertical-align: middle;\n",
              "    }\n",
              "\n",
              "    .dataframe tbody tr th {\n",
              "        vertical-align: top;\n",
              "    }\n",
              "\n",
              "    .dataframe thead th {\n",
              "        text-align: right;\n",
              "    }\n",
              "</style>\n",
              "<table border=\"1\" class=\"dataframe\">\n",
              "  <thead>\n",
              "    <tr style=\"text-align: right;\">\n",
              "      <th></th>\n",
              "      <th>Homework</th>\n",
              "      <th>Midterm</th>\n",
              "    </tr>\n",
              "  </thead>\n",
              "  <tbody>\n",
              "    <tr>\n",
              "      <th>Alice</th>\n",
              "      <td>95</td>\n",
              "      <td>90</td>\n",
              "    </tr>\n",
              "    <tr>\n",
              "      <th>Bob</th>\n",
              "      <td>70</td>\n",
              "      <td>60</td>\n",
              "    </tr>\n",
              "    <tr>\n",
              "      <th>Clare</th>\n",
              "      <td>80</td>\n",
              "      <td>80</td>\n",
              "    </tr>\n",
              "    <tr>\n",
              "      <th>David</th>\n",
              "      <td>100</td>\n",
              "      <td>80</td>\n",
              "    </tr>\n",
              "    <tr>\n",
              "      <th>Eve</th>\n",
              "      <td>70</td>\n",
              "      <td>85</td>\n",
              "    </tr>\n",
              "  </tbody>\n",
              "</table>\n",
              "</div>\n",
              "      <button class=\"colab-df-convert\" onclick=\"convertToInteractive('df-b2ae305c-7919-455b-88bf-a9f30f34536d')\"\n",
              "              title=\"Convert this dataframe to an interactive table.\"\n",
              "              style=\"display:none;\">\n",
              "        \n",
              "  <svg xmlns=\"http://www.w3.org/2000/svg\" height=\"24px\"viewBox=\"0 0 24 24\"\n",
              "       width=\"24px\">\n",
              "    <path d=\"M0 0h24v24H0V0z\" fill=\"none\"/>\n",
              "    <path d=\"M18.56 5.44l.94 2.06.94-2.06 2.06-.94-2.06-.94-.94-2.06-.94 2.06-2.06.94zm-11 1L8.5 8.5l.94-2.06 2.06-.94-2.06-.94L8.5 2.5l-.94 2.06-2.06.94zm10 10l.94 2.06.94-2.06 2.06-.94-2.06-.94-.94-2.06-.94 2.06-2.06.94z\"/><path d=\"M17.41 7.96l-1.37-1.37c-.4-.4-.92-.59-1.43-.59-.52 0-1.04.2-1.43.59L10.3 9.45l-7.72 7.72c-.78.78-.78 2.05 0 2.83L4 21.41c.39.39.9.59 1.41.59.51 0 1.02-.2 1.41-.59l7.78-7.78 2.81-2.81c.8-.78.8-2.07 0-2.86zM5.41 20L4 18.59l7.72-7.72 1.47 1.35L5.41 20z\"/>\n",
              "  </svg>\n",
              "      </button>\n",
              "      \n",
              "  <style>\n",
              "    .colab-df-container {\n",
              "      display:flex;\n",
              "      flex-wrap:wrap;\n",
              "      gap: 12px;\n",
              "    }\n",
              "\n",
              "    .colab-df-convert {\n",
              "      background-color: #E8F0FE;\n",
              "      border: none;\n",
              "      border-radius: 50%;\n",
              "      cursor: pointer;\n",
              "      display: none;\n",
              "      fill: #1967D2;\n",
              "      height: 32px;\n",
              "      padding: 0 0 0 0;\n",
              "      width: 32px;\n",
              "    }\n",
              "\n",
              "    .colab-df-convert:hover {\n",
              "      background-color: #E2EBFA;\n",
              "      box-shadow: 0px 1px 2px rgba(60, 64, 67, 0.3), 0px 1px 3px 1px rgba(60, 64, 67, 0.15);\n",
              "      fill: #174EA6;\n",
              "    }\n",
              "\n",
              "    [theme=dark] .colab-df-convert {\n",
              "      background-color: #3B4455;\n",
              "      fill: #D2E3FC;\n",
              "    }\n",
              "\n",
              "    [theme=dark] .colab-df-convert:hover {\n",
              "      background-color: #434B5C;\n",
              "      box-shadow: 0px 1px 3px 1px rgba(0, 0, 0, 0.15);\n",
              "      filter: drop-shadow(0px 1px 2px rgba(0, 0, 0, 0.3));\n",
              "      fill: #FFFFFF;\n",
              "    }\n",
              "  </style>\n",
              "\n",
              "      <script>\n",
              "        const buttonEl =\n",
              "          document.querySelector('#df-b2ae305c-7919-455b-88bf-a9f30f34536d button.colab-df-convert');\n",
              "        buttonEl.style.display =\n",
              "          google.colab.kernel.accessAllowed ? 'block' : 'none';\n",
              "\n",
              "        async function convertToInteractive(key) {\n",
              "          const element = document.querySelector('#df-b2ae305c-7919-455b-88bf-a9f30f34536d');\n",
              "          const dataTable =\n",
              "            await google.colab.kernel.invokeFunction('convertToInteractive',\n",
              "                                                     [key], {});\n",
              "          if (!dataTable) return;\n",
              "\n",
              "          const docLinkHtml = 'Like what you see? Visit the ' +\n",
              "            '<a target=\"_blank\" href=https://colab.research.google.com/notebooks/data_table.ipynb>data table notebook</a>'\n",
              "            + ' to learn more about interactive tables.';\n",
              "          element.innerHTML = '';\n",
              "          dataTable['output_type'] = 'display_data';\n",
              "          await google.colab.output.renderOutput(dataTable, element);\n",
              "          const docLink = document.createElement('div');\n",
              "          docLink.innerHTML = docLinkHtml;\n",
              "          element.appendChild(docLink);\n",
              "        }\n",
              "      </script>\n",
              "    </div>\n",
              "  </div>\n",
              "  "
            ],
            "text/plain": [
              "       Homework  Midterm\n",
              "Alice        95       90\n",
              "Bob          70       60\n",
              "Clare        80       80\n",
              "David       100       80\n",
              "Eve          70       85"
            ]
          },
          "metadata": {},
          "execution_count": 3
        }
      ]
    },
    {
      "cell_type": "code",
      "metadata": {
        "id": "B8Acxyvfx1CF",
        "outputId": "73cc9416-8258-48b0-ea88-c9f92e84484e",
        "colab": {
          "base_uri": "https://localhost:8080/"
        }
      },
      "source": [
        "# Let's apply the linear regression tool in sci-kit learn on the toy example\n",
        "from sklearn.linear_model import LinearRegression\n",
        "model = LinearRegression()\n",
        "model.fit(data[[\"Homework\", \"Midterm\"]], data['Final']) # You can also use data[['Final']]\n"
      ],
      "execution_count": 4,
      "outputs": [
        {
          "output_type": "execute_result",
          "data": {
            "text/plain": [
              "LinearRegression()"
            ]
          },
          "metadata": {},
          "execution_count": 4
        }
      ]
    },
    {
      "cell_type": "code",
      "source": [
        "# What is the prediction of Fred's final score?\n",
        "\n",
        "# Create a dataframe with Fred's records\n",
        "fred = pd.DataFrame([[85, 80]], columns=[\"Homework\", \"Midterm\"], index=['Fred'])\n",
        "# fred\n",
        "model.predict(fred)"
      ],
      "metadata": {
        "id": "gDjZUNlDU3Na",
        "outputId": "809c27b2-3d14-49c0-d6b8-b2ba424788b4",
        "colab": {
          "base_uri": "https://localhost:8080/"
        }
      },
      "execution_count": 5,
      "outputs": [
        {
          "output_type": "execute_result",
          "data": {
            "text/plain": [
              "array([78.6744186])"
            ]
          },
          "metadata": {},
          "execution_count": 5
        }
      ]
    },
    {
      "cell_type": "code",
      "source": [
        "# Model's prediction is 78. This looks safe. But how much variation the prediction has?\n",
        "# We can use model's error on the training data as an indicator\n",
        "\n",
        "data['Prediction'] = model.predict(data[['Homework', 'Midterm']])\n",
        "data"
      ],
      "metadata": {
        "id": "YyYsA6EhWWK6",
        "outputId": "30539856-40fc-45ce-bff2-0d56c695bff6",
        "colab": {
          "base_uri": "https://localhost:8080/",
          "height": 206
        }
      },
      "execution_count": 6,
      "outputs": [
        {
          "output_type": "execute_result",
          "data": {
            "text/html": [
              "\n",
              "  <div id=\"df-fab4ce5d-c05a-4a73-a653-4c8d296a795b\">\n",
              "    <div class=\"colab-df-container\">\n",
              "      <div>\n",
              "<style scoped>\n",
              "    .dataframe tbody tr th:only-of-type {\n",
              "        vertical-align: middle;\n",
              "    }\n",
              "\n",
              "    .dataframe tbody tr th {\n",
              "        vertical-align: top;\n",
              "    }\n",
              "\n",
              "    .dataframe thead th {\n",
              "        text-align: right;\n",
              "    }\n",
              "</style>\n",
              "<table border=\"1\" class=\"dataframe\">\n",
              "  <thead>\n",
              "    <tr style=\"text-align: right;\">\n",
              "      <th></th>\n",
              "      <th>Homework</th>\n",
              "      <th>Midterm</th>\n",
              "      <th>Final</th>\n",
              "      <th>Prediction</th>\n",
              "    </tr>\n",
              "  </thead>\n",
              "  <tbody>\n",
              "    <tr>\n",
              "      <th>Alice</th>\n",
              "      <td>95</td>\n",
              "      <td>90</td>\n",
              "      <td>93</td>\n",
              "      <td>84.581395</td>\n",
              "    </tr>\n",
              "    <tr>\n",
              "      <th>Bob</th>\n",
              "      <td>70</td>\n",
              "      <td>60</td>\n",
              "      <td>66</td>\n",
              "      <td>63.279070</td>\n",
              "    </tr>\n",
              "    <tr>\n",
              "      <th>Clare</th>\n",
              "      <td>80</td>\n",
              "      <td>80</td>\n",
              "      <td>85</td>\n",
              "      <td>82.255814</td>\n",
              "    </tr>\n",
              "    <tr>\n",
              "      <th>David</th>\n",
              "      <td>100</td>\n",
              "      <td>80</td>\n",
              "      <td>60</td>\n",
              "      <td>67.930233</td>\n",
              "    </tr>\n",
              "    <tr>\n",
              "      <th>Eve</th>\n",
              "      <td>70</td>\n",
              "      <td>85</td>\n",
              "      <td>90</td>\n",
              "      <td>95.953488</td>\n",
              "    </tr>\n",
              "  </tbody>\n",
              "</table>\n",
              "</div>\n",
              "      <button class=\"colab-df-convert\" onclick=\"convertToInteractive('df-fab4ce5d-c05a-4a73-a653-4c8d296a795b')\"\n",
              "              title=\"Convert this dataframe to an interactive table.\"\n",
              "              style=\"display:none;\">\n",
              "        \n",
              "  <svg xmlns=\"http://www.w3.org/2000/svg\" height=\"24px\"viewBox=\"0 0 24 24\"\n",
              "       width=\"24px\">\n",
              "    <path d=\"M0 0h24v24H0V0z\" fill=\"none\"/>\n",
              "    <path d=\"M18.56 5.44l.94 2.06.94-2.06 2.06-.94-2.06-.94-.94-2.06-.94 2.06-2.06.94zm-11 1L8.5 8.5l.94-2.06 2.06-.94-2.06-.94L8.5 2.5l-.94 2.06-2.06.94zm10 10l.94 2.06.94-2.06 2.06-.94-2.06-.94-.94-2.06-.94 2.06-2.06.94z\"/><path d=\"M17.41 7.96l-1.37-1.37c-.4-.4-.92-.59-1.43-.59-.52 0-1.04.2-1.43.59L10.3 9.45l-7.72 7.72c-.78.78-.78 2.05 0 2.83L4 21.41c.39.39.9.59 1.41.59.51 0 1.02-.2 1.41-.59l7.78-7.78 2.81-2.81c.8-.78.8-2.07 0-2.86zM5.41 20L4 18.59l7.72-7.72 1.47 1.35L5.41 20z\"/>\n",
              "  </svg>\n",
              "      </button>\n",
              "      \n",
              "  <style>\n",
              "    .colab-df-container {\n",
              "      display:flex;\n",
              "      flex-wrap:wrap;\n",
              "      gap: 12px;\n",
              "    }\n",
              "\n",
              "    .colab-df-convert {\n",
              "      background-color: #E8F0FE;\n",
              "      border: none;\n",
              "      border-radius: 50%;\n",
              "      cursor: pointer;\n",
              "      display: none;\n",
              "      fill: #1967D2;\n",
              "      height: 32px;\n",
              "      padding: 0 0 0 0;\n",
              "      width: 32px;\n",
              "    }\n",
              "\n",
              "    .colab-df-convert:hover {\n",
              "      background-color: #E2EBFA;\n",
              "      box-shadow: 0px 1px 2px rgba(60, 64, 67, 0.3), 0px 1px 3px 1px rgba(60, 64, 67, 0.15);\n",
              "      fill: #174EA6;\n",
              "    }\n",
              "\n",
              "    [theme=dark] .colab-df-convert {\n",
              "      background-color: #3B4455;\n",
              "      fill: #D2E3FC;\n",
              "    }\n",
              "\n",
              "    [theme=dark] .colab-df-convert:hover {\n",
              "      background-color: #434B5C;\n",
              "      box-shadow: 0px 1px 3px 1px rgba(0, 0, 0, 0.15);\n",
              "      filter: drop-shadow(0px 1px 2px rgba(0, 0, 0, 0.3));\n",
              "      fill: #FFFFFF;\n",
              "    }\n",
              "  </style>\n",
              "\n",
              "      <script>\n",
              "        const buttonEl =\n",
              "          document.querySelector('#df-fab4ce5d-c05a-4a73-a653-4c8d296a795b button.colab-df-convert');\n",
              "        buttonEl.style.display =\n",
              "          google.colab.kernel.accessAllowed ? 'block' : 'none';\n",
              "\n",
              "        async function convertToInteractive(key) {\n",
              "          const element = document.querySelector('#df-fab4ce5d-c05a-4a73-a653-4c8d296a795b');\n",
              "          const dataTable =\n",
              "            await google.colab.kernel.invokeFunction('convertToInteractive',\n",
              "                                                     [key], {});\n",
              "          if (!dataTable) return;\n",
              "\n",
              "          const docLinkHtml = 'Like what you see? Visit the ' +\n",
              "            '<a target=\"_blank\" href=https://colab.research.google.com/notebooks/data_table.ipynb>data table notebook</a>'\n",
              "            + ' to learn more about interactive tables.';\n",
              "          element.innerHTML = '';\n",
              "          dataTable['output_type'] = 'display_data';\n",
              "          await google.colab.output.renderOutput(dataTable, element);\n",
              "          const docLink = document.createElement('div');\n",
              "          docLink.innerHTML = docLinkHtml;\n",
              "          element.appendChild(docLink);\n",
              "        }\n",
              "      </script>\n",
              "    </div>\n",
              "  </div>\n",
              "  "
            ],
            "text/plain": [
              "       Homework  Midterm  Final  Prediction\n",
              "Alice        95       90     93   84.581395\n",
              "Bob          70       60     66   63.279070\n",
              "Clare        80       80     85   82.255814\n",
              "David       100       80     60   67.930233\n",
              "Eve          70       85     90   95.953488"
            ]
          },
          "metadata": {},
          "execution_count": 6
        }
      ]
    },
    {
      "cell_type": "code",
      "metadata": {
        "id": "MoD9GMG1x1Em",
        "outputId": "4b9ab605-873d-4c1e-c845-59425ddeb721",
        "colab": {
          "base_uri": "https://localhost:8080/"
        }
      },
      "source": [
        "# Retrieve the estimated parameter values.\n",
        "print(\"beta1, beta2:\", model.coef_)\n",
        "print(\"beta0:\", model.intercept_)"
      ],
      "execution_count": 7,
      "outputs": [
        {
          "output_type": "stream",
          "name": "stdout",
          "text": [
            "beta1, beta2: [-0.71627907  1.30697674]\n",
            "beta0: 34.999999999999964\n"
          ]
        }
      ]
    },
    {
      "cell_type": "markdown",
      "source": [
        "Now, let's create a linear model that describes the relationship between `sales` and all three ways of advertising."
      ],
      "metadata": {
        "id": "XAYjx93CYPeN"
      }
    },
    {
      "cell_type": "code",
      "source": [
        "url = \"https://www.statlearning.com/s/Advertising.csv\"\n",
        "advertising = pd.read_csv(url, index_col=0)\n",
        "advertising.head()"
      ],
      "metadata": {
        "id": "yaLpN0AeYeMS",
        "outputId": "681e9df6-91f0-47de-eb2b-6b9a50e674d0",
        "colab": {
          "base_uri": "https://localhost:8080/",
          "height": 206
        }
      },
      "execution_count": 8,
      "outputs": [
        {
          "output_type": "execute_result",
          "data": {
            "text/html": [
              "\n",
              "  <div id=\"df-07175349-073f-4441-bea2-f1de23f33765\">\n",
              "    <div class=\"colab-df-container\">\n",
              "      <div>\n",
              "<style scoped>\n",
              "    .dataframe tbody tr th:only-of-type {\n",
              "        vertical-align: middle;\n",
              "    }\n",
              "\n",
              "    .dataframe tbody tr th {\n",
              "        vertical-align: top;\n",
              "    }\n",
              "\n",
              "    .dataframe thead th {\n",
              "        text-align: right;\n",
              "    }\n",
              "</style>\n",
              "<table border=\"1\" class=\"dataframe\">\n",
              "  <thead>\n",
              "    <tr style=\"text-align: right;\">\n",
              "      <th></th>\n",
              "      <th>TV</th>\n",
              "      <th>radio</th>\n",
              "      <th>newspaper</th>\n",
              "      <th>sales</th>\n",
              "    </tr>\n",
              "  </thead>\n",
              "  <tbody>\n",
              "    <tr>\n",
              "      <th>1</th>\n",
              "      <td>230.1</td>\n",
              "      <td>37.8</td>\n",
              "      <td>69.2</td>\n",
              "      <td>22.1</td>\n",
              "    </tr>\n",
              "    <tr>\n",
              "      <th>2</th>\n",
              "      <td>44.5</td>\n",
              "      <td>39.3</td>\n",
              "      <td>45.1</td>\n",
              "      <td>10.4</td>\n",
              "    </tr>\n",
              "    <tr>\n",
              "      <th>3</th>\n",
              "      <td>17.2</td>\n",
              "      <td>45.9</td>\n",
              "      <td>69.3</td>\n",
              "      <td>9.3</td>\n",
              "    </tr>\n",
              "    <tr>\n",
              "      <th>4</th>\n",
              "      <td>151.5</td>\n",
              "      <td>41.3</td>\n",
              "      <td>58.5</td>\n",
              "      <td>18.5</td>\n",
              "    </tr>\n",
              "    <tr>\n",
              "      <th>5</th>\n",
              "      <td>180.8</td>\n",
              "      <td>10.8</td>\n",
              "      <td>58.4</td>\n",
              "      <td>12.9</td>\n",
              "    </tr>\n",
              "  </tbody>\n",
              "</table>\n",
              "</div>\n",
              "      <button class=\"colab-df-convert\" onclick=\"convertToInteractive('df-07175349-073f-4441-bea2-f1de23f33765')\"\n",
              "              title=\"Convert this dataframe to an interactive table.\"\n",
              "              style=\"display:none;\">\n",
              "        \n",
              "  <svg xmlns=\"http://www.w3.org/2000/svg\" height=\"24px\"viewBox=\"0 0 24 24\"\n",
              "       width=\"24px\">\n",
              "    <path d=\"M0 0h24v24H0V0z\" fill=\"none\"/>\n",
              "    <path d=\"M18.56 5.44l.94 2.06.94-2.06 2.06-.94-2.06-.94-.94-2.06-.94 2.06-2.06.94zm-11 1L8.5 8.5l.94-2.06 2.06-.94-2.06-.94L8.5 2.5l-.94 2.06-2.06.94zm10 10l.94 2.06.94-2.06 2.06-.94-2.06-.94-.94-2.06-.94 2.06-2.06.94z\"/><path d=\"M17.41 7.96l-1.37-1.37c-.4-.4-.92-.59-1.43-.59-.52 0-1.04.2-1.43.59L10.3 9.45l-7.72 7.72c-.78.78-.78 2.05 0 2.83L4 21.41c.39.39.9.59 1.41.59.51 0 1.02-.2 1.41-.59l7.78-7.78 2.81-2.81c.8-.78.8-2.07 0-2.86zM5.41 20L4 18.59l7.72-7.72 1.47 1.35L5.41 20z\"/>\n",
              "  </svg>\n",
              "      </button>\n",
              "      \n",
              "  <style>\n",
              "    .colab-df-container {\n",
              "      display:flex;\n",
              "      flex-wrap:wrap;\n",
              "      gap: 12px;\n",
              "    }\n",
              "\n",
              "    .colab-df-convert {\n",
              "      background-color: #E8F0FE;\n",
              "      border: none;\n",
              "      border-radius: 50%;\n",
              "      cursor: pointer;\n",
              "      display: none;\n",
              "      fill: #1967D2;\n",
              "      height: 32px;\n",
              "      padding: 0 0 0 0;\n",
              "      width: 32px;\n",
              "    }\n",
              "\n",
              "    .colab-df-convert:hover {\n",
              "      background-color: #E2EBFA;\n",
              "      box-shadow: 0px 1px 2px rgba(60, 64, 67, 0.3), 0px 1px 3px 1px rgba(60, 64, 67, 0.15);\n",
              "      fill: #174EA6;\n",
              "    }\n",
              "\n",
              "    [theme=dark] .colab-df-convert {\n",
              "      background-color: #3B4455;\n",
              "      fill: #D2E3FC;\n",
              "    }\n",
              "\n",
              "    [theme=dark] .colab-df-convert:hover {\n",
              "      background-color: #434B5C;\n",
              "      box-shadow: 0px 1px 3px 1px rgba(0, 0, 0, 0.15);\n",
              "      filter: drop-shadow(0px 1px 2px rgba(0, 0, 0, 0.3));\n",
              "      fill: #FFFFFF;\n",
              "    }\n",
              "  </style>\n",
              "\n",
              "      <script>\n",
              "        const buttonEl =\n",
              "          document.querySelector('#df-07175349-073f-4441-bea2-f1de23f33765 button.colab-df-convert');\n",
              "        buttonEl.style.display =\n",
              "          google.colab.kernel.accessAllowed ? 'block' : 'none';\n",
              "\n",
              "        async function convertToInteractive(key) {\n",
              "          const element = document.querySelector('#df-07175349-073f-4441-bea2-f1de23f33765');\n",
              "          const dataTable =\n",
              "            await google.colab.kernel.invokeFunction('convertToInteractive',\n",
              "                                                     [key], {});\n",
              "          if (!dataTable) return;\n",
              "\n",
              "          const docLinkHtml = 'Like what you see? Visit the ' +\n",
              "            '<a target=\"_blank\" href=https://colab.research.google.com/notebooks/data_table.ipynb>data table notebook</a>'\n",
              "            + ' to learn more about interactive tables.';\n",
              "          element.innerHTML = '';\n",
              "          dataTable['output_type'] = 'display_data';\n",
              "          await google.colab.output.renderOutput(dataTable, element);\n",
              "          const docLink = document.createElement('div');\n",
              "          docLink.innerHTML = docLinkHtml;\n",
              "          element.appendChild(docLink);\n",
              "        }\n",
              "      </script>\n",
              "    </div>\n",
              "  </div>\n",
              "  "
            ],
            "text/plain": [
              "      TV  radio  newspaper  sales\n",
              "1  230.1   37.8       69.2   22.1\n",
              "2   44.5   39.3       45.1   10.4\n",
              "3   17.2   45.9       69.3    9.3\n",
              "4  151.5   41.3       58.5   18.5\n",
              "5  180.8   10.8       58.4   12.9"
            ]
          },
          "metadata": {},
          "execution_count": 8
        }
      ]
    },
    {
      "cell_type": "markdown",
      "source": [
        "Proposed model: $sales = \\beta_0 + \\beta_1\\cdot TV + \\beta_2\\cdot radio + \\beta_3\\cdot newspaper$."
      ],
      "metadata": {
        "id": "DLp0zCnOY9wn"
      }
    },
    {
      "cell_type": "code",
      "source": [
        "from sklearn.model_selection import train_test_split\n",
        "training_set, test_set = train_test_split(advertising, test_size=0.1)\n",
        "print(training_set.shape)\n",
        "print(test_set.shape)"
      ],
      "metadata": {
        "id": "l0u0JR6wZrwS",
        "outputId": "97d0492e-2edb-4d96-ef59-b9e639f81238",
        "colab": {
          "base_uri": "https://localhost:8080/"
        }
      },
      "execution_count": 9,
      "outputs": [
        {
          "output_type": "stream",
          "name": "stdout",
          "text": [
            "(180, 4)\n",
            "(20, 4)\n"
          ]
        }
      ]
    },
    {
      "cell_type": "code",
      "source": [
        "model2 = LinearRegression()\n",
        "model2.fit(training_set[['TV', 'radio', 'newspaper']], training_set['sales'])"
      ],
      "metadata": {
        "id": "LQjZLVzNYg4Q",
        "outputId": "beeea788-0cad-4f97-8afa-d5c5d0520694",
        "colab": {
          "base_uri": "https://localhost:8080/"
        }
      },
      "execution_count": 10,
      "outputs": [
        {
          "output_type": "execute_result",
          "data": {
            "text/plain": [
              "LinearRegression()"
            ]
          },
          "metadata": {},
          "execution_count": 10
        }
      ]
    },
    {
      "cell_type": "code",
      "source": [
        "input_cols = ['TV', 'radio', 'newspaper']"
      ],
      "metadata": {
        "id": "fU4SjNxDa4KO"
      },
      "execution_count": 11,
      "outputs": []
    },
    {
      "cell_type": "code",
      "source": [
        "# The MSE of model2 on the training set\n",
        "from sklearn.metrics import mean_squared_error\n",
        "y_pred = model2.predict(training_set[input_cols])\n",
        "training_MSE = mean_squared_error(training_set['sales'], y_pred)\n",
        "print(\"MSE on the training set:\", training_MSE)\n",
        "# This MSE is better than the MSE achieved by a simple linear regression model."
      ],
      "metadata": {
        "id": "fhAe5dXQaNtT",
        "outputId": "149cc044-dc64-4572-9dbb-21628b9f69fc",
        "colab": {
          "base_uri": "https://localhost:8080/"
        }
      },
      "execution_count": 12,
      "outputs": [
        {
          "output_type": "stream",
          "name": "stdout",
          "text": [
            "MSE on the training set: 2.841059214607274\n"
          ]
        }
      ]
    },
    {
      "cell_type": "code",
      "source": [
        "# The MSE of model2 on the test set\n",
        "y_pred = model2.predict(test_set[input_cols])\n",
        "test_MSE = mean_squared_error(test_set['sales'], y_pred)\n",
        "print(\"MSE on the training set:\", test_MSE)"
      ],
      "metadata": {
        "id": "qkfpYRzrbdMO",
        "outputId": "03e75087-8365-4d31-9b69-b531895c092a",
        "colab": {
          "base_uri": "https://localhost:8080/"
        }
      },
      "execution_count": 13,
      "outputs": [
        {
          "output_type": "stream",
          "name": "stdout",
          "text": [
            "MSE on the training set: 2.307603793764574\n"
          ]
        }
      ]
    },
    {
      "cell_type": "markdown",
      "metadata": {
        "id": "JwJG44-7x1HE"
      },
      "source": [
        "## Multilinear Regression: Cost Function\n",
        "In order to calculate the best value for each parameter, we need a **cost function** that evaluates the errors made by a give set of parameter values. Here we use the **mean squared error (MSE)** function as the cost function:\n",
        "\n",
        "$J(\\textbf{X}, \\theta) = \\frac{1}{m}\\sum_{i=1}^{m}\\big(\\theta\\cdot\\textbf{x}^{(i)} - y^{(i)}\\big)^2$\n",
        "\n",
        "Here $(\\textbf{x}^{(i)}, y^{(i)})$ represents the i-th training example"
      ]
    },
    {
      "cell_type": "code",
      "metadata": {
        "id": "Uh-Zy_vEx1JZ"
      },
      "source": [
        "# Calculate the MSE cost of the toy example for the parameter values given by sci-kit learn.\n",
        "\n"
      ],
      "execution_count": 14,
      "outputs": []
    },
    {
      "cell_type": "markdown",
      "metadata": {
        "id": "ZG2rW2SNx1Lw"
      },
      "source": [
        "## Multilinear Regression: Training Algorithm 1\n",
        "The value of $\\theta$ that minimizes the cost function is given by the following **normal equation**:\n",
        "\n",
        "$\\hat{\\theta} = \\big(\\textbf{X}^T\\cdot\\textbf{X}\\big)^{-1}\\cdot\\textbf{X}^T\\cdot\\textbf{y}$.\n",
        "\n",
        "1. $\\textbf{X}$ is an $m\\times (n+1)$ matrix whose i-th row is $\\textbf{x}^{(i)}$.\n",
        "$$\\textbf{X} = \\begin{pmatrix}\n",
        "1 & x^{(1)}_1 & x^{(1)}_2 & \\cdots & x^{(1)}_n \\\\\n",
        "1 & x^{(2)}_1 & x^{(2)}_2 & \\cdots & x^{(2)}_n \\\\\n",
        "\\vdots & \\vdots &\\vdots & \\ddots & \\vdots \\\\\n",
        "1 & x^{(m)}_1 & x^{(m)}_2 & \\cdots & x^{(m)}_n \\\\\n",
        "\\end{pmatrix}$$\n",
        "2. $$\\textbf{y} = \\begin{pmatrix}y^{(1)} \\\\ \\vdots \\\\ y^{(m)}\\end{pmatrix}$$.\n",
        "3. The cost function $J(\\theta)$ also has a matrix expression\n",
        "$$J(\\theta) = \\frac{1}{m}(\\textbf{X}\\cdot\\theta - \\textbf{y})^T\\cdot (\\textbf{X}\\cdot\\theta - \\textbf{y})$$"
      ]
    },
    {
      "cell_type": "code",
      "metadata": {
        "id": "M0r86Sigx1OO",
        "outputId": "c9c62b38-600d-4a66-8ac8-a26537d82c34",
        "colab": {
          "base_uri": "https://localhost:8080/"
        }
      },
      "source": [
        "# Construct matrix X using np.hstack(), np.ones()\n",
        "N = len(training_set) # N = training_set.shape[0]\n",
        "col1 = np.ones([N, 1])\n",
        "# print(col1)\n",
        "col234 = training_set[['TV', 'radio', 'newspaper']].values\n",
        "# print(col234)\n",
        "X = np.hstack([col1, col234])\n",
        "print(X[0:5, :])"
      ],
      "execution_count": 30,
      "outputs": [
        {
          "output_type": "stream",
          "name": "stdout",
          "text": [
            "[[1.00000 76.40000 26.70000 22.30000]\n",
            " [1.00000 220.50000 33.20000 37.90000]\n",
            " [1.00000 199.80000 2.60000 21.20000]\n",
            " [1.00000 293.60000 27.70000 1.80000]\n",
            " [1.00000 62.30000 12.60000 18.30000]]\n"
          ]
        }
      ]
    },
    {
      "cell_type": "code",
      "metadata": {
        "id": "bIZZCIicx1Q7",
        "outputId": "72b78bda-12c0-4d8c-a264-ec4156ada77e",
        "colab": {
          "base_uri": "https://localhost:8080/"
        }
      },
      "source": [
        "# Construct vector y\n",
        "y = training_set[['sales']].values\n",
        "print(y[:5])"
      ],
      "execution_count": 31,
      "outputs": [
        {
          "output_type": "stream",
          "name": "stdout",
          "text": [
            "[[11.80000]\n",
            " [20.10000]\n",
            " [10.60000]\n",
            " [20.70000]\n",
            " [9.70000]]\n"
          ]
        }
      ]
    },
    {
      "cell_type": "code",
      "metadata": {
        "id": "197CDh19x1Th",
        "outputId": "9e7d44c1-c82b-424e-9676-c0769cc049fa",
        "colab": {
          "base_uri": "https://localhost:8080/"
        }
      },
      "source": [
        "# Apply the normal equation to find theta\n",
        "np.set_printoptions(formatter={'float': lambda x: \"{0:0.5f}\".format(x)})\n",
        "\n",
        "np.linalg.inv(X.T.dot(X)).dot(X.T).dot(y)"
      ],
      "execution_count": 32,
      "outputs": [
        {
          "output_type": "execute_result",
          "data": {
            "text/plain": [
              "array([[2.89239],\n",
              "       [0.04595],\n",
              "       [0.19229],\n",
              "       [-0.00260]])"
            ]
          },
          "metadata": {},
          "execution_count": 32
        }
      ]
    },
    {
      "cell_type": "code",
      "source": [
        "# The results should be the same as the sklearn model\n",
        "print(model2.coef_)\n",
        "print(model2.intercept_)"
      ],
      "metadata": {
        "id": "SnpLfMkulFm5",
        "outputId": "90ede345-a43f-413b-df7e-d787d7535a5a",
        "colab": {
          "base_uri": "https://localhost:8080/"
        }
      },
      "execution_count": 33,
      "outputs": [
        {
          "output_type": "stream",
          "name": "stdout",
          "text": [
            "[0.04595 0.19229 -0.00260]\n",
            "2.892388852382126\n"
          ]
        }
      ]
    },
    {
      "cell_type": "markdown",
      "metadata": {
        "id": "_ezXjZlvx1WG"
      },
      "source": [
        "## Multilinear Regression: Training Algorithm 2\n",
        "The normal equation is not applicable when $\\textbf{X}^T\\cdot\\textbf{X}$ is not invertible. It happens if:\n",
        "- Several features are linearly dependent (for example, feature3 = feature1 + feature2)\n",
        "- The number of features is greater than the number of training data (for example, DNA data)\n",
        "\n",
        "When the matrix $\\textbf{X}$ is too large, the normal equation may take too long to finish since it requires a matrix multiplication.\n",
        "\n",
        "In these cases, we can use the **gradient descent** method to minimize the cost function instead.\n",
        "\n",
        "Gradient descent with one variable ideally looks like this:\n",
        "<img src=\"https://cdn-images-1.medium.com/max/1600/0*fU8XFt-NCMZGAWND.\" width=\"600\">\n",
        "\n",
        "Gradient descent with two variables ideally looks like this:\n",
        "<img src=\"https://blog.paperspace.com/content/images/2019/09/F1-02.large.jpg\" width=\"600\">\n",
        "\n",
        "Gradient descent is an iterative algorithm for finding the **local minimum** of a differentiable function.\n",
        "- Choose an initial value of $\\hat{\\theta}$ and a **learning rate** $r$.\n",
        "- For each iteration $k$, do:\n",
        "$$\\hat{\\theta} \\leftarrow \\hat{\\theta} - r\\cdot\\frac{\\partial J(\\hat{\\theta})}{\\partial \\theta}.$$\n",
        "- The partial derivative of the cost function is given by\n",
        "$$\n",
        "\\frac{\\partial J(\\hat{\\theta})}{\\partial \\theta} = \\frac{2}{m}\\cdot\\textbf{X}^T\\cdot(\\textbf{X}\\cdot\\theta - \\textbf{y}).\n",
        "$$\n",
        "- **Verify the formula of partial derivative asuuming there is one input feature.**\n",
        "\n",
        "- End iteration if certain stop criteria is reached, such as:\n",
        "    - Value of $\\hat{\\theta}$ becomes stable.\n",
        "    - Certain iteration amount is reached."
      ]
    },
    {
      "cell_type": "code",
      "metadata": {
        "id": "clRpPwu-x1Yp",
        "outputId": "2b5ad0bc-65c1-496d-e84f-5fb3e47c27ac",
        "colab": {
          "base_uri": "https://localhost:8080/"
        }
      },
      "source": [
        "# Choose a random initial value for each parameter.\n",
        "np.random.seed(1234) \n",
        "theta = np.random.randn(4, 1)\n",
        "print(theta)"
      ],
      "execution_count": 52,
      "outputs": [
        {
          "output_type": "stream",
          "name": "stdout",
          "text": [
            "[[0.47144]\n",
            " [-1.19098]\n",
            " [1.43271]\n",
            " [-0.31265]]\n"
          ]
        }
      ]
    },
    {
      "cell_type": "code",
      "source": [
        "def MSE_cost(theta, X, y):\n",
        "    m = X.shape[0]\n",
        "    M = X.dot(theta) - y\n",
        "    return 1/m * M.T.dot(M)\n",
        "\n",
        "print(\"Initial cost:\", MSE_cost(theta, X, y))"
      ],
      "metadata": {
        "id": "irpo2zsSsO-W",
        "outputId": "44dcb341-4567-4426-fc65-43c19473c859",
        "colab": {
          "base_uri": "https://localhost:8080/"
        }
      },
      "execution_count": 53,
      "outputs": [
        {
          "output_type": "stream",
          "name": "stdout",
          "text": [
            "Initial cost: [[38993.12749]]\n"
          ]
        }
      ]
    },
    {
      "cell_type": "code",
      "metadata": {
        "id": "-yP5gFqHx1bM",
        "outputId": "a8237e41-8e6d-47e8-a9d4-dd2a504542c0",
        "colab": {
          "base_uri": "https://localhost:8080/"
        }
      },
      "source": [
        "# Perform gradient descent once.\n",
        "# Choose a learning rate r\n",
        "r = 1e-5 # r = 0.00001\n",
        "\n",
        "# 1. Calculate the gradient\n",
        "m = len(training_set)\n",
        "gradient = 2/m * X.T.dot(X.dot(theta) - y)\n",
        "print(gradient)\n",
        "\n",
        "# 2. Update the parameters\n",
        "theta = theta - r * gradient\n",
        "print(theta)\n",
        "\n",
        "\n",
        "# 3. (optional) Show the MSE cost with new parameter values\n",
        "\n",
        "\n",
        "MSE_cost(theta, X, y)"
      ],
      "execution_count": 54,
      "outputs": [
        {
          "output_type": "stream",
          "name": "stdout",
          "text": [
            "[[-331.93480]\n",
            " [-67217.85919]\n",
            " [-7517.28993]\n",
            " [-10831.49185]]\n",
            "[[0.47475]\n",
            " [-0.51880]\n",
            " [1.50788]\n",
            " [-0.20434]]\n"
          ]
        },
        {
          "output_type": "execute_result",
          "data": {
            "text/plain": [
              "array([[6379.51930]])"
            ]
          },
          "metadata": {},
          "execution_count": 54
        }
      ]
    },
    {
      "cell_type": "code",
      "metadata": {
        "id": "NPqDCTznx1dq",
        "outputId": "6b302480-e9e4-4b76-d332-54df3e41a9e8",
        "colab": {
          "base_uri": "https://localhost:8080/"
        }
      },
      "source": [
        "# Perform gradient descent multiple times\n",
        "r = 0.00001\n",
        "np.random.seed(1234) \n",
        "theta = np.random.randn(4, 1)\n",
        "print(theta)\n",
        "\n",
        "MSEs = [] # store the intermediate MSEs\n",
        "num_iterations = 50000\n",
        "\n",
        "for i in range(num_iterations):\n",
        "\n",
        "    gradient = 2/m * X.T.dot(X.dot(theta) - y)\n",
        "    theta = theta - r * gradient\n",
        "\n",
        "    if i % 1000 == 0:\n",
        "        print(\"Iteration:\", i)\n",
        "        print(\"Gradient:\\n\", gradient)\n",
        "        print(\"New theta:\\n\", theta)\n",
        "        MSE = MSE_cost(theta, X, y)\n",
        "        print(\"New cost:\", MSE)\n",
        "        MSEs.append(MSE[0][0])\n"
      ],
      "execution_count": 75,
      "outputs": [
        {
          "output_type": "stream",
          "name": "stdout",
          "text": [
            "[[0.47144]\n",
            " [-1.19098]\n",
            " [1.43271]\n",
            " [-0.31265]]\n",
            "Iteration: 0\n",
            "Gradient:\n",
            " [[-331.93480]\n",
            " [-67217.85919]\n",
            " [-7517.28993]\n",
            " [-10831.49185]]\n",
            "New theta:\n",
            " [[0.47475]\n",
            " [-0.51880]\n",
            " [1.50788]\n",
            " [-0.20434]]\n",
            "New cost: [[6379.51930]]\n",
            "Iteration: 1000\n",
            "Gradient:\n",
            " [[-0.63692]\n",
            " [-0.28380]\n",
            " [8.80359]\n",
            " [-4.77894]]\n",
            "New theta:\n",
            " [[0.47003]\n",
            " [0.05177]\n",
            " [0.24278]\n",
            " [-0.00087]]\n",
            "New cost: [[3.82924]]\n",
            "Iteration: 2000\n",
            "Gradient:\n",
            " [[-0.70608]\n",
            " [-0.00397]\n",
            " [0.18929]\n",
            " [-0.09441]]\n",
            "New theta:\n",
            " [[0.47693]\n",
            " [0.05247]\n",
            " [0.22055]\n",
            " [0.01113]]\n",
            "New cost: [[3.69583]]\n",
            "Iteration: 3000\n",
            "Gradient:\n",
            " [[-0.70548]\n",
            " [0.00179]\n",
            " [0.01185]\n",
            " [0.00206]]\n",
            "New theta:\n",
            " [[0.48399]\n",
            " [0.05247]\n",
            " [0.22001]\n",
            " [0.01134]]\n",
            "New cost: [[3.69078]]\n",
            "Iteration: 4000\n",
            "Gradient:\n",
            " [[-0.70345]\n",
            " [0.00190]\n",
            " [0.00817]\n",
            " [0.00403]]\n",
            "New theta:\n",
            " [[0.49104]\n",
            " [0.05245]\n",
            " [0.21992]\n",
            " [0.01130]]\n",
            "New cost: [[3.68581]]\n",
            "Iteration: 5000\n",
            "Gradient:\n",
            " [[-0.70139]\n",
            " [0.00190]\n",
            " [0.00807]\n",
            " [0.00406]]\n",
            "New theta:\n",
            " [[0.49806]\n",
            " [0.05243]\n",
            " [0.21984]\n",
            " [0.01126]]\n",
            "New cost: [[3.68088]]\n",
            "Iteration: 6000\n",
            "Gradient:\n",
            " [[-0.69934]\n",
            " [0.00189]\n",
            " [0.00805]\n",
            " [0.00405]]\n",
            "New theta:\n",
            " [[0.50506]\n",
            " [0.05241]\n",
            " [0.21976]\n",
            " [0.01122]]\n",
            "New cost: [[3.67597]]\n",
            "Iteration: 7000\n",
            "Gradient:\n",
            " [[-0.69729]\n",
            " [0.00189]\n",
            " [0.00802]\n",
            " [0.00404]]\n",
            "New theta:\n",
            " [[0.51205]\n",
            " [0.05239]\n",
            " [0.21968]\n",
            " [0.01118]]\n",
            "New cost: [[3.67110]]\n",
            "Iteration: 8000\n",
            "Gradient:\n",
            " [[-0.69525]\n",
            " [0.00188]\n",
            " [0.00800]\n",
            " [0.00403]]\n",
            "New theta:\n",
            " [[0.51901]\n",
            " [0.05237]\n",
            " [0.21960]\n",
            " [0.01114]]\n",
            "New cost: [[3.66625]]\n",
            "Iteration: 9000\n",
            "Gradient:\n",
            " [[-0.69322]\n",
            " [0.00188]\n",
            " [0.00798]\n",
            " [0.00401]]\n",
            "New theta:\n",
            " [[0.52595]\n",
            " [0.05235]\n",
            " [0.21952]\n",
            " [0.01110]]\n",
            "New cost: [[3.66143]]\n",
            "Iteration: 10000\n",
            "Gradient:\n",
            " [[-0.69119]\n",
            " [0.00187]\n",
            " [0.00795]\n",
            " [0.00400]]\n",
            "New theta:\n",
            " [[0.53288]\n",
            " [0.05233]\n",
            " [0.21944]\n",
            " [0.01106]]\n",
            "New cost: [[3.65664]]\n",
            "Iteration: 11000\n",
            "Gradient:\n",
            " [[-0.68917]\n",
            " [0.00187]\n",
            " [0.00793]\n",
            " [0.00399]]\n",
            "New theta:\n",
            " [[0.53978]\n",
            " [0.05232]\n",
            " [0.21936]\n",
            " [0.01102]]\n",
            "New cost: [[3.65187]]\n",
            "Iteration: 12000\n",
            "Gradient:\n",
            " [[-0.68715]\n",
            " [0.00186]\n",
            " [0.00791]\n",
            " [0.00398]]\n",
            "New theta:\n",
            " [[0.54666]\n",
            " [0.05230]\n",
            " [0.21928]\n",
            " [0.01098]]\n",
            "New cost: [[3.64713]]\n",
            "Iteration: 13000\n",
            "Gradient:\n",
            " [[-0.68514]\n",
            " [0.00186]\n",
            " [0.00788]\n",
            " [0.00397]]\n",
            "New theta:\n",
            " [[0.55352]\n",
            " [0.05228]\n",
            " [0.21920]\n",
            " [0.01094]]\n",
            "New cost: [[3.64243]]\n",
            "Iteration: 14000\n",
            "Gradient:\n",
            " [[-0.68314]\n",
            " [0.00185]\n",
            " [0.00786]\n",
            " [0.00396]]\n",
            "New theta:\n",
            " [[0.56036]\n",
            " [0.05226]\n",
            " [0.21913]\n",
            " [0.01090]]\n",
            "New cost: [[3.63774]]\n",
            "Iteration: 15000\n",
            "Gradient:\n",
            " [[-0.68114]\n",
            " [0.00184]\n",
            " [0.00784]\n",
            " [0.00394]]\n",
            "New theta:\n",
            " [[0.56718]\n",
            " [0.05224]\n",
            " [0.21905]\n",
            " [0.01086]]\n",
            "New cost: [[3.63309]]\n",
            "Iteration: 16000\n",
            "Gradient:\n",
            " [[-0.67915]\n",
            " [0.00184]\n",
            " [0.00782]\n",
            " [0.00393]]\n",
            "New theta:\n",
            " [[0.57398]\n",
            " [0.05222]\n",
            " [0.21897]\n",
            " [0.01082]]\n",
            "New cost: [[3.62846]]\n",
            "Iteration: 17000\n",
            "Gradient:\n",
            " [[-0.67716]\n",
            " [0.00183]\n",
            " [0.00779]\n",
            " [0.00392]]\n",
            "New theta:\n",
            " [[0.58077]\n",
            " [0.05221]\n",
            " [0.21889]\n",
            " [0.01078]]\n",
            "New cost: [[3.62386]]\n",
            "Iteration: 18000\n",
            "Gradient:\n",
            " [[-0.67518]\n",
            " [0.00183]\n",
            " [0.00777]\n",
            " [0.00391]]\n",
            "New theta:\n",
            " [[0.58753]\n",
            " [0.05219]\n",
            " [0.21881]\n",
            " [0.01075]]\n",
            "New cost: [[3.61929]]\n",
            "Iteration: 19000\n",
            "Gradient:\n",
            " [[-0.67321]\n",
            " [0.00182]\n",
            " [0.00775]\n",
            " [0.00390]]\n",
            "New theta:\n",
            " [[0.59427]\n",
            " [0.05217]\n",
            " [0.21874]\n",
            " [0.01071]]\n",
            "New cost: [[3.61475]]\n",
            "Iteration: 20000\n",
            "Gradient:\n",
            " [[-0.67124]\n",
            " [0.00182]\n",
            " [0.00772]\n",
            " [0.00389]]\n",
            "New theta:\n",
            " [[0.60099]\n",
            " [0.05215]\n",
            " [0.21866]\n",
            " [0.01067]]\n",
            "New cost: [[3.61023]]\n",
            "Iteration: 21000\n",
            "Gradient:\n",
            " [[-0.66927]\n",
            " [0.00181]\n",
            " [0.00770]\n",
            " [0.00388]]\n",
            "New theta:\n",
            " [[0.60769]\n",
            " [0.05213]\n",
            " [0.21858]\n",
            " [0.01063]]\n",
            "New cost: [[3.60573]]\n",
            "Iteration: 22000\n",
            "Gradient:\n",
            " [[-0.66732]\n",
            " [0.00181]\n",
            " [0.00768]\n",
            " [0.00386]]\n",
            "New theta:\n",
            " [[0.61438]\n",
            " [0.05211]\n",
            " [0.21850]\n",
            " [0.01059]]\n",
            "New cost: [[3.60127]]\n",
            "Iteration: 23000\n",
            "Gradient:\n",
            " [[-0.66536]\n",
            " [0.00180]\n",
            " [0.00766]\n",
            " [0.00385]]\n",
            "New theta:\n",
            " [[0.62104]\n",
            " [0.05210]\n",
            " [0.21843]\n",
            " [0.01055]]\n",
            "New cost: [[3.59682]]\n",
            "Iteration: 24000\n",
            "Gradient:\n",
            " [[-0.66342]\n",
            " [0.00180]\n",
            " [0.00763]\n",
            " [0.00384]]\n",
            "New theta:\n",
            " [[0.62768]\n",
            " [0.05208]\n",
            " [0.21835]\n",
            " [0.01051]]\n",
            "New cost: [[3.59241]]\n",
            "Iteration: 25000\n",
            "Gradient:\n",
            " [[-0.66148]\n",
            " [0.00179]\n",
            " [0.00761]\n",
            " [0.00383]]\n",
            "New theta:\n",
            " [[0.63431]\n",
            " [0.05206]\n",
            " [0.21827]\n",
            " [0.01047]]\n",
            "New cost: [[3.58802]]\n",
            "Iteration: 26000\n",
            "Gradient:\n",
            " [[-0.65954]\n",
            " [0.00179]\n",
            " [0.00759]\n",
            " [0.00382]]\n",
            "New theta:\n",
            " [[0.64091]\n",
            " [0.05204]\n",
            " [0.21820]\n",
            " [0.01044]]\n",
            "New cost: [[3.58366]]\n",
            "Iteration: 27000\n",
            "Gradient:\n",
            " [[-0.65761]\n",
            " [0.00178]\n",
            " [0.00757]\n",
            " [0.00381]]\n",
            "New theta:\n",
            " [[0.64750]\n",
            " [0.05202]\n",
            " [0.21812]\n",
            " [0.01040]]\n",
            "New cost: [[3.57932]]\n",
            "Iteration: 28000\n",
            "Gradient:\n",
            " [[-0.65569]\n",
            " [0.00178]\n",
            " [0.00755]\n",
            " [0.00380]]\n",
            "New theta:\n",
            " [[0.65407]\n",
            " [0.05201]\n",
            " [0.21805]\n",
            " [0.01036]]\n",
            "New cost: [[3.57501]]\n",
            "Iteration: 29000\n",
            "Gradient:\n",
            " [[-0.65377]\n",
            " [0.00177]\n",
            " [0.00752]\n",
            " [0.00379]]\n",
            "New theta:\n",
            " [[0.66061]\n",
            " [0.05199]\n",
            " [0.21797]\n",
            " [0.01032]]\n",
            "New cost: [[3.57072]]\n",
            "Iteration: 30000\n",
            "Gradient:\n",
            " [[-0.65186]\n",
            " [0.00176]\n",
            " [0.00750]\n",
            " [0.00377]]\n",
            "New theta:\n",
            " [[0.66714]\n",
            " [0.05197]\n",
            " [0.21790]\n",
            " [0.01028]]\n",
            "New cost: [[3.56646]]\n",
            "Iteration: 31000\n",
            "Gradient:\n",
            " [[-0.64995]\n",
            " [0.00176]\n",
            " [0.00748]\n",
            " [0.00376]]\n",
            "New theta:\n",
            " [[0.67365]\n",
            " [0.05195]\n",
            " [0.21782]\n",
            " [0.01025]]\n",
            "New cost: [[3.56222]]\n",
            "Iteration: 32000\n",
            "Gradient:\n",
            " [[-0.64805]\n",
            " [0.00175]\n",
            " [0.00746]\n",
            " [0.00375]]\n",
            "New theta:\n",
            " [[0.68014]\n",
            " [0.05194]\n",
            " [0.21775]\n",
            " [0.01021]]\n",
            "New cost: [[3.55801]]\n",
            "Iteration: 33000\n",
            "Gradient:\n",
            " [[-0.64616]\n",
            " [0.00175]\n",
            " [0.00744]\n",
            " [0.00374]]\n",
            "New theta:\n",
            " [[0.68661]\n",
            " [0.05192]\n",
            " [0.21767]\n",
            " [0.01017]]\n",
            "New cost: [[3.55382]]\n",
            "Iteration: 34000\n",
            "Gradient:\n",
            " [[-0.64427]\n",
            " [0.00174]\n",
            " [0.00741]\n",
            " [0.00373]]\n",
            "New theta:\n",
            " [[0.69306]\n",
            " [0.05190]\n",
            " [0.21760]\n",
            " [0.01013]]\n",
            "New cost: [[3.54965]]\n",
            "Iteration: 35000\n",
            "Gradient:\n",
            " [[-0.64238]\n",
            " [0.00174]\n",
            " [0.00739]\n",
            " [0.00372]]\n",
            "New theta:\n",
            " [[0.69950]\n",
            " [0.05188]\n",
            " [0.21752]\n",
            " [0.01010]]\n",
            "New cost: [[3.54552]]\n",
            "Iteration: 36000\n",
            "Gradient:\n",
            " [[-0.64050]\n",
            " [0.00173]\n",
            " [0.00737]\n",
            " [0.00371]]\n",
            "New theta:\n",
            " [[0.70591]\n",
            " [0.05187]\n",
            " [0.21745]\n",
            " [0.01006]]\n",
            "New cost: [[3.54140]]\n",
            "Iteration: 37000\n",
            "Gradient:\n",
            " [[-0.63863]\n",
            " [0.00173]\n",
            " [0.00735]\n",
            " [0.00370]]\n",
            "New theta:\n",
            " [[0.71231]\n",
            " [0.05185]\n",
            " [0.21738]\n",
            " [0.01002]]\n",
            "New cost: [[3.53731]]\n",
            "Iteration: 38000\n",
            "Gradient:\n",
            " [[-0.63676]\n",
            " [0.00172]\n",
            " [0.00733]\n",
            " [0.00369]]\n",
            "New theta:\n",
            " [[0.71868]\n",
            " [0.05183]\n",
            " [0.21730]\n",
            " [0.00999]]\n",
            "New cost: [[3.53324]]\n",
            "Iteration: 39000\n",
            "Gradient:\n",
            " [[-0.63490]\n",
            " [0.00172]\n",
            " [0.00731]\n",
            " [0.00368]]\n",
            "New theta:\n",
            " [[0.72504]\n",
            " [0.05181]\n",
            " [0.21723]\n",
            " [0.00995]]\n",
            "New cost: [[3.52920]]\n",
            "Iteration: 40000\n",
            "Gradient:\n",
            " [[-0.63304]\n",
            " [0.00171]\n",
            " [0.00728]\n",
            " [0.00367]]\n",
            "New theta:\n",
            " [[0.73138]\n",
            " [0.05180]\n",
            " [0.21716]\n",
            " [0.00991]]\n",
            "New cost: [[3.52518]]\n",
            "Iteration: 41000\n",
            "Gradient:\n",
            " [[-0.63119]\n",
            " [0.00171]\n",
            " [0.00726]\n",
            " [0.00366]]\n",
            "New theta:\n",
            " [[0.73770]\n",
            " [0.05178]\n",
            " [0.21708]\n",
            " [0.00988]]\n",
            "New cost: [[3.52118]]\n",
            "Iteration: 42000\n",
            "Gradient:\n",
            " [[-0.62934]\n",
            " [0.00170]\n",
            " [0.00724]\n",
            " [0.00364]]\n",
            "New theta:\n",
            " [[0.74401]\n",
            " [0.05176]\n",
            " [0.21701]\n",
            " [0.00984]]\n",
            "New cost: [[3.51721]]\n",
            "Iteration: 43000\n",
            "Gradient:\n",
            " [[-0.62750]\n",
            " [0.00170]\n",
            " [0.00722]\n",
            " [0.00363]]\n",
            "New theta:\n",
            " [[0.75029]\n",
            " [0.05175]\n",
            " [0.21694]\n",
            " [0.00980]]\n",
            "New cost: [[3.51326]]\n",
            "Iteration: 44000\n",
            "Gradient:\n",
            " [[-0.62567]\n",
            " [0.00169]\n",
            " [0.00720]\n",
            " [0.00362]]\n",
            "New theta:\n",
            " [[0.75656]\n",
            " [0.05173]\n",
            " [0.21687]\n",
            " [0.00977]]\n",
            "New cost: [[3.50933]]\n",
            "Iteration: 45000\n",
            "Gradient:\n",
            " [[-0.62384]\n",
            " [0.00169]\n",
            " [0.00718]\n",
            " [0.00361]]\n",
            "New theta:\n",
            " [[0.76280]\n",
            " [0.05171]\n",
            " [0.21680]\n",
            " [0.00973]]\n",
            "New cost: [[3.50543]]\n",
            "Iteration: 46000\n",
            "Gradient:\n",
            " [[-0.62201]\n",
            " [0.00168]\n",
            " [0.00716]\n",
            " [0.00360]]\n",
            "New theta:\n",
            " [[0.76903]\n",
            " [0.05170]\n",
            " [0.21672]\n",
            " [0.00969]]\n",
            "New cost: [[3.50155]]\n",
            "Iteration: 47000\n",
            "Gradient:\n",
            " [[-0.62019]\n",
            " [0.00168]\n",
            " [0.00714]\n",
            " [0.00359]]\n",
            "New theta:\n",
            " [[0.77524]\n",
            " [0.05168]\n",
            " [0.21665]\n",
            " [0.00966]]\n",
            "New cost: [[3.49769]]\n",
            "Iteration: 48000\n",
            "Gradient:\n",
            " [[-0.61838]\n",
            " [0.00167]\n",
            " [0.00712]\n",
            " [0.00358]]\n",
            "New theta:\n",
            " [[0.78144]\n",
            " [0.05166]\n",
            " [0.21658]\n",
            " [0.00962]]\n",
            "New cost: [[3.49385]]\n",
            "Iteration: 49000\n",
            "Gradient:\n",
            " [[-0.61657]\n",
            " [0.00167]\n",
            " [0.00710]\n",
            " [0.00357]]\n",
            "New theta:\n",
            " [[0.78761]\n",
            " [0.05164]\n",
            " [0.21651]\n",
            " [0.00959]]\n",
            "New cost: [[3.49004]]\n"
          ]
        }
      ]
    },
    {
      "cell_type": "code",
      "source": [
        "# Calculate the MSE with different parameter values\n",
        "\n",
        "# Optimal parameter values:\n",
        "from sklearn.metrics import mean_squared_error\n",
        "y_pred = model2.predict(training_set[[\"TV\", \"radio\", \"newspaper\"]])\n",
        "MSE = mean_squared_error(training_set['sales'], y_pred)\n",
        "print(\"Optimal MSE:\", MSE)"
      ],
      "metadata": {
        "id": "5vCm7bh1vkxe",
        "outputId": "6879503a-16d1-47d7-cee4-ba1e9489c90f",
        "colab": {
          "base_uri": "https://localhost:8080/"
        }
      },
      "execution_count": 76,
      "outputs": [
        {
          "output_type": "stream",
          "name": "stdout",
          "text": [
            "Optimal MSE: 2.841059214607274\n"
          ]
        }
      ]
    },
    {
      "cell_type": "code",
      "source": [
        "MSEs"
      ],
      "metadata": {
        "id": "gaEh3t7jw2e1",
        "outputId": "94f21783-0c8d-457b-9a62-2fba92427614",
        "colab": {
          "base_uri": "https://localhost:8080/"
        }
      },
      "execution_count": 77,
      "outputs": [
        {
          "output_type": "execute_result",
          "data": {
            "text/plain": [
              "[6379.519303854328,\n",
              " 3.8292377648948506,\n",
              " 3.695826075779489,\n",
              " 3.690778710228286,\n",
              " 3.6858149476352913,\n",
              " 3.680880204419793,\n",
              " 3.6759742881158246,\n",
              " 3.6710970303177466,\n",
              " 3.666248263613418,\n",
              " 3.6614278215686475,\n",
              " 3.656635538721501,\n",
              " 3.6518712505766007,\n",
              " 3.647134793599502,\n",
              " 3.642426005211053,\n",
              " 3.637744723781832,\n",
              " 3.633090788626598,\n",
              " 3.628464039998771,\n",
              " 3.6238643190849467,\n",
              " 3.619291467999455,\n",
              " 3.614745329778927,\n",
              " 3.6102257483769224,\n",
              " 3.6057325686585573,\n",
              " 3.6012656363951896,\n",
              " 3.596824798259124,\n",
              " 3.5924099018183484,\n",
              " 3.588020795531297,\n",
              " 3.5836573287416558,\n",
              " 3.579319351673189,\n",
              " 3.575006715424589,\n",
              " 3.5707192719643843,\n",
              " 3.5664568741258433,\n",
              " 3.562219375601919,\n",
              " 3.5580066309402465,\n",
              " 3.5538184955381316,\n",
              " 3.5496548256375933,\n",
              " 3.5455154783204392,\n",
              " 3.541400311503339,\n",
              " 3.5373091839329676,\n",
              " 3.5332419551811447,\n",
              " 3.529198485640021,\n",
              " 3.525178636517278,\n",
              " 3.521182269831378,\n",
              " 3.517209248406811,\n",
              " 3.5132594358693985,\n",
              " 3.509332696641608,\n",
              " 3.5054288959378996,\n",
              " 3.501547899760097,\n",
              " 3.4976895748927963,\n",
              " 3.4938537888987824,\n",
              " 3.490040410114487]"
            ]
          },
          "metadata": {},
          "execution_count": 77
        }
      ]
    },
    {
      "cell_type": "code",
      "metadata": {
        "id": "0sfCU6C33reK",
        "outputId": "c34d438a-9f57-4329-9dd1-a59df4941dff",
        "colab": {
          "base_uri": "https://localhost:8080/",
          "height": 282
        }
      },
      "source": [
        "# Plot the learning curve.\n",
        "\n",
        "plt.plot(range(len(MSEs)-2), MSEs[2:], 'b.--')"
      ],
      "execution_count": 79,
      "outputs": [
        {
          "output_type": "execute_result",
          "data": {
            "text/plain": [
              "[<matplotlib.lines.Line2D at 0x7f940af008d0>]"
            ]
          },
          "metadata": {},
          "execution_count": 79
        },
        {
          "output_type": "display_data",
          "data": {
            "image/png": "[encoded data removed]",
            "text/plain": [
              "<Figure size 432x288 with 1 Axes>"
            ]
          },
          "metadata": {
            "needs_background": "light"
          }
        }
      ]
    },
    {
      "cell_type": "markdown",
      "metadata": {
        "id": "eXOFqVwlx1gQ"
      },
      "source": [
        "**Discussion**\n",
        "1. Change $r$ to 0.000001 and 1. Observe the MSE curve.\n",
        "2. Do the initial parameter values matter?\n",
        "3. How to determine when to stop the iteration?"
      ]
    },
    {
      "cell_type": "code",
      "metadata": {
        "id": "gEnnJd4Qx1ii"
      },
      "source": [
        ""
      ],
      "execution_count": null,
      "outputs": []
    },
    {
      "cell_type": "code",
      "metadata": {
        "id": "dVWfuoUHx1lB"
      },
      "source": [
        ""
      ],
      "execution_count": null,
      "outputs": []
    },
    {
      "cell_type": "code",
      "metadata": {
        "id": "SVfSS1dgx1np"
      },
      "source": [
        ""
      ],
      "execution_count": null,
      "outputs": []
    }
  ]
}